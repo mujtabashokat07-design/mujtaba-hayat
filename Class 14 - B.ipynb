{
 "cells": [
  {
   "cell_type": "code",
   "execution_count": 2,
   "id": "43608933-ca39-4455-867c-040f7fdd3f5c",
   "metadata": {},
   "outputs": [],
   "source": [
    "import random"
   ]
  },
  {
   "cell_type": "code",
   "execution_count": 21,
   "id": "2e5e7b8b-c1a9-4b7b-8e22-ddf1262e54b6",
   "metadata": {},
   "outputs": [
    {
     "name": "stdin",
     "output_type": "stream",
     "text": [
      "Enter Your Guess Number:  40\n"
     ]
    },
    {
     "name": "stdout",
     "output_type": "stream",
     "text": [
      "You Guess High\n",
      "Secert Number is 19\n"
     ]
    }
   ],
   "source": [
    "import random \n",
    "\n",
    "secertNumber = random.randrange(1,50)\n",
    "\n",
    "userGuess = int(input(\"Enter Your Guess Number: \"))\n",
    "\n",
    "if userGuess < secertNumber:\n",
    "    print(\"You Guess Low\")\n",
    "elif userGuess > secertNumber:\n",
    "    print(\"You Guess High\")\n",
    "else:\n",
    "    print(\"You Guess Correct Number\")\n",
    "\n",
    "print(f\"Secert Number is {secertNumber}\")"
   ]
  },
  {
   "cell_type": "code",
   "execution_count": 32,
   "id": "f8458125-e708-4b12-992f-5519465e191f",
   "metadata": {},
   "outputs": [
    {
     "name": "stdin",
     "output_type": "stream",
     "text": [
      "Enter a Minimum Value:  10\n",
      "Enter a Maximum Value:  1\n"
     ]
    },
    {
     "name": "stdout",
     "output_type": "stream",
     "text": [
      "Enter Minimum Value less than Maximum Value\n"
     ]
    }
   ],
   "source": [
    "minNum = int(input(\"Enter a Minimum Value: \"))\n",
    "maxNum = int(input(\"Enter a Maximum Value: \"))\n",
    "\n",
    "if minNum < maxNum:\n",
    "    secertNumber = random.randrange(minNum, maxNum)\n",
    "    \n",
    "    while True:\n",
    "        userGuess = int(input(\"Enter Your Guess Number: \"))\n",
    "        \n",
    "        if userGuess < secertNumber:\n",
    "            print(\"You Guess Low\")\n",
    "        elif userGuess > secertNumber:\n",
    "            print(\"You Guess High\")\n",
    "        else:\n",
    "            print(\"You Guess Correct Number\")\n",
    "            break\n",
    "else:\n",
    "    print(\"Enter Minimum Value less than Maximum Value\")\n"
   ]
  },
  {
   "cell_type": "code",
   "execution_count": 43,
   "id": "229aa262-c52c-4a48-b574-935aa0ce6135",
   "metadata": {},
   "outputs": [
    {
     "name": "stdin",
     "output_type": "stream",
     "text": [
      "Enter a Minimum Value:  1\n",
      "Enter a Maximum Value:  10\n",
      "Enter Your Guess Number:  h\n"
     ]
    },
    {
     "name": "stdout",
     "output_type": "stream",
     "text": [
      "Enter Only Number, Invalid Input Data Type\n"
     ]
    },
    {
     "name": "stdin",
     "output_type": "stream",
     "text": [
      "Enter Your Guess Number:  5\n"
     ]
    },
    {
     "name": "stdout",
     "output_type": "stream",
     "text": [
      "You Guess Low\n"
     ]
    },
    {
     "name": "stdin",
     "output_type": "stream",
     "text": [
      "Enter Your Guess Number:  7\n"
     ]
    },
    {
     "name": "stdout",
     "output_type": "stream",
     "text": [
      "You Guess High\n"
     ]
    },
    {
     "name": "stdin",
     "output_type": "stream",
     "text": [
      "Enter Your Guess Number:  6\n"
     ]
    },
    {
     "name": "stdout",
     "output_type": "stream",
     "text": [
      "You Guess Correct Number\n"
     ]
    }
   ],
   "source": [
    "while True:\n",
    "    minNum = int(input(\"Enter a Minimum Value: \"))\n",
    "    maxNum = int(input(\"Enter a Maximum Value: \"))\n",
    "\n",
    "    if minNum < maxNum:\n",
    "        secertNumber = random.randrange(minNum, maxNum)\n",
    "        \n",
    "        while True:\n",
    "            userGuess = input(\"Enter Your Guess Number: \")\n",
    "\n",
    "            if not userGuess.isdigit():\n",
    "                print(\"Enter Only Number, Invalid Input Data Type\")\n",
    "                continue\n",
    "            else:\n",
    "                userGuess = int(userGuess)\n",
    "                \n",
    "                if userGuess < secertNumber:\n",
    "                    print(\"You Guess Low\")\n",
    "                elif userGuess > secertNumber:\n",
    "                    print(\"You Guess High\")\n",
    "                else:\n",
    "                    print(\"You Guess Correct Number\")\n",
    "                    break\n",
    "    else:\n",
    "        print(\"Enter Minimum Value less than Maximum Value\")\n",
    "    break"
   ]
  },
  {
   "cell_type": "code",
   "execution_count": null,
   "id": "912605c2-2e5e-440c-a7e6-5cde8480fe7c",
   "metadata": {},
   "outputs": [
    {
     "name": "stdin",
     "output_type": "stream",
     "text": [
      "Enter a Minimum Value:  1\n",
      "Enter a Maximum Value:  10\n"
     ]
    },
    {
     "name": "stdout",
     "output_type": "stream",
     "text": [
      "You have 3 Lives Left to Guess Correct.\n"
     ]
    }
   ],
   "source": [
    "while True:\n",
    "    minNum = int(input(\"Enter a Minimum Value: \"))\n",
    "    maxNum = int(input(\"Enter a Maximum Value: \"))\n",
    "\n",
    "    chances = 3\n",
    "    \n",
    "    if minNum < maxNum:\n",
    "        secertNumber = random.randrange(minNum, maxNum)\n",
    "        \n",
    "        while chances <= 3:\n",
    "            print(f\"You have {chances} Lives Left to Guess Correct.\")\n",
    "            userGuess = input(\"Enter Your Guess Number: \")\n",
    "\n",
    "            if not userGuess.isdigit():\n",
    "                print(\"Enter Only Number, Invalid Input Data Type\")\n",
    "                continue\n",
    "            else:\n",
    "                userGuess = int(userGuess)\n",
    "                \n",
    "                if userGuess < secertNumber:\n",
    "                    print(\"You Guess Low\")\n",
    "                elif userGuess > secertNumber:\n",
    "                    print(\"You Guess High\")\n",
    "                else:\n",
    "                    print(\"You Guess Correct Number\")\n",
    "                    break\n",
    "            chances -=1\n",
    "\n",
    "            if chances == 0:\n",
    "                print(f\"You are Out of Lives, Secert Number is {secertNumber}\")\n",
    "                break\n",
    "    else:\n",
    "        print(\"Enter Minimum Value less than Maximum Value\")\n",
    "    break"
   ]
  },
  {
   "cell_type": "code",
   "execution_count": 12,
   "id": "72d1db35-2565-4128-8aeb-013a9a6e07c6",
   "metadata": {},
   "outputs": [
    {
     "name": "stdout",
     "output_type": "stream",
     "text": [
      "WELCOME TO MY NUMBER GUESSING GAME\n"
     ]
    },
    {
     "name": "stdin",
     "output_type": "stream",
     "text": [
      "Enter a Minimum Value:  1\n",
      "Enter a Maximum Value:  10\n"
     ]
    },
    {
     "name": "stdout",
     "output_type": "stream",
     "text": [
      "You selected Minimum Number 1 and Maximum Number 10\n"
     ]
    },
    {
     "name": "stdin",
     "output_type": "stream",
     "text": [
      "Enter Your Difficulty Level:\n",
      "EASY\n",
      "MEDIUM\n",
      "HARD:  medium\n"
     ]
    },
    {
     "name": "stdout",
     "output_type": "stream",
     "text": [
      "You selected medium difficulty.\n",
      "Now you have 7 lives to Guess the Correct Number.\n",
      "Your Maximum Number now is 60.\n",
      "You have 7 lives left to guess correctly.\n"
     ]
    },
    {
     "name": "stdin",
     "output_type": "stream",
     "text": [
      "Enter Your Guess Number:  a\n"
     ]
    },
    {
     "name": "stdout",
     "output_type": "stream",
     "text": [
      "Enter Only Numbers, Invalid Input Data Type.\n",
      "You have 7 lives left to guess correctly.\n"
     ]
    },
    {
     "name": "stdin",
     "output_type": "stream",
     "text": [
      "Enter Your Guess Number:  4\n"
     ]
    },
    {
     "name": "stdout",
     "output_type": "stream",
     "text": [
      "Your guess is too low.\n",
      "You have 6 lives left to guess correctly.\n"
     ]
    },
    {
     "name": "stdin",
     "output_type": "stream",
     "text": [
      "Enter Your Guess Number:  2\n"
     ]
    },
    {
     "name": "stdout",
     "output_type": "stream",
     "text": [
      "Your guess is too low.\n",
      "You have 5 lives left to guess correctly.\n"
     ]
    },
    {
     "name": "stdin",
     "output_type": "stream",
     "text": [
      "Enter Your Guess Number:  5\n"
     ]
    },
    {
     "name": "stdout",
     "output_type": "stream",
     "text": [
      "Your guess is too low.\n",
      "You have 4 lives left to guess correctly.\n"
     ]
    },
    {
     "name": "stdin",
     "output_type": "stream",
     "text": [
      "Enter Your Guess Number:  3\n"
     ]
    },
    {
     "name": "stdout",
     "output_type": "stream",
     "text": [
      "Your guess is too low.\n",
      "You have 3 lives left to guess correctly.\n"
     ]
    },
    {
     "name": "stdin",
     "output_type": "stream",
     "text": [
      "Enter Your Guess Number:  5\n"
     ]
    },
    {
     "name": "stdout",
     "output_type": "stream",
     "text": [
      "Your guess is too low.\n",
      "You have 2 lives left to guess correctly.\n"
     ]
    },
    {
     "name": "stdin",
     "output_type": "stream",
     "text": [
      "Enter Your Guess Number:  4\n"
     ]
    },
    {
     "name": "stdout",
     "output_type": "stream",
     "text": [
      "Your guess is too low.\n",
      "You have 1 lives left to guess correctly.\n"
     ]
    },
    {
     "name": "stdin",
     "output_type": "stream",
     "text": [
      "Enter Your Guess Number:  2\n"
     ]
    },
    {
     "name": "stdout",
     "output_type": "stream",
     "text": [
      "Your guess is too low.\n",
      "You are out of lives. The secret number was 53.\n"
     ]
    },
    {
     "name": "stdin",
     "output_type": "stream",
     "text": [
      "Do you want to play again? \n",
      "Yes\n",
      "No\n",
      " no\n"
     ]
    }
   ],
   "source": [
    "print(\"WELCOME TO MY NUMBER GUESSING GAME\")\n",
    "\n",
    "score = 0 \n",
    "\n",
    "while True:\n",
    "    minNum = int(input(\"Enter a Minimum Value: \"))\n",
    "    maxNum = int(input(\"Enter a Maximum Value: \"))\n",
    "    \n",
    "    print(f\"You selected Minimum Number {minNum} and Maximum Number {maxNum}\")\n",
    "    \n",
    "    userLevel = input(\"Enter Your Difficulty Level:\\nEASY\\nMEDIUM\\nHARD: \").lower()\n",
    "    \n",
    "    if userLevel == 'medium':\n",
    "        chances = 7\n",
    "        maxNum *= random.randint(2, 10)\n",
    "    elif userLevel == 'hard':\n",
    "        chances = 5\n",
    "        maxNum *= random.randint(7, 99)\n",
    "    else:\n",
    "        chances = 10\n",
    "        \n",
    "    print(f\"You selected {userLevel} difficulty.\\nNow you have {chances} lives to Guess the Correct Number.\\nYour Maximum Number now is {maxNum}.\")\n",
    "    \n",
    "    if minNum < maxNum:\n",
    "        secretNumber = random.randint(minNum, maxNum)\n",
    "        \n",
    "        while chances > 0:\n",
    "            print(f\"You have {chances} lives left to guess correctly.\")\n",
    "            userGuess = input(\"Enter Your Guess Number: \")\n",
    "\n",
    "            if not userGuess.isdigit():\n",
    "                print(\"Enter Only Numbers, Invalid Input Data Type.\")\n",
    "                continue\n",
    "            else:\n",
    "                userGuess = int(userGuess)\n",
    "                \n",
    "                if userGuess < secretNumber:\n",
    "                    print(\"Your guess is too low.\")\n",
    "                elif userGuess > secretNumber:\n",
    "                    print(\"Your guess is too high.\")\n",
    "                else:\n",
    "                    print(\"You guessed the correct number!\")\n",
    "                    print(f\"Your Tries Count: {score}\")\n",
    "                    break\n",
    "                    \n",
    "            chances -= 1\n",
    "            score += 1\n",
    "            \n",
    "            if chances == 0: \n",
    "                print(f\"You are out of lives. The secret number was {secretNumber}.\")\n",
    "                break\n",
    "\n",
    "        userChoice = input(\"Do you want to play again? \\nYes\\nNo\\n\").lower()\n",
    "        if userChoice != 'yes':\n",
    "            break \n",
    "    else:\n",
    "        print(\"Error: Minimum Value must be less than Maximum Value.\")\n",
    "        continue\n",
    "    break"
   ]
  },
  {
   "cell_type": "code",
   "execution_count": null,
   "id": "0aa1326b-228e-4ae5-9469-53660799e292",
   "metadata": {},
   "outputs": [],
   "source": []
  },
  {
   "cell_type": "code",
   "execution_count": null,
   "id": "f573659e-2ea1-4939-9c12-0af6b62c922d",
   "metadata": {},
   "outputs": [],
   "source": []
  },
  {
   "cell_type": "code",
   "execution_count": null,
   "id": "460a70d9-026b-4e36-acd7-74614aa7122e",
   "metadata": {},
   "outputs": [],
   "source": []
  },
  {
   "cell_type": "code",
   "execution_count": null,
   "id": "c9641bb2-0215-4849-95ab-0dfe51a84470",
   "metadata": {},
   "outputs": [],
   "source": []
  },
  {
   "cell_type": "code",
   "execution_count": null,
   "id": "a50f0ca0-fa32-483c-819c-59d5eb90f339",
   "metadata": {},
   "outputs": [],
   "source": []
  },
  {
   "cell_type": "code",
   "execution_count": null,
   "id": "e801b079-53ce-4503-a4c5-1e883574a506",
   "metadata": {},
   "outputs": [],
   "source": []
  },
  {
   "cell_type": "code",
   "execution_count": null,
   "id": "e9eaed3d-8e8d-453a-9445-ea3e9e8c1d46",
   "metadata": {},
   "outputs": [],
   "source": []
  },
  {
   "cell_type": "code",
   "execution_count": null,
   "id": "a424803c-51ce-4fa3-9ff9-40c12f4cabe7",
   "metadata": {},
   "outputs": [],
   "source": []
  }
 ],
 "metadata": {
  "kernelspec": {
   "display_name": "Python 3 (ipykernel)",
   "language": "python",
   "name": "python3"
  },
  "language_info": {
   "codemirror_mode": {
    "name": "ipython",
    "version": 3
   },
   "file_extension": ".py",
   "mimetype": "text/x-python",
   "name": "python",
   "nbconvert_exporter": "python",
   "pygments_lexer": "ipython3",
   "version": "3.13.5"
  }
 },
 "nbformat": 4,
 "nbformat_minor": 5
}
