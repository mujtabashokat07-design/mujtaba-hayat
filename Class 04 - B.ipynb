{
 "cells": [
  {
   "cell_type": "code",
   "execution_count": 2,
   "id": "a86feee1-7bc8-493c-ad7e-2a5ef28e7b5a",
   "metadata": {},
   "outputs": [],
   "source": [
    "# 'simple alphanumeric'\n",
    "# \"alphanumeric but with ' words can be included in this \"\n",
    "# \"\"\" alphanumeric \n",
    "# with\n",
    "# multi-line\"\"\"\n",
    "\n",
    "# '''alphanumeric \n",
    "# with\n",
    "# multi-line'''"
   ]
  },
  {
   "cell_type": "code",
   "execution_count": 3,
   "id": "072a829a-f972-4e59-a34c-e242ec9277ee",
   "metadata": {},
   "outputs": [],
   "source": [
    "text = \"APPLE\""
   ]
  },
  {
   "cell_type": "code",
   "execution_count": 4,
   "id": "fff9611c-166a-42bd-a3ba-064f01ec6cb1",
   "metadata": {},
   "outputs": [
    {
     "data": {
      "text/plain": [
       "5"
      ]
     },
     "execution_count": 4,
     "metadata": {},
     "output_type": "execute_result"
    }
   ],
   "source": [
    "len(text)"
   ]
  },
  {
   "cell_type": "code",
   "execution_count": 5,
   "id": "ef93a661-1fc7-4187-a5b6-9424ed138db2",
   "metadata": {},
   "outputs": [
    {
     "data": {
      "text/plain": [
       "'P'"
      ]
     },
     "execution_count": 5,
     "metadata": {},
     "output_type": "execute_result"
    }
   ],
   "source": [
    "text[1]"
   ]
  },
  {
   "cell_type": "code",
   "execution_count": null,
   "id": "38d109e0-df29-47d7-ab45-80877fe601af",
   "metadata": {},
   "outputs": [],
   "source": [
    "text[1:]"
   ]
  },
  {
   "cell_type": "code",
   "execution_count": null,
   "id": "f78ef452-ae5b-4da9-85a7-5a9bf23be07f",
   "metadata": {},
   "outputs": [],
   "source": []
  },
  {
   "cell_type": "code",
   "execution_count": null,
   "id": "0350cb44-97db-4554-ad97-61937d4e8da0",
   "metadata": {},
   "outputs": [],
   "source": []
  },
  {
   "cell_type": "code",
   "execution_count": null,
   "id": "bf141aec-5ec5-4c15-a3e2-09c7fce0a41f",
   "metadata": {},
   "outputs": [],
   "source": []
  },
  {
   "cell_type": "code",
   "execution_count": null,
   "id": "82a83166-32e7-4b39-8c05-96a368590899",
   "metadata": {},
   "outputs": [],
   "source": []
  },
  {
   "cell_type": "code",
   "execution_count": null,
   "id": "cc1be6f4-96b5-44e3-95ac-13d2a60e6fd8",
   "metadata": {},
   "outputs": [],
   "source": []
  },
  {
   "cell_type": "code",
   "execution_count": null,
   "id": "83a6645b-c25f-4f4d-a3b0-31688b614675",
   "metadata": {},
   "outputs": [],
   "source": []
  },
  {
   "cell_type": "code",
   "execution_count": null,
   "id": "8821270c-e114-43e2-8ec7-20dad799b4f4",
   "metadata": {},
   "outputs": [],
   "source": []
  },
  {
   "cell_type": "code",
   "execution_count": null,
   "id": "cd54d417-eac2-41f1-90a6-5fa53f98221e",
   "metadata": {},
   "outputs": [],
   "source": []
  },
  {
   "cell_type": "code",
   "execution_count": null,
   "id": "28cde800-ff30-4748-9dd2-1b65185931f6",
   "metadata": {},
   "outputs": [],
   "source": []
  },
  {
   "cell_type": "code",
   "execution_count": null,
   "id": "aa4cbbf5-329a-4b7d-aab6-eba34d89788b",
   "metadata": {},
   "outputs": [],
   "source": []
  },
  {
   "cell_type": "code",
   "execution_count": null,
   "id": "20c0d64a-d566-456e-93d3-7ddc86b5233f",
   "metadata": {},
   "outputs": [],
   "source": []
  },
  {
   "cell_type": "code",
   "execution_count": null,
   "id": "218b993d-8224-418a-8398-65f56a81c8bb",
   "metadata": {},
   "outputs": [],
   "source": []
  },
  {
   "cell_type": "code",
   "execution_count": null,
   "id": "d1c09dd8-b720-4e52-85ee-acc0044f1d2c",
   "metadata": {},
   "outputs": [],
   "source": []
  },
  {
   "cell_type": "code",
   "execution_count": null,
   "id": "5dc62c6b-67bb-451e-b535-b70595370a23",
   "metadata": {},
   "outputs": [],
   "source": []
  },
  {
   "cell_type": "code",
   "execution_count": null,
   "id": "043de203-cd74-4af3-9711-817dd911a021",
   "metadata": {},
   "outputs": [],
   "source": []
  },
  {
   "cell_type": "code",
   "execution_count": null,
   "id": "14b22307-cdb4-4eb6-b0bd-8bc2b424ef71",
   "metadata": {},
   "outputs": [],
   "source": []
  },
  {
   "cell_type": "code",
   "execution_count": null,
   "id": "4ae0350b-ed26-4d53-ad40-7daf29e600d0",
   "metadata": {},
   "outputs": [],
   "source": []
  },
  {
   "cell_type": "code",
   "execution_count": null,
   "id": "aa69d051-e155-4d5c-93d9-ab357f23a0a1",
   "metadata": {},
   "outputs": [],
   "source": []
  },
  {
   "cell_type": "code",
   "execution_count": null,
   "id": "b8c180c8-a4c8-4574-a1eb-8d67d0eb4ebb",
   "metadata": {},
   "outputs": [],
   "source": []
  },
  {
   "cell_type": "code",
   "execution_count": null,
   "id": "d21b9b51-922b-4d6c-83e8-f63a8dae0ba8",
   "metadata": {},
   "outputs": [],
   "source": []
  },
  {
   "cell_type": "code",
   "execution_count": null,
   "id": "a183edcb-fa84-450d-9d35-163e56d93102",
   "metadata": {},
   "outputs": [],
   "source": []
  },
  {
   "cell_type": "code",
   "execution_count": null,
   "id": "64b17a28-4bd6-421d-959f-1c8536facbe6",
   "metadata": {},
   "outputs": [],
   "source": []
  },
  {
   "cell_type": "code",
   "execution_count": null,
   "id": "ff093d2c-08b3-4ee8-afa6-8281ce88407f",
   "metadata": {},
   "outputs": [],
   "source": []
  },
  {
   "cell_type": "code",
   "execution_count": null,
   "id": "b23bdbe7-0a0b-4424-8cfd-567de44a55da",
   "metadata": {},
   "outputs": [],
   "source": []
  }
 ],
 "metadata": {
  "kernelspec": {
   "display_name": "Python 3 (ipykernel)",
   "language": "python",
   "name": "python3"
  },
  "language_info": {
   "codemirror_mode": {
    "name": "ipython",
    "version": 3
   },
   "file_extension": ".py",
   "mimetype": "text/x-python",
   "name": "python",
   "nbconvert_exporter": "python",
   "pygments_lexer": "ipython3",
   "version": "3.13.5"
  }
 },
 "nbformat": 4,
 "nbformat_minor": 5
}
