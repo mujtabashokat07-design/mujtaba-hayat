{
 "cells": [
  {
   "cell_type": "code",
   "execution_count": null,
   "id": "3b123b58-1807-48d1-b9c9-6944dba69476",
   "metadata": {},
   "outputs": [],
   "source": [
    "Data Types\n",
    "\n",
    "String = \" ABCD 1234 !@#$ \"\n",
    "Int = -+1234567890\n",
    "Float = -+1234567890.0987654321"
   ]
  },
  {
   "cell_type": "code",
   "execution_count": 7,
   "id": "b56f3e19-8098-44fa-b15d-57e2c41a023a",
   "metadata": {},
   "outputs": [
    {
     "name": "stdout",
     "output_type": "stream",
     "text": [
      "its\n",
      "it's\n",
      "it\n",
      "is an apple\n",
      "it\n",
      "is an apple\n"
     ]
    }
   ],
   "source": [
    "print('its')\n",
    "print(\"it's\")\n",
    "print('''it\n",
    "is an apple''')\n",
    "print(\"\"\"it\n",
    "is an apple\"\"\")"
   ]
  },
  {
   "cell_type": "code",
   "execution_count": 11,
   "id": "7a176d8f-76cb-4d41-9982-61bb8293daa0",
   "metadata": {},
   "outputs": [
    {
     "name": "stdout",
     "output_type": "stream",
     "text": [
      "Variable it\n"
     ]
    }
   ],
   "source": [
    "var = \"it\"\n",
    "print(\"Variable\",var)"
   ]
  },
  {
   "cell_type": "code",
   "execution_count": 12,
   "id": "69f83031-8ae6-4776-8258-2c0eb9105f11",
   "metadata": {},
   "outputs": [
    {
     "data": {
      "text/plain": [
       "str"
      ]
     },
     "execution_count": 12,
     "metadata": {},
     "output_type": "execute_result"
    }
   ],
   "source": [
    "type(var)"
   ]
  },
  {
   "cell_type": "code",
   "execution_count": 20,
   "id": "9beb0eaa-74cc-4741-9473-c6921ada8002",
   "metadata": {},
   "outputs": [
    {
     "name": "stdout",
     "output_type": "stream",
     "text": [
      "254\n"
     ]
    }
   ],
   "source": [
    "_254 = +254\n",
    "print(_254)"
   ]
  },
  {
   "cell_type": "code",
   "execution_count": 21,
   "id": "68455729-0ab2-4838-b9aa-43c9615d2afe",
   "metadata": {},
   "outputs": [
    {
     "data": {
      "text/plain": [
       "int"
      ]
     },
     "execution_count": 21,
     "metadata": {},
     "output_type": "execute_result"
    }
   ],
   "source": [
    "type(_254)"
   ]
  },
  {
   "cell_type": "code",
   "execution_count": 15,
   "id": "f2049708-b9b6-444d-b76c-04e40d610248",
   "metadata": {},
   "outputs": [
    {
     "name": "stdout",
     "output_type": "stream",
     "text": [
      "254.452\n"
     ]
    }
   ],
   "source": [
    "_254 = 254.452\n",
    "print(_254)"
   ]
  },
  {
   "cell_type": "code",
   "execution_count": 16,
   "id": "054f4d84-4cc9-4ef8-8090-8692e9dbf8fa",
   "metadata": {},
   "outputs": [
    {
     "data": {
      "text/plain": [
       "float"
      ]
     },
     "execution_count": 16,
     "metadata": {},
     "output_type": "execute_result"
    }
   ],
   "source": [
    "type(_254)"
   ]
  },
  {
   "cell_type": "code",
   "execution_count": 17,
   "id": "168c4083-7876-4d2a-bb32-7501c41edb19",
   "metadata": {},
   "outputs": [],
   "source": [
    "A, B, C, D = \"A\", \"B\", \"C\", \"D\""
   ]
  },
  {
   "cell_type": "code",
   "execution_count": 22,
   "id": "6a6735ba-aec7-4f60-90ff-45734657d39e",
   "metadata": {},
   "outputs": [
    {
     "name": "stdout",
     "output_type": "stream",
     "text": [
      "A\n"
     ]
    }
   ],
   "source": [
    "print(A)"
   ]
  },
  {
   "cell_type": "code",
   "execution_count": 23,
   "id": "996240a9-cbfd-4fdc-8849-d916a243bd7d",
   "metadata": {},
   "outputs": [
    {
     "name": "stdout",
     "output_type": "stream",
     "text": [
      "B\n"
     ]
    }
   ],
   "source": [
    "print(B)"
   ]
  },
  {
   "cell_type": "code",
   "execution_count": 24,
   "id": "cc5367e6-6915-42c2-9410-9c16f6b9ca1d",
   "metadata": {},
   "outputs": [
    {
     "name": "stdout",
     "output_type": "stream",
     "text": [
      "C\n"
     ]
    }
   ],
   "source": [
    "print(C)"
   ]
  },
  {
   "cell_type": "code",
   "execution_count": 25,
   "id": "71eb35b6-1681-4928-b6c1-fd77b5392b3b",
   "metadata": {},
   "outputs": [
    {
     "name": "stdout",
     "output_type": "stream",
     "text": [
      "D\n"
     ]
    }
   ],
   "source": [
    "print(D)"
   ]
  },
  {
   "cell_type": "code",
   "execution_count": 26,
   "id": "2df9d35c-0f8e-4de5-ac08-7b124dc632ff",
   "metadata": {},
   "outputs": [
    {
     "name": "stdout",
     "output_type": "stream",
     "text": [
      "A B C D\n"
     ]
    }
   ],
   "source": [
    "print(A,B,C,D)"
   ]
  },
  {
   "cell_type": "code",
   "execution_count": 27,
   "id": "18e4b41f-8227-4121-a981-b6d3d3f0e9b9",
   "metadata": {},
   "outputs": [],
   "source": [
    "word, num_int, num_float = \"ABC@123\", 123, 123.321"
   ]
  },
  {
   "cell_type": "code",
   "execution_count": 31,
   "id": "0f616621-bfa3-411e-b904-3fbe27d14d50",
   "metadata": {},
   "outputs": [
    {
     "name": "stdout",
     "output_type": "stream",
     "text": [
      "ABC@123\n",
      "123\n",
      "123.321\n"
     ]
    }
   ],
   "source": [
    "print(word)\n",
    "print(num_int)\n",
    "print(num_float)"
   ]
  },
  {
   "cell_type": "code",
   "execution_count": 37,
   "id": "292ddb56-f63a-43ac-8b8a-1bb1ed3ae6c8",
   "metadata": {},
   "outputs": [
    {
     "name": "stdin",
     "output_type": "stream",
     "text": [
      "Enter Your Name ALI\n"
     ]
    }
   ],
   "source": [
    "name = input(\"Enter Your Name\")"
   ]
  },
  {
   "cell_type": "code",
   "execution_count": 38,
   "id": "ed53bc7c-df52-45a2-bb2f-cfe237c21390",
   "metadata": {},
   "outputs": [
    {
     "name": "stdout",
     "output_type": "stream",
     "text": [
      "ALI\n"
     ]
    }
   ],
   "source": [
    "print(name)"
   ]
  },
  {
   "cell_type": "code",
   "execution_count": 42,
   "id": "1b3b3434-3427-4abc-be8f-1694c107f415",
   "metadata": {},
   "outputs": [
    {
     "name": "stdin",
     "output_type": "stream",
     "text": [
      "Enter Number 5\n"
     ]
    }
   ],
   "source": [
    "num1 = int(input(\"Enter Number\"))"
   ]
  },
  {
   "cell_type": "code",
   "execution_count": 43,
   "id": "63c87fb5-efb0-407c-8b78-05ea63737bcb",
   "metadata": {},
   "outputs": [
    {
     "name": "stdout",
     "output_type": "stream",
     "text": [
      "5\n"
     ]
    }
   ],
   "source": [
    "print(num1)"
   ]
  },
  {
   "cell_type": "code",
   "execution_count": 44,
   "id": "5be3ad79-5c1c-4862-8e0d-a1081ba3c0a6",
   "metadata": {},
   "outputs": [
    {
     "data": {
      "text/plain": [
       "int"
      ]
     },
     "execution_count": 44,
     "metadata": {},
     "output_type": "execute_result"
    }
   ],
   "source": [
    "type(num1)"
   ]
  },
  {
   "cell_type": "code",
   "execution_count": 48,
   "id": "28b11084-9223-4e18-8c38-7672f28e4215",
   "metadata": {},
   "outputs": [
    {
     "name": "stdin",
     "output_type": "stream",
     "text": [
      "Enter Number 45\n"
     ]
    }
   ],
   "source": [
    "num1 = float(input(\"Enter Number\"))"
   ]
  },
  {
   "cell_type": "code",
   "execution_count": 49,
   "id": "a01af337-107e-4794-873b-3d27581ace8e",
   "metadata": {},
   "outputs": [
    {
     "data": {
      "text/plain": [
       "float"
      ]
     },
     "execution_count": 49,
     "metadata": {},
     "output_type": "execute_result"
    }
   ],
   "source": [
    "type(num1)"
   ]
  },
  {
   "cell_type": "code",
   "execution_count": 50,
   "id": "dfd212d9-555e-4d24-a25b-6e854eae271e",
   "metadata": {},
   "outputs": [
    {
     "name": "stdout",
     "output_type": "stream",
     "text": [
      "45.0\n"
     ]
    }
   ],
   "source": [
    "print(num1)"
   ]
  },
  {
   "cell_type": "code",
   "execution_count": null,
   "id": "8dc9e5f3-c05a-4851-8f47-ead1dc8708d3",
   "metadata": {},
   "outputs": [],
   "source": []
  }
 ],
 "metadata": {
  "kernelspec": {
   "display_name": "Python 3 (ipykernel)",
   "language": "python",
   "name": "python3"
  },
  "language_info": {
   "codemirror_mode": {
    "name": "ipython",
    "version": 3
   },
   "file_extension": ".py",
   "mimetype": "text/x-python",
   "name": "python",
   "nbconvert_exporter": "python",
   "pygments_lexer": "ipython3",
   "version": "3.13.5"
  }
 },
 "nbformat": 4,
 "nbformat_minor": 5
}
