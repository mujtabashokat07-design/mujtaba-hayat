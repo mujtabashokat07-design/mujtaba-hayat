{
 "cells": [
  {
   "cell_type": "code",
   "execution_count": 2,
   "id": "80b79864-a7f0-4b59-ae01-2b61d75a2297",
   "metadata": {},
   "outputs": [
    {
     "name": "stdout",
     "output_type": "stream",
     "text": [
      "Mujtaba hayat\n"
     ]
    }
   ],
   "source": [
    "text = \"mujtaba HAYAT\"\n",
    "print(text.capitalize())"
   ]
  },
  {
   "cell_type": "code",
   "execution_count": null,
   "id": "4275177b-c7c7-48a5-849e-d596b71a2955",
   "metadata": {},
   "outputs": [],
   "source": [
    "/#makes the first letter uppercase and the rest lowercase"
   ]
  },
  {
   "cell_type": "code",
   "execution_count": 6,
   "id": "bb4b08e3-04c5-4651-a026-71b8b47d2d5b",
   "metadata": {},
   "outputs": [
    {
     "name": "stdout",
     "output_type": "stream",
     "text": [
      "mujtaba\n"
     ]
    }
   ],
   "source": [
    "text = \"muJtAba\"\n",
    "print(text.casefold())"
   ]
  },
  {
   "cell_type": "code",
   "execution_count": null,
   "id": "ba85d031-f031-4ebc-a8f9-c18742799646",
   "metadata": {},
   "outputs": [],
   "source": [
    "/#Converts the entire string to lowercase for case insensitive comparisons more aggressive than lower"
   ]
  },
  {
   "cell_type": "code",
   "execution_count": 10,
   "id": "f4dc900e-7801-40d4-a7ca-b20f953dce3c",
   "metadata": {},
   "outputs": [
    {
     "name": "stdout",
     "output_type": "stream",
     "text": [
      "                     mujtaba                      \n"
     ]
    }
   ],
   "source": [
    "text = \"mujtaba\"\n",
    "print(text.center(50))"
   ]
  },
  {
   "cell_type": "code",
   "execution_count": null,
   "id": "3911e2ba-ac27-4098-9eac-785d481b8e44",
   "metadata": {},
   "outputs": [],
   "source": [
    "/#Centers the string in a given width using spaces or a specified character"
   ]
  },
  {
   "cell_type": "code",
   "execution_count": 16,
   "id": "42a2ffac-3a32-4013-a6f9-094c89bcb5e9",
   "metadata": {},
   "outputs": [
    {
     "name": "stdout",
     "output_type": "stream",
     "text": [
      "2\n"
     ]
    }
   ],
   "source": [
    "text = \"mujtaba mujtaba ukasha hassan\"\n",
    "print(text.count(\"mujtaba\"))"
   ]
  },
  {
   "cell_type": "code",
   "execution_count": null,
   "id": "e096a403-6c19-4408-a55f-c5d6a3c225d7",
   "metadata": {},
   "outputs": [],
   "source": [
    "/#Counts how many times a specified value appears in the string"
   ]
  },
  {
   "cell_type": "code",
   "execution_count": 17,
   "id": "a65c5bc4-7f68-4bb9-a0bd-b0dd6dd78355",
   "metadata": {},
   "outputs": [
    {
     "name": "stdout",
     "output_type": "stream",
     "text": [
      "b'hello'\n"
     ]
    }
   ],
   "source": [
    "text = \"hello\"\n",
    "encoded_text = text.encode()\n",
    "print(encoded_text) "
   ]
  },
  {
   "cell_type": "code",
   "execution_count": 18,
   "id": "a3dd8c9d-b992-41bd-92ca-68e730c5e888",
   "metadata": {},
   "outputs": [
    {
     "name": "stdout",
     "output_type": "stream",
     "text": [
      "b'mujtaba'\n"
     ]
    }
   ],
   "source": [
    "text = \"mujtaba\"\n",
    "encoded_text = text.encode()\n",
    "print(encoded_text)"
   ]
  },
  {
   "cell_type": "code",
   "execution_count": null,
   "id": "658b26cd-d4e0-4c22-9ea3-33f03979d373",
   "metadata": {},
   "outputs": [],
   "source": [
    "/#Converts a string into bytes using a specified encoding"
   ]
  },
  {
   "cell_type": "code",
   "execution_count": 20,
   "id": "e55c6fd4-51bd-4590-883f-14d0c28e681b",
   "metadata": {},
   "outputs": [
    {
     "name": "stdout",
     "output_type": "stream",
     "text": [
      "True\n",
      "False\n"
     ]
    }
   ],
   "source": [
    "text = \"hello sir\"\n",
    "print(text.endswith(\"sir\"))\n",
    "print(text.endswith(\"hello\"))"
   ]
  },
  {
   "cell_type": "code",
   "execution_count": null,
   "id": "a63a4368-1612-4d3b-9fd2-edf5d2c4e3d7",
   "metadata": {},
   "outputs": [],
   "source": [
    "/#Returns True if the string ends With the specified substring otherwise returns false"
   ]
  },
  {
   "cell_type": "code",
   "execution_count": 31,
   "id": "8e1f4bf2-4347-464a-8d80-07051b6d1070",
   "metadata": {},
   "outputs": [
    {
     "name": "stdout",
     "output_type": "stream",
     "text": [
      "hello                    guys\n"
     ]
    }
   ],
   "source": [
    "text = \"hello\\tguys\"\n",
    "print(text.expandtabs(25)) "
   ]
  },
  {
   "cell_type": "code",
   "execution_count": null,
   "id": "1e31f0cd-0188-48c2-b6a5-c0916d326028",
   "metadata": {},
   "outputs": [],
   "source": [
    "/#Replaces tabs in a string with spaces using a specified tab size"
   ]
  },
  {
   "cell_type": "code",
   "execution_count": 32,
   "id": "3ffe5cd9-6fc2-4882-9261-49f33885210b",
   "metadata": {},
   "outputs": [
    {
     "name": "stdout",
     "output_type": "stream",
     "text": [
      "6\n",
      "-1\n"
     ]
    }
   ],
   "source": [
    "text = \"hello assigment\"\n",
    "print(text.find(\"assigment\"))  \n",
    "print(text.find(\"pakistan\"))"
   ]
  },
  {
   "cell_type": "code",
   "execution_count": null,
   "id": "75b5643b-af03-4876-9f5a-4ad622096ea0",
   "metadata": {},
   "outputs": [],
   "source": [
    "/#Returns the index of the first occurrence of a specified substring in a string returns -1 if not found"
   ]
  },
  {
   "cell_type": "code",
   "execution_count": 35,
   "id": "cbb8c168-80a3-46b8-8c26-db6c8bb6ac27",
   "metadata": {},
   "outputs": [
    {
     "name": "stdout",
     "output_type": "stream",
     "text": [
      "My name is mujtaba and I am 18 years old.\n"
     ]
    }
   ],
   "source": [
    "name = \"mujtaba\"\n",
    "age = 18\n",
    "print(\"My name is {} and I am {} years old.\".format(name,age))"
   ]
  },
  {
   "cell_type": "code",
   "execution_count": null,
   "id": "5f56269f-407e-4513-978b-14f09d4c3e9f",
   "metadata": {},
   "outputs": [],
   "source": [
    "/#Inserts values into placeholders in a string to create a formatted message"
   ]
  },
  {
   "cell_type": "code",
   "execution_count": 37,
   "id": "b0921f8e-905e-455a-906b-beb652356123",
   "metadata": {},
   "outputs": [
    {
     "name": "stdout",
     "output_type": "stream",
     "text": [
      "My name is mujtaba and I am 18 years old.\n"
     ]
    }
   ],
   "source": [
    "data = {'name': 'mujtaba', 'age': 18}\n",
    "print(\"My name is {name} and I am {age} years old.\".format_map(data))"
   ]
  },
  {
   "cell_type": "code",
   "execution_count": null,
   "id": "3e10fc1c-4e2d-49d4-8dd2-48a4a5e2511f",
   "metadata": {},
   "outputs": [],
   "source": [
    "/# format map Formats a string using a dictionary by replacing placeholders with corresponding key"
   ]
  },
  {
   "cell_type": "code",
   "execution_count": 41,
   "id": "fbbb932c-15ab-4fd5-9fa4-8b1e85e71d4b",
   "metadata": {},
   "outputs": [
    {
     "name": "stdout",
     "output_type": "stream",
     "text": [
      "6\n",
      "0\n"
     ]
    }
   ],
   "source": [
    "text = \"hello dell\"\n",
    "print(text.index(\"dell\"))\n",
    "print(text.index(\"hello\"))  "
   ]
  },
  {
   "cell_type": "code",
   "execution_count": null,
   "id": "da460041-4a1f-4a04-b31e-cb25ca04149c",
   "metadata": {},
   "outputs": [],
   "source": [
    "/#Returns the position of the first occurrence of a specified value in a string; raises an error if not found"
   ]
  },
  {
   "cell_type": "code",
   "execution_count": 43,
   "id": "fc9154db-0f49-4128-8a24-751830ff72f6",
   "metadata": {},
   "outputs": [
    {
     "name": "stdout",
     "output_type": "stream",
     "text": [
      "True\n",
      "False\n",
      "False\n"
     ]
    }
   ],
   "source": [
    "print(\"mujtaba123\".isalnum())  \n",
    "print(\"1@#$%\".isalnum())   \n",
    "print(\"hello mujtaba\".isalnum())  "
   ]
  },
  {
   "cell_type": "code",
   "execution_count": null,
   "id": "3cfe0ca0-68f4-4df1-87b5-fc8c1983aa14",
   "metadata": {},
   "outputs": [],
   "source": [
    "/# .isalnum () Returns True if a string contains only letters and numbers no spaces or special characters"
   ]
  },
  {
   "cell_type": "code",
   "execution_count": 4,
   "id": "a7b3fc22-d7cc-4fb8-b914-64afbb2b7930",
   "metadata": {},
   "outputs": [
    {
     "name": "stdout",
     "output_type": "stream",
     "text": [
      "True\n",
      "False\n"
     ]
    }
   ],
   "source": [
    "print(\"Hello!\".isascii())  \n",
    "print(\"coffé\".isascii())        "
   ]
  },
  {
   "cell_type": "code",
   "execution_count": null,
   "id": "430b7adc-47cd-4574-aa7b-a77ac840e9cc",
   "metadata": {},
   "outputs": [],
   "source": [
    "/#isascii() Returns True if all characters in the string are standard ASCII otherwise returns False"
   ]
  },
  {
   "cell_type": "code",
   "execution_count": 10,
   "id": "bd75df8c-01ad-46fd-8b79-133e5e210cbc",
   "metadata": {},
   "outputs": [
    {
     "name": "stdout",
     "output_type": "stream",
     "text": [
      "True\n",
      "True\n",
      "False\n",
      "False\n"
     ]
    }
   ],
   "source": [
    "print(\"456\".isdecimal())     \n",
    "print(\"987\".isdecimal())      \n",
    "print(\"456,78\".isdecimal())   \n",
    "print(\"12.4\".isdecimal())       "
   ]
  },
  {
   "cell_type": "code",
   "execution_count": null,
   "id": "232b363f-8565-46fd-ba37-351c306cd0b3",
   "metadata": {},
   "outputs": [],
   "source": [
    "/#isdecimal() Returns True if all characters in the string are decimal digits 0 9 only"
   ]
  },
  {
   "cell_type": "code",
   "execution_count": 13,
   "id": "15c21ebb-81b0-4a47-9589-0cd3ccfc6417",
   "metadata": {},
   "outputs": [
    {
     "name": "stdout",
     "output_type": "stream",
     "text": [
      "True\n",
      "True\n",
      "False\n",
      "False\n"
     ]
    }
   ],
   "source": [
    "print(\"456\".isdigit())    \n",
    "print(\"45\".isdigit())      \n",
    "print(\"123.45\".isdigit())   \n",
    "print(\"ab.c\".isdigit())      "
   ]
  },
  {
   "cell_type": "code",
   "execution_count": null,
   "id": "e8455491-792e-4d89-a770-850813d44efb",
   "metadata": {},
   "outputs": [],
   "source": [
    "/#isdigit() Returns True if all characters in the string are digits including 0 9 "
   ]
  },
  {
   "cell_type": "code",
   "execution_count": 18,
   "id": "e1825a98-78db-49c0-92fd-ef05f2c19ea2",
   "metadata": {},
   "outputs": [
    {
     "name": "stdout",
     "output_type": "stream",
     "text": [
      "True\n",
      "False\n",
      "False\n",
      "True\n"
     ]
    }
   ],
   "source": [
    "print(\"my_home\".isidentifier())  \n",
    "print(\"123name\".isidentifier())      \n",
    "print(\"user name\".isidentifier())     \n",
    "print(\"worker\".isidentifier())"
   ]
  },
  {
   "cell_type": "code",
   "execution_count": null,
   "id": "89aacaa3-1d0d-498b-af6f-223a7becf1d4",
   "metadata": {},
   "outputs": [],
   "source": [
    "/#isidentifier()  Returns True if the string is a valid Python identifier used variable function names"
   ]
  },
  {
   "cell_type": "code",
   "execution_count": 20,
   "id": "eb232e7f-d126-4025-810c-bf74a993b86e",
   "metadata": {},
   "outputs": [
    {
     "name": "stdout",
     "output_type": "stream",
     "text": [
      "True\n",
      "False\n",
      "True\n",
      "False\n"
     ]
    }
   ],
   "source": [
    "print(\"mujtaba\".islower())     \n",
    "print(\"MUJTABA\".islower())     \n",
    "print(\"234mujtaba\".islower())\n",
    "print(\"456\".islower())        \n"
   ]
  },
  {
   "cell_type": "code",
   "execution_count": null,
   "id": "99b152c0-5576-4ca1-b610-e9f43fd6b234",
   "metadata": {},
   "outputs": [],
   "source": [
    "/#islower() Returns True if all alphabetic characters in the string are lowercase"
   ]
  },
  {
   "cell_type": "code",
   "execution_count": 22,
   "id": "48d18816-2cf6-46e1-bae8-9d26d57b22ab",
   "metadata": {},
   "outputs": [
    {
     "name": "stdout",
     "output_type": "stream",
     "text": [
      "True\n",
      "False\n",
      "True\n",
      "False\n"
     ]
    }
   ],
   "source": [
    "print(\"123\".isnumeric())    \n",
    "print(\"2.3\".isnumeric())       \n",
    "print(\"25\".isnumeric())      \n",
    "print(\"12abc\".isnumeric())"
   ]
  },
  {
   "cell_type": "code",
   "execution_count": null,
   "id": "99991dce-1241-4faa-901c-90de8d773d05",
   "metadata": {},
   "outputs": [],
   "source": [
    "/#isnumeric()  Returns True if all characters in the string are numeric e.g digits fractions superscripts)"
   ]
  },
  {
   "cell_type": "code",
   "execution_count": 31,
   "id": "8a5df67d-0781-4011-b05f-0efa638cdd1f",
   "metadata": {},
   "outputs": [
    {
     "name": "stdout",
     "output_type": "stream",
     "text": [
      "True\n",
      "False\n",
      "True\n"
     ]
    }
   ],
   "source": [
    "print(\"Hello World!\".isprintable())   \n",
    "print(\"Line1\\nLine2\".isprintable())   \n",
    "print(\"123 456\".isprintable())   "
   ]
  },
  {
   "cell_type": "code",
   "execution_count": null,
   "id": "5e372997-c585-4e58-b96e-62dfa0008f47",
   "metadata": {},
   "outputs": [],
   "source": [
    "/#isprintable()  Returns True if all characters in the string are printable visible otherwise returns False"
   ]
  },
  {
   "cell_type": "code",
   "execution_count": 36,
   "id": "a90a4e6c-3db3-4cdf-b3eb-55cd2851a1d8",
   "metadata": {},
   "outputs": [
    {
     "name": "stdout",
     "output_type": "stream",
     "text": [
      "False\n",
      "True\n",
      "False\n"
     ]
    }
   ],
   "source": [
    "print(\"\".isspace())      \n",
    "print(\"\\t \\n\".isspace())     \n",
    "print(\"hello mujtaba\".isspace()) \n"
   ]
  },
  {
   "cell_type": "code",
   "execution_count": null,
   "id": "4b6ab616-ed47-4fef-88f3-8a2a6ad0c02e",
   "metadata": {},
   "outputs": [],
   "source": [
    "/# isspace() Returns True if all characters in the string are whitespace spaces tabs newlines"
   ]
  },
  {
   "cell_type": "code",
   "execution_count": 39,
   "id": "598df3ed-44a1-4140-a7bd-a9ecbe15c064",
   "metadata": {},
   "outputs": [
    {
     "name": "stdout",
     "output_type": "stream",
     "text": [
      "True\n",
      "False\n",
      "False\n",
      "False\n"
     ]
    }
   ],
   "source": [
    "print(\"Mujtaba\".istitle())     \n",
    "print(\"MUJTABA\".istitle())     \n",
    "print(\"mujtaba\".istitle())     \n",
    "print(\"123mujtaba\".istitle()) "
   ]
  },
  {
   "cell_type": "code",
   "execution_count": null,
   "id": "387eecab-986f-4da1-a8a5-5ead04762e77",
   "metadata": {},
   "outputs": [],
   "source": [
    "/# istitle() Returns True if the string is in title case meaning each word starts with an uppercase letter"
   ]
  },
  {
   "cell_type": "code",
   "execution_count": 41,
   "id": "2edbaf54-b6df-4c65-8231-636fc9add90a",
   "metadata": {},
   "outputs": [
    {
     "name": "stdout",
     "output_type": "stream",
     "text": [
      "True\n",
      "False\n",
      "True\n",
      "False\n"
     ]
    }
   ],
   "source": [
    "print(\"MUJTABA\".isupper())       \n",
    "print(\"Mujtaba\".isupper())       \n",
    "print(\"123MUJTABA\".isupper())    \n",
    "print(\"123\".isupper())    "
   ]
  },
  {
   "cell_type": "code",
   "execution_count": null,
   "id": "6ff3dc23-2448-4c03-b7d9-e277b1bf0173",
   "metadata": {},
   "outputs": [],
   "source": [
    "/# isupper() Returns True if all alphabetic characters in the string are uppercase"
   ]
  },
  {
   "cell_type": "code",
   "execution_count": 45,
   "id": "33349b83-dca1-4a2e-bb0e-06f67728dc99",
   "metadata": {},
   "outputs": [
    {
     "name": "stdout",
     "output_type": "stream",
     "text": [
      "mujtaba  hayat\n"
     ]
    }
   ],
   "source": [
    "words = [\"mujtaba\", \"hayat\"]\n",
    "result = \"  \".join(words)\n",
    "print(result)"
   ]
  },
  {
   "cell_type": "code",
   "execution_count": null,
   "id": "8bd97cba-389a-47e8-a0bc-85e15653c6ef",
   "metadata": {},
   "outputs": [],
   "source": [
    "/# join() Combines elements of an iterable into one string using the original string as a separator"
   ]
  },
  {
   "cell_type": "code",
   "execution_count": 63,
   "id": "902d237d-588f-464f-be3f-6880490552a9",
   "metadata": {},
   "outputs": [
    {
     "name": "stdout",
     "output_type": "stream",
     "text": [
      "mujtaba                  \n",
      "mujtaba*************\n"
     ]
    }
   ],
   "source": [
    "text = \"mujtaba\"\n",
    "print(text.ljust(25))       \n",
    "print(text.ljust(20, '*')) "
   ]
  },
  {
   "cell_type": "code",
   "execution_count": null,
   "id": "7840ed28-03cf-4339-a546-a1a22609e7ca",
   "metadata": {},
   "outputs": [],
   "source": [
    "/# ljust()  Returns the string left-aligned in a given width padding the right side with spaces or a specified"
   ]
  },
  {
   "cell_type": "code",
   "execution_count": 65,
   "id": "69dc6f28-f95a-4f69-b81a-41cd2eb02e11",
   "metadata": {},
   "outputs": [
    {
     "name": "stdout",
     "output_type": "stream",
     "text": [
      "mujtaba hayat*\n"
     ]
    }
   ],
   "source": [
    "text = \"MUJTABA HAYAT*\"\n",
    "print(text.lower())  "
   ]
  },
  {
   "cell_type": "code",
   "execution_count": null,
   "id": "ef84bed5-0eae-4bd8-940f-1316d97a49d2",
   "metadata": {},
   "outputs": [],
   "source": [
    "/# lower() Converts all uppercase letters in a string to lowercase"
   ]
  },
  {
   "cell_type": "code",
   "execution_count": 75,
   "id": "fc851938-170a-4ac5-bfbf-4f1ff4710245",
   "metadata": {},
   "outputs": [
    {
     "name": "stdout",
     "output_type": "stream",
     "text": [
      "hello mujtaba  \n",
      "mujtaba---\n"
     ]
    }
   ],
   "source": [
    "text = \"   hello mujtaba  \"\n",
    "print(text.lstrip())       \n",
    "\n",
    "text2 = \"---mujtaba---\"\n",
    "print(text2.lstrip(\"-\"))  "
   ]
  },
  {
   "cell_type": "code",
   "execution_count": null,
   "id": "42c493cc-1fb9-440f-90bd-10f36a0930f0",
   "metadata": {},
   "outputs": [],
   "source": [
    "/# lstrip() Removes whitespace or specified characters from the beginning left side of the string"
   ]
  },
  {
   "cell_type": "code",
   "execution_count": 76,
   "id": "338c01ce-fcbf-42a0-84cd-33150c33520e",
   "metadata": {},
   "outputs": [
    {
     "name": "stdout",
     "output_type": "stream",
     "text": [
      "789789\n"
     ]
    }
   ],
   "source": [
    "table = str.maketrans(\"xyz\", \"789\")\n",
    "text = \"xyzxyz\"\n",
    "print(text.translate(table))  "
   ]
  },
  {
   "cell_type": "code",
   "execution_count": null,
   "id": "8438289a-6c35-469d-a879-cdaf89c22e36",
   "metadata": {},
   "outputs": [],
   "source": [
    "/# maketrans() Creates a mapping table for character toc haracter translation used with translate"
   ]
  },
  {
   "cell_type": "code",
   "execution_count": 77,
   "id": "d8091b36-e7af-479c-b391-4f7143b0cb20",
   "metadata": {},
   "outputs": [
    {
     "name": "stdout",
     "output_type": "stream",
     "text": [
      "('mujtaba', ' ', 'hayat')\n"
     ]
    }
   ],
   "source": [
    "text = \"mujtaba hayat\"\n",
    "result = text.partition(\" \")\n",
    "print(result)  "
   ]
  },
  {
   "cell_type": "code",
   "execution_count": null,
   "id": "dbb91a52-2a9f-499f-b4ef-2a7ee77330e9",
   "metadata": {},
   "outputs": [],
   "source": [
    "/# sir ye samajh nahi aaya"
   ]
  },
  {
   "cell_type": "code",
   "execution_count": 78,
   "id": "105ed9ea-d9e0-4663-a371-006eebdfc5e5",
   "metadata": {},
   "outputs": [
    {
     "name": "stdout",
     "output_type": "stream",
     "text": [
      "I like bike\n"
     ]
    }
   ],
   "source": [
    "text = \"I like car\"\n",
    "new_text = text.replace(\"car\", \"bike\")\n",
    "print(new_text)  "
   ]
  },
  {
   "cell_type": "code",
   "execution_count": null,
   "id": "453067c2-afde-46b6-a911-478e7e2378de",
   "metadata": {},
   "outputs": [],
   "source": [
    "/#replace() Replaces all occurrences of a specified value with another value in a string"
   ]
  },
  {
   "cell_type": "code",
   "execution_count": 79,
   "id": "c6162433-5220-4933-b902-201fa3d963f4",
   "metadata": {},
   "outputs": [
    {
     "name": "stdout",
     "output_type": "stream",
     "text": [
      "15\n"
     ]
    }
   ],
   "source": [
    "text = \"mujtaba hayat, mujtaba\"\n",
    "pos = text.rfind(\"mujtaba\")\n",
    "print(pos)  "
   ]
  },
  {
   "cell_type": "code",
   "execution_count": null,
   "id": "52edd9da-ffd4-4e19-abd0-0fb6680bcf1f",
   "metadata": {},
   "outputs": [],
   "source": [
    "/# rfind() Returns the highest index last position of the specified substring in the string; returns -1 if not found"
   ]
  },
  {
   "cell_type": "code",
   "execution_count": 82,
   "id": "fdfe5b0e-451c-4669-845b-61ea5ac3648f",
   "metadata": {},
   "outputs": [
    {
     "name": "stdout",
     "output_type": "stream",
     "text": [
      "14\n"
     ]
    }
   ],
   "source": [
    "text = \"mujtaba hayat,mujtaba\"\n",
    "pos = text.rindex(\"mujtaba\")\n",
    "print(pos)"
   ]
  },
  {
   "cell_type": "code",
   "execution_count": null,
   "id": "fedd2086-24a6-4d86-b10e-3c64dd53b16f",
   "metadata": {},
   "outputs": [],
   "source": [
    "/# rindex() Returns the last position of a specified value in the string; raises an error if the value is not found"
   ]
  },
  {
   "cell_type": "code",
   "execution_count": 84,
   "id": "e7fd1569-4a0e-40e2-9223-371290513f99",
   "metadata": {},
   "outputs": [
    {
     "name": "stdout",
     "output_type": "stream",
     "text": [
      "             mujtaba\n",
      "__________________mujtaba\n"
     ]
    }
   ],
   "source": [
    "text = \"mujtaba\"\n",
    "print(text.rjust(20))        \n",
    "print(text.rjust(25, '_'))"
   ]
  },
  {
   "cell_type": "code",
   "execution_count": null,
   "id": "f5502130-01d3-4f72-a3c0-f073e5ef1e04",
   "metadata": {},
   "outputs": [],
   "source": [
    "/# rjust() Returns the string right aligned in a given width padding the left side with spaces or a specified character"
   ]
  },
  {
   "cell_type": "code",
   "execution_count": 95,
   "id": "d3406e0f-88c5-40a8-95af-d74de72b1125",
   "metadata": {},
   "outputs": [
    {
     "name": "stdout",
     "output_type": "stream",
     "text": [
      "['mujtaba', 'irani', 'ukasha', 'hayat']\n"
     ]
    }
   ],
   "source": [
    "text = \"mujtaba,irani,ukasha,hayat\"\n",
    "result = text.rsplit(\",\", 500)\n",
    "print(result)"
   ]
  },
  {
   "cell_type": "code",
   "execution_count": null,
   "id": "c8d16ca3-cc72-4322-adef-dae2b0969d52",
   "metadata": {},
   "outputs": [],
   "source": [
    "/# rsplit() Splits a string from the right at a specified separator and returns a list of parts"
   ]
  },
  {
   "cell_type": "code",
   "execution_count": 99,
   "id": "13cf1776-e6e5-4145-af89-ec6f4d243194",
   "metadata": {},
   "outputs": [
    {
     "name": "stdout",
     "output_type": "stream",
     "text": [
      "mujtaba\n",
      "hayat\n"
     ]
    }
   ],
   "source": [
    "text = \"mujtaba           \"\n",
    "print(text.rstrip())       \n",
    "\n",
    "text2 = \"hayat-------------\"\n",
    "print(text2.rstrip(\"-\"))"
   ]
  },
  {
   "cell_type": "code",
   "execution_count": null,
   "id": "35f6f811-dbae-4b87-b9e3-8f44b9a493ee",
   "metadata": {},
   "outputs": [],
   "source": [
    "/# rstrip() Removes all trailing right side whitespace or specified characters from the end of the string"
   ]
  },
  {
   "cell_type": "code",
   "execution_count": 103,
   "id": "497ca2f3-7243-46f1-9388-400caf8239e4",
   "metadata": {},
   "outputs": [
    {
     "name": "stdout",
     "output_type": "stream",
     "text": [
      "['mujtaba', 'hayat', 'shaikh']\n"
     ]
    }
   ],
   "source": [
    "text = \"mujtaba,hayat,shaikh\"\n",
    "result = text.split(\",\")\n",
    "print(result)"
   ]
  },
  {
   "cell_type": "code",
   "execution_count": null,
   "id": "d9a32532-38e9-4b75-9ab5-4baf4d626e74",
   "metadata": {},
   "outputs": [],
   "source": [
    "/# split() Divides a string into parts using a specified separator and returns a list of those parts"
   ]
  },
  {
   "cell_type": "code",
   "execution_count": 109,
   "id": "febf8b5c-c69c-406b-a670-966dc652a401",
   "metadata": {},
   "outputs": [
    {
     "name": "stdout",
     "output_type": "stream",
     "text": [
      "['mujtaba', 'hayat', 'shaikh']\n"
     ]
    }
   ],
   "source": [
    "text = \"mujtaba\\nhayat\\nshaikh\"\n",
    "lines = text.splitlines()\n",
    "print(lines) "
   ]
  },
  {
   "cell_type": "code",
   "execution_count": null,
   "id": "4ea30ac6-fd4d-4d00-8204-c1b9c7e52443",
   "metadata": {},
   "outputs": [],
   "source": [
    "/# splitlines() Splits a string into a list at line breaks"
   ]
  },
  {
   "cell_type": "code",
   "execution_count": 113,
   "id": "f794e7c9-924b-49da-987a-f2efeb05619f",
   "metadata": {},
   "outputs": [
    {
     "name": "stdout",
     "output_type": "stream",
     "text": [
      "True\n",
      "False\n"
     ]
    }
   ],
   "source": [
    "text = \"mujtaba hayat\"\n",
    "print(text.startswith(\"mujtaba\"))  \n",
    "print(text.startswith(\"hayat\"))"
   ]
  },
  {
   "cell_type": "code",
   "execution_count": null,
   "id": "5a0cd7e2-263c-4b76-82c2-99d4f9c505ce",
   "metadata": {},
   "outputs": [],
   "source": [
    "/# startswith() Checks if a string begins with a specified value and returns True or False"
   ]
  },
  {
   "cell_type": "code",
   "execution_count": 116,
   "id": "166c0fd4-0898-4144-a4e4-2afe87c64636",
   "metadata": {},
   "outputs": [
    {
     "name": "stdout",
     "output_type": "stream",
     "text": [
      "Mujtaba Hayat\n"
     ]
    }
   ],
   "source": [
    "text = \"      Mujtaba Hayat           \"\n",
    "print(text.strip()) "
   ]
  },
  {
   "cell_type": "code",
   "execution_count": null,
   "id": "ac0b91c1-8667-481f-9d2c-c05c345e63a7",
   "metadata": {},
   "outputs": [],
   "source": [
    "/# strip() Removes whitespace or specified characters from both ends of a string"
   ]
  },
  {
   "cell_type": "code",
   "execution_count": 119,
   "id": "4548dc16-7c2e-4b74-b850-575ead2d044a",
   "metadata": {},
   "outputs": [
    {
     "name": "stdout",
     "output_type": "stream",
     "text": [
      "mUjtAbA hAyAt\n"
     ]
    }
   ],
   "source": [
    "text = \"MuJTaBa HaYaT\"\n",
    "print(text.swapcase())   "
   ]
  },
  {
   "cell_type": "code",
   "execution_count": null,
   "id": "372f0656-6f6f-4d35-8d4b-dc727d7c3576",
   "metadata": {},
   "outputs": [],
   "source": [
    "/# swapcase()  Converts uppercase letters to lowercase and lowercase letters to uppercase in a string"
   ]
  },
  {
   "cell_type": "code",
   "execution_count": 121,
   "id": "1d4df427-6bd8-4725-b738-28ebbefe8318",
   "metadata": {},
   "outputs": [
    {
     "name": "stdout",
     "output_type": "stream",
     "text": [
      "Mujtaba Hayat\n"
     ]
    }
   ],
   "source": [
    "text = \"mujtaba hayat\"\n",
    "print(text.title()) "
   ]
  },
  {
   "cell_type": "code",
   "execution_count": null,
   "id": "8a298311-b157-4d80-a052-aa3ad8ef9f64",
   "metadata": {},
   "outputs": [],
   "source": [
    "/# title() Converts the first letter of each word in a string to uppercase"
   ]
  },
  {
   "cell_type": "code",
   "execution_count": 123,
   "id": "2860c7d2-e87b-438a-8fe0-041e821868b2",
   "metadata": {},
   "outputs": [
    {
     "name": "stdout",
     "output_type": "stream",
     "text": [
      "mujmuj\n"
     ]
    }
   ],
   "source": [
    "able = str.maketrans(\"muj\", \"789\")\n",
    "text = \"mujmuj\"\n",
    "print(text.translate(table))"
   ]
  },
  {
   "cell_type": "code",
   "execution_count": null,
   "id": "39a6a153-d114-4531-91ec-1cedef6a90c5",
   "metadata": {},
   "outputs": [],
   "source": [
    "/# translate() — Replaces characters in a string based on a translation table and returns the new string"
   ]
  },
  {
   "cell_type": "code",
   "execution_count": 125,
   "id": "4686bf89-0fac-4224-aceb-476548bdc049",
   "metadata": {},
   "outputs": [
    {
     "name": "stdout",
     "output_type": "stream",
     "text": [
      "MUJTABA HAYAT\n"
     ]
    }
   ],
   "source": [
    "text = \"mujtaba hayat\"\n",
    "print(text.upper())  # Output: HELLO WORLD\n"
   ]
  },
  {
   "cell_type": "code",
   "execution_count": 135,
   "id": "4c7f39b4-0e74-4938-9138-069fb287d114",
   "metadata": {},
   "outputs": [
    {
     "name": "stdout",
     "output_type": "stream",
     "text": [
      "0000000052\n"
     ]
    }
   ],
   "source": [
    "num = \"52\"\n",
    "print(num.zfill(10))"
   ]
  },
  {
   "cell_type": "code",
   "execution_count": null,
   "id": "87708a57-3b23-4938-9afb-b4df803a419e",
   "metadata": {},
   "outputs": [],
   "source": [
    "/# zfill() Adds zeros to the left of a string until it reaches a specified length"
   ]
  }
 ],
 "metadata": {
  "kernelspec": {
   "display_name": "Python 3 (ipykernel)",
   "language": "python",
   "name": "python3"
  },
  "language_info": {
   "codemirror_mode": {
    "name": "ipython",
    "version": 3
   },
   "file_extension": ".py",
   "mimetype": "text/x-python",
   "name": "python",
   "nbconvert_exporter": "python",
   "pygments_lexer": "ipython3",
   "version": "3.13.5"
  }
 },
 "nbformat": 4,
 "nbformat_minor": 5
}
