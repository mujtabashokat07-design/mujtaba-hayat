{
 "cells": [
  {
   "cell_type": "code",
   "execution_count": 2,
   "id": "5644ae28-3952-4867-908e-259ad2ea47d8",
   "metadata": {},
   "outputs": [],
   "source": [
    "text = \"ABCDEFGHIJKLMNOPQRSTUVWXYZ\""
   ]
  },
  {
   "cell_type": "code",
   "execution_count": 5,
   "id": "ac50f623-cce8-475e-a104-f24cb998986a",
   "metadata": {},
   "outputs": [
    {
     "data": {
      "text/plain": [
       "'F'"
      ]
     },
     "execution_count": 5,
     "metadata": {},
     "output_type": "execute_result"
    }
   ],
   "source": [
    "# variableName[Start Number of Index]\n",
    "a = text[5]\n",
    "a"
   ]
  },
  {
   "cell_type": "code",
   "execution_count": 7,
   "id": "0f06193e-f2a9-4f22-ba44-c3e65d9d9de5",
   "metadata": {},
   "outputs": [
    {
     "data": {
      "text/plain": [
       "str"
      ]
     },
     "execution_count": 7,
     "metadata": {},
     "output_type": "execute_result"
    }
   ],
   "source": [
    "type(text)"
   ]
  },
  {
   "cell_type": "code",
   "execution_count": 8,
   "id": "44f76f69-aceb-4f69-85cd-6b5a8d519850",
   "metadata": {},
   "outputs": [
    {
     "data": {
      "text/plain": [
       "26"
      ]
     },
     "execution_count": 8,
     "metadata": {},
     "output_type": "execute_result"
    }
   ],
   "source": [
    "len(text)"
   ]
  },
  {
   "cell_type": "code",
   "execution_count": 16,
   "id": "4b38b826-8758-40cc-b66f-f54af64efe9c",
   "metadata": {},
   "outputs": [
    {
     "data": {
      "text/plain": [
       "'XYZ'"
      ]
     },
     "execution_count": 16,
     "metadata": {},
     "output_type": "execute_result"
    }
   ],
   "source": [
    "# variableName[Start Number of Index : Ending Number of Index - 1  ]\n",
    "text[23:]"
   ]
  },
  {
   "cell_type": "code",
   "execution_count": 17,
   "id": "ec7e4a29-29d5-444f-b8f4-00c874a20e53",
   "metadata": {},
   "outputs": [
    {
     "data": {
      "text/plain": [
       "'ABCD'"
      ]
     },
     "execution_count": 17,
     "metadata": {},
     "output_type": "execute_result"
    }
   ],
   "source": [
    "text[:4]"
   ]
  },
  {
   "cell_type": "code",
   "execution_count": 38,
   "id": "73531bfa-c851-4d5e-b536-0b563795cde7",
   "metadata": {},
   "outputs": [
    {
     "data": {
      "text/plain": [
       "'AZ'"
      ]
     },
     "execution_count": 38,
     "metadata": {},
     "output_type": "execute_result"
    }
   ],
   "source": [
    "# variableName[Start Number of Index : Ending Number of Index - 1 : Incremental Step]\n",
    "text[::25]"
   ]
  },
  {
   "cell_type": "code",
   "execution_count": 39,
   "id": "2bdaed2f-9b18-4c5b-935a-c4f4d7ede525",
   "metadata": {},
   "outputs": [],
   "source": [
    "num = \"1 2 3 4 5 6 7 8 9 10 11 12 13 14 15 16 17 18 19 20 21 22 23 24 25 26 27 28 29 30 31 32 33 34 35 36 37 38 39 40 41 42 43 44 45 46 47 48 49 50 51 52 53 54 55 56 57 58 59 60 61 62 63 64 65 66 67 68 69 70 71 72 73 74 75 76 77 78 79 80 81 82 83 84 85 86 87 88 89 90 91 92 93 94 95 96 97 98 99 100\""
   ]
  },
  {
   "cell_type": "code",
   "execution_count": 50,
   "id": "635fbd8c-e1dc-4b71-80f6-1a63c0ababcd",
   "metadata": {},
   "outputs": [
    {
     "data": {
      "text/plain": [
       "' 0 10 20 30 40 50 60 70 80 90'"
      ]
     },
     "execution_count": 50,
     "metadata": {},
     "output_type": "execute_result"
    }
   ],
   "source": [
    "# Result ' 0 10 20 30 40 50 60 70 80 90'\n",
    "num[9::10]"
   ]
  },
  {
   "cell_type": "code",
   "execution_count": 59,
   "id": "7bc4040a-a22c-451d-b6c6-8273eb9e9771",
   "metadata": {},
   "outputs": [
    {
     "data": {
      "text/plain": [
       "'ABCDEFGHIJKLMNOPQRSTUVWXYZ'"
      ]
     },
     "execution_count": 59,
     "metadata": {},
     "output_type": "execute_result"
    }
   ],
   "source": [
    "text[::1]"
   ]
  },
  {
   "cell_type": "code",
   "execution_count": 57,
   "id": "fde5c6ff-b1a0-404b-b51d-3872376fe970",
   "metadata": {},
   "outputs": [],
   "source": [
    "name = \"PAKISTAN\""
   ]
  },
  {
   "cell_type": "code",
   "execution_count": 61,
   "id": "c25e03c5-1e10-43c1-b522-c45ff86d160a",
   "metadata": {},
   "outputs": [
    {
     "data": {
      "text/plain": [
       "'NATSIKAP'"
      ]
     },
     "execution_count": 61,
     "metadata": {},
     "output_type": "execute_result"
    }
   ],
   "source": [
    "# Result 'NATSIKAP'\n",
    "name[::-1]"
   ]
  },
  {
   "cell_type": "code",
   "execution_count": 70,
   "id": "ca5093e9-d948-4d91-853a-3e011aea6ed9",
   "metadata": {},
   "outputs": [
    {
     "data": {
      "text/plain": [
       "'IS'"
      ]
     },
     "execution_count": 70,
     "metadata": {},
     "output_type": "execute_result"
    }
   ],
   "source": [
    "name[-5:-3]"
   ]
  },
  {
   "cell_type": "code",
   "execution_count": 71,
   "id": "5b5fbd3d-9059-4f83-8891-30302a97fe66",
   "metadata": {},
   "outputs": [
    {
     "data": {
      "text/plain": [
       "'IS'"
      ]
     },
     "execution_count": 71,
     "metadata": {},
     "output_type": "execute_result"
    }
   ],
   "source": [
    "name[3:5]"
   ]
  },
  {
   "cell_type": "code",
   "execution_count": null,
   "id": "74258e7e-5802-4aae-b40c-8bcaa17d210b",
   "metadata": {},
   "outputs": [],
   "source": []
  },
  {
   "cell_type": "code",
   "execution_count": null,
   "id": "4d9195f7-c4af-4c3c-8128-606d4714d834",
   "metadata": {},
   "outputs": [],
   "source": []
  },
  {
   "cell_type": "code",
   "execution_count": null,
   "id": "a7798bd0-d21f-457f-a237-cbce5875fb38",
   "metadata": {},
   "outputs": [],
   "source": []
  },
  {
   "cell_type": "code",
   "execution_count": null,
   "id": "6c475948-1a40-4de1-a110-65003006af7b",
   "metadata": {},
   "outputs": [],
   "source": []
  },
  {
   "cell_type": "code",
   "execution_count": null,
   "id": "8323a221-1e15-496e-80b5-44492595afa1",
   "metadata": {},
   "outputs": [],
   "source": []
  },
  {
   "cell_type": "code",
   "execution_count": null,
   "id": "bb764d4a-2641-4fd4-951a-74d5beff5d2e",
   "metadata": {},
   "outputs": [],
   "source": []
  },
  {
   "cell_type": "code",
   "execution_count": null,
   "id": "035c243c-9eb7-400a-860d-538c680dfec9",
   "metadata": {},
   "outputs": [],
   "source": []
  },
  {
   "cell_type": "code",
   "execution_count": null,
   "id": "3641a024-e2f5-4a85-92ad-e77bee22eb9b",
   "metadata": {},
   "outputs": [],
   "source": []
  },
  {
   "cell_type": "code",
   "execution_count": null,
   "id": "b3e5bf53-7367-4b3d-958e-03ca1ed1e646",
   "metadata": {},
   "outputs": [],
   "source": []
  },
  {
   "cell_type": "code",
   "execution_count": null,
   "id": "59af9756-d469-404c-bef2-1089d6cd9948",
   "metadata": {},
   "outputs": [],
   "source": []
  }
 ],
 "metadata": {
  "kernelspec": {
   "display_name": "Python 3 (ipykernel)",
   "language": "python",
   "name": "python3"
  },
  "language_info": {
   "codemirror_mode": {
    "name": "ipython",
    "version": 3
   },
   "file_extension": ".py",
   "mimetype": "text/x-python",
   "name": "python",
   "nbconvert_exporter": "python",
   "pygments_lexer": "ipython3",
   "version": "3.13.5"
  }
 },
 "nbformat": 4,
 "nbformat_minor": 5
}
