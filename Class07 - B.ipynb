{
 "cells": [
  {
   "cell_type": "code",
   "execution_count": 2,
   "id": "47f86a08-e915-4c2c-be47-d97cf39b5155",
   "metadata": {},
   "outputs": [
    {
     "data": {
      "text/plain": [
       "8"
      ]
     },
     "execution_count": 2,
     "metadata": {},
     "output_type": "execute_result"
    }
   ],
   "source": [
    "2 ** 3"
   ]
  },
  {
   "cell_type": "code",
   "execution_count": 3,
   "id": "6ba3042a-a926-4d0a-927f-6b499572a836",
   "metadata": {},
   "outputs": [
    {
     "data": {
      "text/plain": [
       "8"
      ]
     },
     "execution_count": 3,
     "metadata": {},
     "output_type": "execute_result"
    }
   ],
   "source": [
    "2 * 2 * 2\n",
    "# 2 * 2 = 4 * 2 = 8"
   ]
  },
  {
   "cell_type": "code",
   "execution_count": 4,
   "id": "f9fd988e-791c-4592-a398-ce6981215e17",
   "metadata": {},
   "outputs": [
    {
     "data": {
      "text/plain": [
       "27"
      ]
     },
     "execution_count": 4,
     "metadata": {},
     "output_type": "execute_result"
    }
   ],
   "source": [
    "3 ** 3"
   ]
  },
  {
   "cell_type": "code",
   "execution_count": 5,
   "id": "dcd90dc5-ad8c-48a5-8675-30ad98efa111",
   "metadata": {},
   "outputs": [
    {
     "data": {
      "text/plain": [
       "27"
      ]
     },
     "execution_count": 5,
     "metadata": {},
     "output_type": "execute_result"
    }
   ],
   "source": [
    "3 * 3 * 3\n",
    "#  3 * 3 = 9 * 3 = 27"
   ]
  },
  {
   "cell_type": "code",
   "execution_count": 6,
   "id": "c305c93f-a206-4d0d-8f0c-dd934c338f47",
   "metadata": {},
   "outputs": [
    {
     "data": {
      "text/plain": [
       "256"
      ]
     },
     "execution_count": 6,
     "metadata": {},
     "output_type": "execute_result"
    }
   ],
   "source": [
    "4 ** 4"
   ]
  },
  {
   "cell_type": "code",
   "execution_count": 7,
   "id": "489da4be-8c66-47bd-bab9-e1fc9e9e04ef",
   "metadata": {},
   "outputs": [
    {
     "data": {
      "text/plain": [
       "256"
      ]
     },
     "execution_count": 7,
     "metadata": {},
     "output_type": "execute_result"
    }
   ],
   "source": [
    "4 * 4 * 4 * 4\n",
    "# 4 * 4 = 16 * 4 = 64 * 4 = 256"
   ]
  },
  {
   "cell_type": "code",
   "execution_count": 8,
   "id": "2e94247a-4596-456c-ae0c-1746300bd0db",
   "metadata": {},
   "outputs": [
    {
     "data": {
      "text/plain": [
       "1024"
      ]
     },
     "execution_count": 8,
     "metadata": {},
     "output_type": "execute_result"
    }
   ],
   "source": [
    "32 ** 2"
   ]
  },
  {
   "cell_type": "code",
   "execution_count": 9,
   "id": "c9d71e72-03c3-420d-993e-8d7894785535",
   "metadata": {},
   "outputs": [
    {
     "data": {
      "text/plain": [
       "1024"
      ]
     },
     "execution_count": 9,
     "metadata": {},
     "output_type": "execute_result"
    }
   ],
   "source": [
    "32 * 32"
   ]
  },
  {
   "cell_type": "code",
   "execution_count": 10,
   "id": "54590fbf-f75a-4c52-9f24-ab628cd95e35",
   "metadata": {},
   "outputs": [
    {
     "data": {
      "text/plain": [
       "1048576"
      ]
     },
     "execution_count": 10,
     "metadata": {},
     "output_type": "execute_result"
    }
   ],
   "source": [
    "1024 ** 2"
   ]
  },
  {
   "cell_type": "code",
   "execution_count": 1,
   "id": "9b767084-fc7b-4829-bea7-5035c99a1f3e",
   "metadata": {},
   "outputs": [],
   "source": [
    "a = 2"
   ]
  },
  {
   "cell_type": "code",
   "execution_count": 60,
   "id": "6cc6681b-9e7a-4e85-aafa-d246a20ec309",
   "metadata": {},
   "outputs": [],
   "source": [
    "a **= 2"
   ]
  },
  {
   "cell_type": "code",
   "execution_count": 61,
   "id": "defb7f5b-492b-4903-bf1a-47d642b3e2cb",
   "metadata": {},
   "outputs": [
    {
     "data": {
      "text/plain": [
       "0.0"
      ]
     },
     "execution_count": 61,
     "metadata": {},
     "output_type": "execute_result"
    }
   ],
   "source": [
    "a"
   ]
  },
  {
   "cell_type": "code",
   "execution_count": 62,
   "id": "2ef17140-398a-4de5-919e-89cfcf561c35",
   "metadata": {},
   "outputs": [
    {
     "data": {
      "text/plain": [
       "True"
      ]
     },
     "execution_count": 62,
     "metadata": {},
     "output_type": "execute_result"
    }
   ],
   "source": [
    "2 < 3"
   ]
  },
  {
   "cell_type": "code",
   "execution_count": 63,
   "id": "db52d920-f704-43b2-93ec-de609b5cd3e5",
   "metadata": {},
   "outputs": [
    {
     "data": {
      "text/plain": [
       "True"
      ]
     },
     "execution_count": 63,
     "metadata": {},
     "output_type": "execute_result"
    }
   ],
   "source": [
    "3 > 2"
   ]
  },
  {
   "cell_type": "code",
   "execution_count": 64,
   "id": "e94896c5-f81d-4dbe-9ff6-10fe2fd6d520",
   "metadata": {},
   "outputs": [
    {
     "data": {
      "text/plain": [
       "False"
      ]
     },
     "execution_count": 64,
     "metadata": {},
     "output_type": "execute_result"
    }
   ],
   "source": [
    " -100 > 0"
   ]
  },
  {
   "cell_type": "code",
   "execution_count": null,
   "id": "dd4c80d1-fcd6-4ece-b37e-179edef3e3c6",
   "metadata": {},
   "outputs": [],
   "source": [
    "#  -100, ........ -2, -1 , 0, 1, 2 ...50 ...... 100"
   ]
  },
  {
   "cell_type": "code",
   "execution_count": 67,
   "id": "440bde19-5f4a-44c8-a6c8-5af10599deaa",
   "metadata": {},
   "outputs": [
    {
     "data": {
      "text/plain": [
       "True"
      ]
     },
     "execution_count": 67,
     "metadata": {},
     "output_type": "execute_result"
    }
   ],
   "source": [
    " -100 > -200"
   ]
  },
  {
   "cell_type": "code",
   "execution_count": 68,
   "id": "f7cce3d1-8e32-4a95-be6c-0c6c960ead2c",
   "metadata": {},
   "outputs": [
    {
     "data": {
      "text/plain": [
       "True"
      ]
     },
     "execution_count": 68,
     "metadata": {},
     "output_type": "execute_result"
    }
   ],
   "source": [
    "2 <= 2"
   ]
  },
  {
   "cell_type": "code",
   "execution_count": 69,
   "id": "429d98d7-fc95-49ac-8c67-91b0df3ced17",
   "metadata": {},
   "outputs": [
    {
     "data": {
      "text/plain": [
       "False"
      ]
     },
     "execution_count": 69,
     "metadata": {},
     "output_type": "execute_result"
    }
   ],
   "source": [
    "2 >= 4"
   ]
  },
  {
   "cell_type": "code",
   "execution_count": 70,
   "id": "78e1e0cc-2b85-4019-b25f-3bf1166c3352",
   "metadata": {},
   "outputs": [
    {
     "name": "stdout",
     "output_type": "stream",
     "text": [
      "True and True will be  True\n",
      "True and False will be  False\n",
      "False and True will be  False\n",
      "False and False will be  False\n"
     ]
    }
   ],
   "source": [
    "print(\"True and True will be \",True and True)\n",
    "print(\"True and False will be \",True and False)\n",
    "print(\"False and True will be \",False and True)\n",
    "print(\"False and False will be \",False and False)"
   ]
  },
  {
   "cell_type": "code",
   "execution_count": 71,
   "id": "bbcdf48d-6c84-4ec8-974d-f269633b7fd3",
   "metadata": {},
   "outputs": [
    {
     "name": "stdout",
     "output_type": "stream",
     "text": [
      "True or True will be  True\n",
      "True or False will be  True\n",
      "False or True will be  True\n",
      "False or False will be  False\n"
     ]
    }
   ],
   "source": [
    "print(\"True or True will be \",True or True)\n",
    "print(\"True or False will be \",True or False)\n",
    "print(\"False or True will be \",False or True)\n",
    "print(\"False or False will be \",False or False)"
   ]
  },
  {
   "cell_type": "code",
   "execution_count": 72,
   "id": "154ece89-b972-4824-90fa-28a3a3d129fb",
   "metadata": {},
   "outputs": [
    {
     "name": "stdout",
     "output_type": "stream",
     "text": [
      "False or False for not will be  True\n",
      "True and True for not will be  False\n"
     ]
    }
   ],
   "source": [
    "print(\"False or False for not will be \",not(False or False))\n",
    "print(\"True and True for not will be \",not(True and True))"
   ]
  },
  {
   "cell_type": "code",
   "execution_count": 73,
   "id": "06695ab2-6ed8-4c4b-9894-22bf35605bd0",
   "metadata": {},
   "outputs": [],
   "source": [
    "\t# CONDITION: \t\tApple is fruit AND jujube is fruit\t\t\t\tTRUE\tnot \tFALSE\n",
    "\t\t\t\t\t\t\t\t\t\n",
    "\t# \tAND\tTRUE\tFALSE\t\t\t\t\t\n",
    "\t# \tTRUE\tTRUE\tFALSE\t\t\t\t\t\n",
    "\t# \tFALSE\tFALSE\tFALSE\t\t\t\t\t\n",
    "\t\t\t\t\t\t\t\t\t\n",
    "\t# CONDITION: \t\tApple is VEG OR jujube is fruit\t\t\t\tTRUE\tnot\tFALSE\n",
    "\t\t\t\t\t\t\t\t\t\n",
    "\t# \tOR\tTRUE\tFALSE\t\t\t\t\t\n",
    "\t# \tTRUE\tTRUE\tTRUE\t\t\t\t\t\n",
    "\t# \tFALSE\tTRUE\tFALSE\t\t\t\t\t \n"
   ]
  },
  {
   "cell_type": "code",
   "execution_count": 75,
   "id": "87fffde5-5553-42a2-9847-13d329ed9110",
   "metadata": {},
   "outputs": [
    {
     "data": {
      "text/plain": [
       "True"
      ]
     },
     "execution_count": 75,
     "metadata": {},
     "output_type": "execute_result"
    }
   ],
   "source": [
    "a = 2\n",
    "b = 2\n",
    "\n",
    "a is b"
   ]
  },
  {
   "cell_type": "code",
   "execution_count": 76,
   "id": "92a855bd-3569-4521-8ae0-900cdbba63d2",
   "metadata": {},
   "outputs": [
    {
     "data": {
      "text/plain": [
       "True"
      ]
     },
     "execution_count": 76,
     "metadata": {},
     "output_type": "execute_result"
    }
   ],
   "source": [
    "a == b"
   ]
  },
  {
   "cell_type": "code",
   "execution_count": 77,
   "id": "a3645b53-5c96-45f7-8dcc-55f754488f5b",
   "metadata": {},
   "outputs": [
    {
     "data": {
      "text/plain": [
       "True"
      ]
     },
     "execution_count": 77,
     "metadata": {},
     "output_type": "execute_result"
    }
   ],
   "source": [
    "word = 'This is cool'\n",
    "'cool' in word"
   ]
  },
  {
   "cell_type": "code",
   "execution_count": 83,
   "id": "6feae19c-b5db-4315-adef-8682800b9bc7",
   "metadata": {},
   "outputs": [],
   "source": [
    "HolidaySpots = ['Amsterdam','Maldives','Qatar','AbuDhabi','AbuDhabi']"
   ]
  },
  {
   "cell_type": "code",
   "execution_count": 84,
   "id": "1db7ab22-6308-40d0-8450-d81c1ee716ac",
   "metadata": {},
   "outputs": [
    {
     "data": {
      "text/plain": [
       "list"
      ]
     },
     "execution_count": 84,
     "metadata": {},
     "output_type": "execute_result"
    }
   ],
   "source": [
    "type(HolidaySpots)"
   ]
  },
  {
   "cell_type": "code",
   "execution_count": 85,
   "id": "312c261a-0af2-42a7-bded-4259e287699c",
   "metadata": {},
   "outputs": [
    {
     "data": {
      "text/plain": [
       "5"
      ]
     },
     "execution_count": 85,
     "metadata": {},
     "output_type": "execute_result"
    }
   ],
   "source": [
    "len(HolidaySpots)"
   ]
  },
  {
   "cell_type": "code",
   "execution_count": 87,
   "id": "1b2756f0-d83a-49f9-8389-40ed61d49865",
   "metadata": {},
   "outputs": [
    {
     "data": {
      "text/plain": [
       "list"
      ]
     },
     "execution_count": 87,
     "metadata": {},
     "output_type": "execute_result"
    }
   ],
   "source": [
    "mixList = [\"str\",1,1.5,True]\n",
    "type(mixList)"
   ]
  },
  {
   "cell_type": "code",
   "execution_count": 89,
   "id": "6a217cb1-4c1a-415a-b2ba-705921bfd0a0",
   "metadata": {},
   "outputs": [],
   "source": [
    "SliceList = HolidaySpots[2]"
   ]
  },
  {
   "cell_type": "code",
   "execution_count": 90,
   "id": "07338b85-cc24-4b62-b608-98d1a571e1e2",
   "metadata": {},
   "outputs": [
    {
     "data": {
      "text/plain": [
       "'Qatar'"
      ]
     },
     "execution_count": 90,
     "metadata": {},
     "output_type": "execute_result"
    }
   ],
   "source": [
    "SliceList"
   ]
  },
  {
   "cell_type": "code",
   "execution_count": 91,
   "id": "97a37daa-0b15-4fd9-bcd1-a700d6888c22",
   "metadata": {},
   "outputs": [
    {
     "data": {
      "text/plain": [
       "str"
      ]
     },
     "execution_count": 91,
     "metadata": {},
     "output_type": "execute_result"
    }
   ],
   "source": [
    "type(SliceList)"
   ]
  },
  {
   "cell_type": "code",
   "execution_count": 92,
   "id": "f301acc5-f85e-4b68-b9d1-48ccdb9785c5",
   "metadata": {},
   "outputs": [
    {
     "data": {
      "text/plain": [
       "'ta'"
      ]
     },
     "execution_count": 92,
     "metadata": {},
     "output_type": "execute_result"
    }
   ],
   "source": [
    "SliceList[2:4]"
   ]
  },
  {
   "cell_type": "code",
   "execution_count": 94,
   "id": "2c156176-0fe0-49d5-9aba-9e6dc09523c3",
   "metadata": {},
   "outputs": [
    {
     "data": {
      "text/plain": [
       "list"
      ]
     },
     "execution_count": 94,
     "metadata": {},
     "output_type": "execute_result"
    }
   ],
   "source": [
    "numList = [1,2,3,4,5,6,7,8,9,0]\n",
    "type(numList)"
   ]
  },
  {
   "cell_type": "code",
   "execution_count": 100,
   "id": "b412fd16-86ad-4743-86b7-b8915c131044",
   "metadata": {},
   "outputs": [
    {
     "data": {
      "text/plain": [
       "[6, 7, 8, 9, 0]"
      ]
     },
     "execution_count": 100,
     "metadata": {},
     "output_type": "execute_result"
    }
   ],
   "source": [
    "# [1 : 0,2 : 1,3 : 2,4 : 3 ,5,6,7,8,9,0 : -1]\n",
    "numList[-5:]"
   ]
  },
  {
   "cell_type": "code",
   "execution_count": 104,
   "id": "33fc7e34-db84-4858-bab8-92f8243839aa",
   "metadata": {},
   "outputs": [
    {
     "data": {
      "text/plain": [
       "[0, 9, 8, 7, 6, 5, 4, 3, 2, 1]"
      ]
     },
     "execution_count": 104,
     "metadata": {},
     "output_type": "execute_result"
    }
   ],
   "source": [
    "numList[::-1]"
   ]
  },
  {
   "cell_type": "code",
   "execution_count": 105,
   "id": "da6475c7-54f0-49e2-9689-0628a86075d6",
   "metadata": {},
   "outputs": [
    {
     "data": {
      "text/plain": [
       "True"
      ]
     },
     "execution_count": 105,
     "metadata": {},
     "output_type": "execute_result"
    }
   ],
   "source": [
    "'Amsterdam' in HolidaySpots"
   ]
  },
  {
   "cell_type": "code",
   "execution_count": 106,
   "id": "14bb6e08-163e-4d5e-9093-591ed5696cf0",
   "metadata": {},
   "outputs": [],
   "source": [
    "HolidaySpots = ['Amsterdam','Maldives','Qatar','AbuDhabi','AbuDhabi']"
   ]
  },
  {
   "cell_type": "code",
   "execution_count": 107,
   "id": "cb3e533a-5af0-4a66-a48e-b065107cac25",
   "metadata": {},
   "outputs": [
    {
     "data": {
      "text/plain": [
       "['Amsterdam', 'Maldives', 'Qatar', 'AbuDhabi', 'London']"
      ]
     },
     "execution_count": 107,
     "metadata": {},
     "output_type": "execute_result"
    }
   ],
   "source": [
    "HolidaySpots[4] = \"London\"\n",
    "HolidaySpots"
   ]
  },
  {
   "cell_type": "code",
   "execution_count": 108,
   "id": "830970b1-5ec1-46b3-9219-499250367dbb",
   "metadata": {},
   "outputs": [
    {
     "data": {
      "text/plain": [
       "['Amsterdam', 'Maldives', 'Qatar', 'AbuDhabi', 'Baku', 'London']"
      ]
     },
     "execution_count": 108,
     "metadata": {},
     "output_type": "execute_result"
    }
   ],
   "source": [
    "HolidaySpots.insert(4,\"Baku\")\n",
    "HolidaySpots"
   ]
  },
  {
   "cell_type": "code",
   "execution_count": 109,
   "id": "29ae6ebf-c5ef-4bae-abb2-2bef6a2f14b9",
   "metadata": {},
   "outputs": [
    {
     "data": {
      "text/plain": [
       "['Amsterdam', 'Hawai', 'Moscow', 'AbuDhabi', 'Baku', 'London']"
      ]
     },
     "execution_count": 109,
     "metadata": {},
     "output_type": "execute_result"
    }
   ],
   "source": [
    "HolidaySpots[1:3] = [\"Hawai\",\"Moscow\"]\n",
    "HolidaySpots"
   ]
  },
  {
   "cell_type": "code",
   "execution_count": 110,
   "id": "0a719bbf-2900-47d1-bd61-56a852fb36f4",
   "metadata": {},
   "outputs": [
    {
     "data": {
      "text/plain": [
       "['Amsterdam', 'Hawai', 'Moscow', 'AbuDhabi', 'Baku', 'London', 'Germany']"
      ]
     },
     "execution_count": 110,
     "metadata": {},
     "output_type": "execute_result"
    }
   ],
   "source": [
    "HolidaySpots.append(\"Germany\")\n",
    "HolidaySpots"
   ]
  },
  {
   "cell_type": "code",
   "execution_count": 112,
   "id": "52f93e4a-cd5c-4baa-897f-01f4cc3507c1",
   "metadata": {},
   "outputs": [
    {
     "data": {
      "text/plain": [
       "['Amsterdam', 'Moscow', 'AbuDhabi', 'Baku', 'London']"
      ]
     },
     "execution_count": 112,
     "metadata": {},
     "output_type": "execute_result"
    }
   ],
   "source": [
    "HolidaySpots.pop(1)\n",
    "HolidaySpots"
   ]
  },
  {
   "cell_type": "code",
   "execution_count": 113,
   "id": "8bf7f4a2-a69e-4523-a372-7f2af793e499",
   "metadata": {},
   "outputs": [
    {
     "data": {
      "text/plain": [
       "['Amsterdam', 'Moscow', 'AbuDhabi', 'London']"
      ]
     },
     "execution_count": 113,
     "metadata": {},
     "output_type": "execute_result"
    }
   ],
   "source": [
    "HolidaySpots.remove(\"Baku\")\n",
    "HolidaySpots"
   ]
  },
  {
   "cell_type": "code",
   "execution_count": 114,
   "id": "2c5ab39f-1902-4844-9973-49dfda9773ba",
   "metadata": {},
   "outputs": [
    {
     "data": {
      "text/plain": [
       "['Amsterdam', 'Moscow', 'AbuDhabi', 'London']"
      ]
     },
     "execution_count": 114,
     "metadata": {},
     "output_type": "execute_result"
    }
   ],
   "source": [
    "HolidaySpots2 = HolidaySpots.copy()\n",
    "HolidaySpots2"
   ]
  },
  {
   "cell_type": "code",
   "execution_count": 115,
   "id": "816968e9-a1f2-4025-8ebd-67ff7e606d7c",
   "metadata": {},
   "outputs": [
    {
     "data": {
      "text/plain": [
       "['Amsterdam', 'Moscow', 'AbuDhabi', 'London', 'Dubai', 'Baku', 'Germany']"
      ]
     },
     "execution_count": 115,
     "metadata": {},
     "output_type": "execute_result"
    }
   ],
   "source": [
    "HolidaySpots2.extend([\"Dubai\",\"Baku\",\"Germany\"])\n",
    "HolidaySpots2"
   ]
  },
  {
   "cell_type": "code",
   "execution_count": 116,
   "id": "bc19923f-c330-47cf-bc33-ac808f2dcd5a",
   "metadata": {},
   "outputs": [],
   "source": [
    "HolidaySpots2.clear()"
   ]
  },
  {
   "cell_type": "code",
   "execution_count": 117,
   "id": "6c5a881c-9e7c-487b-ae09-1ca24bfd3553",
   "metadata": {},
   "outputs": [
    {
     "data": {
      "text/plain": [
       "[]"
      ]
     },
     "execution_count": 117,
     "metadata": {},
     "output_type": "execute_result"
    }
   ],
   "source": [
    "HolidaySpots2"
   ]
  },
  {
   "cell_type": "code",
   "execution_count": 121,
   "id": "386da457-17f8-49dc-9baf-d5008b6f2ada",
   "metadata": {},
   "outputs": [
    {
     "data": {
      "text/plain": [
       "['Amsterdam', 'Moscow', 'AbuDhabi', 'London']"
      ]
     },
     "execution_count": 121,
     "metadata": {},
     "output_type": "execute_result"
    }
   ],
   "source": [
    "HolidaySpots"
   ]
  },
  {
   "cell_type": "code",
   "execution_count": 122,
   "id": "e59560de-4861-4fff-a0cd-37263e14246c",
   "metadata": {},
   "outputs": [
    {
     "data": {
      "text/plain": [
       "1"
      ]
     },
     "execution_count": 122,
     "metadata": {},
     "output_type": "execute_result"
    }
   ],
   "source": [
    "HolidaySpots.index(\"Moscow\")"
   ]
  },
  {
   "cell_type": "code",
   "execution_count": 124,
   "id": "20934b88-db88-4eb1-8e67-4aca0ba217a3",
   "metadata": {},
   "outputs": [
    {
     "data": {
      "text/plain": [
       "['Moscow', 'London', 'Amsterdam', 'AbuDhabi']"
      ]
     },
     "execution_count": 124,
     "metadata": {},
     "output_type": "execute_result"
    }
   ],
   "source": [
    "HolidaySpots.sort(reverse=True)\n",
    "HolidaySpots"
   ]
  },
  {
   "cell_type": "code",
   "execution_count": 125,
   "id": "fd14fdb0-925d-4883-8d2e-51e6a4a5182f",
   "metadata": {},
   "outputs": [],
   "source": [
    "HolidaySpots.sort()"
   ]
  },
  {
   "cell_type": "code",
   "execution_count": 126,
   "id": "92cea4d5-e790-4849-97d6-89aa27bf06ee",
   "metadata": {},
   "outputs": [
    {
     "data": {
      "text/plain": [
       "['Moscow', 'London', 'Amsterdam', 'AbuDhabi']"
      ]
     },
     "execution_count": 126,
     "metadata": {},
     "output_type": "execute_result"
    }
   ],
   "source": [
    "HolidaySpots.reverse()\n",
    "HolidaySpots"
   ]
  },
  {
   "cell_type": "code",
   "execution_count": null,
   "id": "aef05bb5-3d0b-49a6-a447-bbc67f26c44b",
   "metadata": {},
   "outputs": [],
   "source": []
  },
  {
   "cell_type": "code",
   "execution_count": null,
   "id": "7d8ab500-3c0c-4bf1-a17f-80f92573c0f6",
   "metadata": {},
   "outputs": [],
   "source": []
  },
  {
   "cell_type": "code",
   "execution_count": null,
   "id": "3af9d1ae-73ed-4ba8-a3a8-4622e0ad21a7",
   "metadata": {},
   "outputs": [],
   "source": []
  }
 ],
 "metadata": {
  "kernelspec": {
   "display_name": "Python 3 (ipykernel)",
   "language": "python",
   "name": "python3"
  },
  "language_info": {
   "codemirror_mode": {
    "name": "ipython",
    "version": 3
   },
   "file_extension": ".py",
   "mimetype": "text/x-python",
   "name": "python",
   "nbconvert_exporter": "python",
   "pygments_lexer": "ipython3",
   "version": "3.13.5"
  }
 },
 "nbformat": 4,
 "nbformat_minor": 5
}
