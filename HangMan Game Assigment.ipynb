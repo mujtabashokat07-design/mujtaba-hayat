{
 "cells": [
  {
   "cell_type": "markdown",
   "id": "63bf2a0b-ac78-4aa1-8d61-324c057029be",
   "metadata": {},
   "source": [
    "# Create a HANGMAN GAME\n",
    "    \n",
    "# Difficulty Level\n",
    "    \n",
    "# Easy (Chance max, Number of letters show max)\n",
    "    \n",
    "# Medium (Chance less, num of letters show less)\n",
    "    \n",
    "# Hard (chance min, num of letters single)\n",
    "    \n",
    "# Word guess from the list\n",
    "    \n",
    "# Continuous form\n",
    "    \n",
    "# Hint"
   ]
  },
  {
   "cell_type": "code",
   "execution_count": 4,
   "id": "f57c8963-8b17-4b7a-bdfd-d03d7038a464",
   "metadata": {},
   "outputs": [],
   "source": [
    "import random"
   ]
  },
  {
   "cell_type": "code",
   "execution_count": 11,
   "id": "cc36e03f-9963-440a-b479-2b05d2a089c7",
   "metadata": {},
   "outputs": [
    {
     "name": "stdout",
     "output_type": "stream",
     "text": [
      "Welcome to Hangman Game\n",
      "['p _ k _ s _ a n']\n"
     ]
    },
    {
     "name": "stdin",
     "output_type": "stream",
     "text": [
      "chose the leter:  a\n"
     ]
    },
    {
     "name": "stdout",
     "output_type": "stream",
     "text": [
      "you are write [\"p a k _ s _ a n\"]\n"
     ]
    },
    {
     "name": "stdin",
     "output_type": "stream",
     "text": [
      "chose the leter:  k\n"
     ]
    },
    {
     "name": "stdout",
     "output_type": "stream",
     "text": [
      "Wrong\n"
     ]
    },
    {
     "name": "stdin",
     "output_type": "stream",
     "text": [
      "chose the leter:  i\n"
     ]
    },
    {
     "name": "stdout",
     "output_type": "stream",
     "text": [
      "Wrong\n"
     ]
    },
    {
     "name": "stdin",
     "output_type": "stream",
     "text": [
      "Do you want to play again (y/n) n\n"
     ]
    },
    {
     "name": "stdout",
     "output_type": "stream",
     "text": [
      "Thanks for playing\n"
     ]
    }
   ],
   "source": [
    "print(\"Welcome to Hangman Game\")\n",
    "words = [\"p _ k _ s _ a n\"]\n",
    "#word = random.choice(words)\n",
    "print(words)\n",
    "user = input(\"chose the leter: \")\n",
    "while True:\n",
    "    if user == \"a\":\n",
    "        print('you are write [\"p a k _ s _ a n\"]')\n",
    "    else:\n",
    "        print(\"Wrong\")\n",
    "    break\n",
    "    words = [\"p a k _ s _ a n\"]\n",
    "#word = random.choice(words)\n",
    "user = input(\"chose the leter: \")\n",
    "while True:\n",
    "    if user == \"i\":\n",
    "        print('you are write [\"p a k i s _ a n\"]')\n",
    "    else:\n",
    "        print(\"Wrong\")\n",
    "    break\n",
    "words = [\"p a k i s t a n\"]\n",
    "#word = random.choice(words)\n",
    "user = input(\"chose the leter: \")\n",
    "while True:\n",
    "    if user == \"t\":\n",
    "        print('you are write [\"p a k i s t a n\"]')\n",
    "    else:\n",
    "        print(\"Wrong\")\n",
    "    break\n",
    "user = input(\"Do you want to play again (y/n)\").lower\n",
    "if user != (\"y/n\"):\n",
    "    print(\"Thanks for playing\")"
   ]
  },
  {
   "cell_type": "code",
   "execution_count": 12,
   "id": "f84d8907-0aa4-40a4-bd58-abd85bce9c2c",
   "metadata": {},
   "outputs": [],
   "source": [
    "import random"
   ]
  },
  {
   "cell_type": "code",
   "execution_count": 13,
   "id": "97359b7e-b34e-45ca-852c-7edf051bfc77",
   "metadata": {},
   "outputs": [
    {
     "name": "stdout",
     "output_type": "stream",
     "text": [
      "Welcome to Hangman game\n",
      "Your choice => [Easy : Medium : hard]\n",
      "Chose => [1 : 2 : 3]\n"
     ]
    },
    {
     "name": "stdin",
     "output_type": "stream",
     "text": [
      "Enter your choice 1\n"
     ]
    }
   ],
   "source": [
    "print(\"Welcome to Hangman game\")\n",
    "words = [\"pakistan\",\"hyderabad\",\"python\",\"mujtaba\",\"karachi\"]\n",
    "word = random.choice(words)\n",
    "print(\"Your choice => [Easy : Medium : hard]\")\n",
    "print(\"Chose => [1 : 2 : 3]\")\n",
    "user = int(input(\"Enter your choice\"))\n",
    "if user == 1:\n",
    "    user = word = words\n"
   ]
  },
  {
   "cell_type": "code",
   "execution_count": 1,
   "id": "8eee6bb3-d7ad-45be-97f3-5d4a360c1f54",
   "metadata": {},
   "outputs": [],
   "source": [
    "import random"
   ]
  },
  {
   "cell_type": "code",
   "execution_count": 21,
   "id": "3839ab8e-c21f-46e8-ad9b-c27d88c044fc",
   "metadata": {},
   "outputs": [
    {
     "name": "stdout",
     "output_type": "stream",
     "text": [
      "Welcome to HanGman Game\n",
      "Difficulty level => [easy 1: medium 2: hard 3]\n",
      "Chose => [1 : 2 : 3]\n"
     ]
    },
    {
     "name": "stdin",
     "output_type": "stream",
     "text": [
      "Enter your choice 1\n"
     ]
    }
   ],
   "source": [
    "print(\"Welcome to HanGman Game\")\n",
    "easy_word = [\"cat\",\"dog\",\"table\",\"chair\"]\n",
    "medium_word = [\"mujtaba\",\"ukasha\",\"ahmed\",\"tahir\"]\n",
    "hard_word = [\"pakistan\",\"india\",\"america\",\"china\"]\n",
    "\n",
    "print(\"Difficulty level => [easy 1: medium 2: hard 3]\")\n",
    "print(\"Chose => [1 : 2 : 3]\")\n",
    "user_choice = int(input(\"Enter your choice\"))\n",
    "if user_choice == 1:\n",
    "    word = random.choice(easy_word)\n",
    "elif user_choice == 2:\n",
    "    word = random.choice(medium_word)\n",
    "elif user_choice == 3:\n",
    "    word = random.choice(hard_word)\n",
    "else:\n",
    "    print(\"invalid choice default medium \")\n",
    "    word = random.choice(medium_word)\n"
   ]
  },
  {
   "cell_type": "code",
   "execution_count": null,
   "id": "579c7ecc-a960-4e9b-9b53-841542ce4ce7",
   "metadata": {},
   "outputs": [],
   "source": []
  }
 ],
 "metadata": {
  "kernelspec": {
   "display_name": "Python 3 (ipykernel)",
   "language": "python",
   "name": "python3"
  },
  "language_info": {
   "codemirror_mode": {
    "name": "ipython",
    "version": 3
   },
   "file_extension": ".py",
   "mimetype": "text/x-python",
   "name": "python",
   "nbconvert_exporter": "python",
   "pygments_lexer": "ipython3",
   "version": "3.13.5"
  }
 },
 "nbformat": 4,
 "nbformat_minor": 5
}
