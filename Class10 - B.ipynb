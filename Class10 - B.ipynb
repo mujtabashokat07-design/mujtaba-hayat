{
 "cells": [
  {
   "cell_type": "markdown",
   "id": "a25c6b5f-9bb5-4e6f-b558-08bf14320528",
   "metadata": {},
   "source": [
    "# CLASS TASK\n",
    "\n",
    "Topic Included:\n",
    "- Variable, Multi-Variable\n",
    "- User Input\n",
    "- Formatted Print\n",
    "- Singular Data Types\n",
    "- Collective Data Types\n",
    "\n",
    "Take a User Input of STUDENT NAME,STUDENT ROLL NO, Upto 5 Subjects Marks.\n",
    "\n",
    "Then Store this values into DICT, and calculate the percentage of all marks.\n",
    "\n",
    "And Display the output in this following format:\n",
    "\n",
    "`` \n",
    " Student Name: \n",
    " \n",
    " Student Roll NO: \n",
    " \n",
    " Subject 01: \n",
    " \n",
    " Subject 02:\n",
    " \n",
    " Subject 03:\n",
    " \n",
    " Subject 04:\n",
    " \n",
    " Subject 05:\n",
    "\n",
    "\n",
    "Total Marks :\n",
    "\n",
    "Percentage  : \n",
    "\n",
    "``"
   ]
  },
  {
   "cell_type": "code",
   "execution_count": 3,
   "id": "7477fcb1-76fc-4d0a-8580-1744eb94ea58",
   "metadata": {},
   "outputs": [],
   "source": [
    "# # SOLUTION \n",
    "\n",
    "# std_name = input(\"Enter Student Name: \")\n",
    "# std_rollNo = int(input(\"Enter Roll No: \"))\n",
    "\n",
    "# phy = int(input(\"Enter Marks of Physics: \"))\n",
    "# che = int(input(\"Enter Marks of Chemistry: \"))\n",
    "# math = int(input(\"Enter Marks of Maths: \"))\n",
    "# comp = int(input(\"Enter Marks of Computer: \"))\n",
    "# eng = int(input(\"Enter Marks of English: \"))\n",
    "\n",
    "\n",
    " std_details = {\n",
    "     \"Student Name\" : std_name,\n",
    "     \"Student Roll No\" : std_rollNo,\n",
    "     \"Marks\" : {\n",
    "         \"Phy\" : phy,\n",
    "         \"Che\" : che,\n",
    "         \"Math\" : math,\n",
    "         \"Comp\" : comp,\n",
    "         \"Eng\"  : eng \n",
    "     }\n",
    " }\n",
    "\n",
    "# TotalMarks = 500\n",
    "# obtainedMarks = phy + che + math + comp + eng\n",
    "# percentage = ( obtainedMarks / TotalMarks ) * 100\n",
    "\n",
    "# print(\"Student Details : \", std_details)\n",
    "# print(f\"Obtained Marks : {obtainedMarks} \\nTotal Marks : {TotalMarks} \\nPercentage : {percentage:.2f}\")"
   ]
  },
  {
   "cell_type": "code",
   "execution_count": 2,
   "id": "89967428-161e-4bcc-aadb-f559e3c290d9",
   "metadata": {},
   "outputs": [
    {
     "name": "stdout",
     "output_type": "stream",
     "text": [
      "Hello, World!\n"
     ]
    }
   ],
   "source": [
    "# \"\"\"\n",
    "# This is a comment\n",
    "written in\n",
    "# more than just one line\n",
    "\"\"\"\n",
    "print(\"Hello, World!\")"
   ]
  },
  {
   "cell_type": "code",
   "execution_count": 4,
   "id": "290f726d-7d01-47b4-a411-6abb5eb34853",
   "metadata": {},
   "outputs": [],
   "source": [
    "a, b, c, d, e, Male = \"Chota Don\", \"Chota Chatan\", 420, 525.525, 4.1, False"
   ]
  },
  {
   "cell_type": "code",
   "execution_count": 6,
   "id": "b6563020-a9bf-4ebf-9c2a-5b265dd2e112",
   "metadata": {
    "scrolled": true
   },
   "outputs": [
    {
     "name": "stdout",
     "output_type": "stream",
     "text": [
      "Name: Chota Don\n",
      "\tNickName: Chota Chatan\n",
      "\t\tAGE: 420\n",
      "\t\t\tWeight: 525.525\n",
      "\t\tHeight: 4.1\n",
      "\tMale: False\n"
     ]
    }
   ],
   "source": [
    "print(f\"Name: {a}\\n\\tNickName: {b}\\n\\t\\tAGE: {c}\\n\\t\\t\\tWeight: {d}\\n\\t\\tHeight: {e}\\n\\tMale: {Male}\")"
   ]
  },
  {
   "cell_type": "code",
   "execution_count": 9,
   "id": "107b3f55-f8af-4d68-80c7-b1ad53e668c5",
   "metadata": {},
   "outputs": [
    {
     "data": {
      "text/plain": [
       "range(0, 100)"
      ]
     },
     "execution_count": 9,
     "metadata": {},
     "output_type": "execute_result"
    }
   ],
   "source": [
    "x = range(100)\n",
    "x"
   ]
  },
  {
   "cell_type": "code",
   "execution_count": 16,
   "id": "e9e4c210-75e1-4715-bddf-b23ecc8c84c7",
   "metadata": {},
   "outputs": [],
   "source": [
    "var = None"
   ]
  },
  {
   "cell_type": "code",
   "execution_count": 17,
   "id": "f7b5c3b1-49b4-439b-a30c-c41e534831d1",
   "metadata": {},
   "outputs": [
    {
     "name": "stdout",
     "output_type": "stream",
     "text": [
      "None\n"
     ]
    }
   ],
   "source": [
    "print(var)"
   ]
  },
  {
   "cell_type": "code",
   "execution_count": 14,
   "id": "4c125f5c-7c62-4623-a5c9-b76ec523379f",
   "metadata": {},
   "outputs": [],
   "source": [
    "var = 10"
   ]
  },
  {
   "cell_type": "code",
   "execution_count": 27,
   "id": "eec7c721-44b4-4923-8f39-eabaaaeaed67",
   "metadata": {},
   "outputs": [
    {
     "ename": "SyntaxError",
     "evalue": "invalid decimal literal (1083237655.py, line 1)",
     "output_type": "error",
     "traceback": [
      "\u001b[1;36m  Cell \u001b[1;32mIn[27], line 1\u001b[1;36m\u001b[0m\n\u001b[1;33m    complexNum = 115112285b\u001b[0m\n\u001b[1;37m                         ^\u001b[0m\n\u001b[1;31mSyntaxError\u001b[0m\u001b[1;31m:\u001b[0m invalid decimal literal\n"
     ]
    }
   ],
   "source": [
    "complexNum = 115112285j\n",
    "complexNum"
   ]
  },
  {
   "cell_type": "code",
   "execution_count": 28,
   "id": "1bf0af9b-4039-4e17-b784-70b91ffd6992",
   "metadata": {},
   "outputs": [
    {
     "data": {
      "text/plain": [
       "complex"
      ]
     },
     "execution_count": 28,
     "metadata": {},
     "output_type": "execute_result"
    }
   ],
   "source": [
    "type(complexNum)"
   ]
  },
  {
   "cell_type": "code",
   "execution_count": 30,
   "id": "be47fb43-6645-466f-b3ca-31631493e185",
   "metadata": {},
   "outputs": [
    {
     "data": {
      "text/plain": [
       "10000"
      ]
     },
     "execution_count": 30,
     "metadata": {},
     "output_type": "execute_result"
    }
   ],
   "source": [
    "num = 10000\n",
    "num"
   ]
  },
  {
   "cell_type": "code",
   "execution_count": 35,
   "id": "7e4f6fd6-5acd-49f9-83af-360aef5faf85",
   "metadata": {},
   "outputs": [
    {
     "data": {
      "text/plain": [
       "int"
      ]
     },
     "execution_count": 35,
     "metadata": {},
     "output_type": "execute_result"
    }
   ],
   "source": [
    "type(num)"
   ]
  },
  {
   "cell_type": "code",
   "execution_count": 36,
   "id": "d58cb28f-a49d-4391-afd0-2872a857b5c3",
   "metadata": {},
   "outputs": [
    {
     "data": {
      "text/plain": [
       "10000.0"
      ]
     },
     "execution_count": 36,
     "metadata": {},
     "output_type": "execute_result"
    }
   ],
   "source": [
    "float(num)"
   ]
  },
  {
   "cell_type": "code",
   "execution_count": 37,
   "id": "4f90edd4-c698-47a6-9c5d-1d8bc00ed3db",
   "metadata": {},
   "outputs": [
    {
     "data": {
      "text/plain": [
       "complex"
      ]
     },
     "execution_count": 37,
     "metadata": {},
     "output_type": "execute_result"
    }
   ],
   "source": [
    "list\n",
    "tuple\n",
    "set\n",
    "dict\n",
    "str\n",
    "int\n",
    "float\n",
    "bool\n",
    "complex\n"
   ]
  },
  {
   "cell_type": "code",
   "execution_count": 38,
   "id": "6bebedce-ffef-428c-ab42-06ad195ddbe8",
   "metadata": {},
   "outputs": [],
   "source": [
    "string = \"DON\""
   ]
  },
  {
   "cell_type": "code",
   "execution_count": 39,
   "id": "2649b152-1739-41d7-893c-dcb64df73a56",
   "metadata": {},
   "outputs": [
    {
     "data": {
      "text/plain": [
       "'D'"
      ]
     },
     "execution_count": 39,
     "metadata": {},
     "output_type": "execute_result"
    }
   ],
   "source": [
    "string[0]"
   ]
  },
  {
   "cell_type": "code",
   "execution_count": 42,
   "id": "9990164f-397a-422a-9fea-8a7ca99e9242",
   "metadata": {},
   "outputs": [
    {
     "data": {
      "text/plain": [
       "'DN'"
      ]
     },
     "execution_count": 42,
     "metadata": {},
     "output_type": "execute_result"
    }
   ],
   "source": [
    "string[::2]"
   ]
  },
  {
   "cell_type": "code",
   "execution_count": 43,
   "id": "3fc51ed3-9fa3-4171-82c8-e42a100135e2",
   "metadata": {},
   "outputs": [
    {
     "data": {
      "text/plain": [
       "'DON'"
      ]
     },
     "execution_count": 43,
     "metadata": {},
     "output_type": "execute_result"
    }
   ],
   "source": [
    "string"
   ]
  },
  {
   "cell_type": "code",
   "execution_count": 44,
   "id": "43bb0167-8612-4486-ae34-f5cfa63d86a6",
   "metadata": {},
   "outputs": [],
   "source": [
    "second = \"DON\""
   ]
  },
  {
   "cell_type": "code",
   "execution_count": 54,
   "id": "bcb3c074-3143-4403-a7a6-113581ea27ef",
   "metadata": {},
   "outputs": [
    {
     "data": {
      "text/plain": [
       "False"
      ]
     },
     "execution_count": 54,
     "metadata": {},
     "output_type": "execute_result"
    }
   ],
   "source": [
    "\"A\" == \"a\""
   ]
  },
  {
   "cell_type": "code",
   "execution_count": null,
   "id": "ff0fc8cc-733d-42b0-9e70-5572b3efab79",
   "metadata": {},
   "outputs": [],
   "source": []
  },
  {
   "cell_type": "code",
   "execution_count": null,
   "id": "b8903c08-3b54-404b-8521-a7b15d41a4d2",
   "metadata": {},
   "outputs": [],
   "source": []
  },
  {
   "cell_type": "code",
   "execution_count": null,
   "id": "bb0cc1ea-cfb3-4f94-8416-e3324983d3db",
   "metadata": {},
   "outputs": [],
   "source": []
  },
  {
   "cell_type": "code",
   "execution_count": null,
   "id": "833c3c8a-ffe7-4345-8ce7-9c40f049ca8d",
   "metadata": {},
   "outputs": [],
   "source": []
  },
  {
   "cell_type": "code",
   "execution_count": null,
   "id": "493249e2-8640-40cd-9b15-269b8539e8a3",
   "metadata": {},
   "outputs": [],
   "source": []
  },
  {
   "cell_type": "code",
   "execution_count": null,
   "id": "2359a03b-5137-4c52-a070-fa5f868f4d32",
   "metadata": {},
   "outputs": [],
   "source": []
  },
  {
   "cell_type": "code",
   "execution_count": null,
   "id": "b97af4df-9071-4dde-bcd2-84df967304ed",
   "metadata": {},
   "outputs": [],
   "source": []
  },
  {
   "cell_type": "code",
   "execution_count": null,
   "id": "69e268a9-503d-4d24-90b1-05581d7c08d0",
   "metadata": {},
   "outputs": [],
   "source": []
  },
  {
   "cell_type": "code",
   "execution_count": null,
   "id": "cb1908d5-7610-4622-add4-5c724d181360",
   "metadata": {},
   "outputs": [],
   "source": []
  }
 ],
 "metadata": {
  "kernelspec": {
   "display_name": "Python 3 (ipykernel)",
   "language": "python",
   "name": "python3"
  },
  "language_info": {
   "codemirror_mode": {
    "name": "ipython",
    "version": 3
   },
   "file_extension": ".py",
   "mimetype": "text/x-python",
   "name": "python",
   "nbconvert_exporter": "python",
   "pygments_lexer": "ipython3",
   "version": "3.13.5"
  }
 },
 "nbformat": 4,
 "nbformat_minor": 5
}
