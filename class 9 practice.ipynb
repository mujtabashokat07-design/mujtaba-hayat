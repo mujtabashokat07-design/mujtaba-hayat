{
 "cells": [
  {
   "cell_type": "code",
   "execution_count": 7,
   "id": "6bfaf2f6-8733-434d-86ef-f40725f3169e",
   "metadata": {},
   "outputs": [
    {
     "name": "stdout",
     "output_type": "stream",
     "text": [
      "{'name': 'mujtaba', 'class': 'enter'}\n"
     ]
    }
   ],
   "source": [
    "myself = {\n",
    "    \"name\":\"mujtaba\",\n",
    "    \"class\":\"enter\"\n",
    "}\n",
    "\n",
    "print(myself)"
   ]
  },
  {
   "cell_type": "code",
   "execution_count": 10,
   "id": "ce3d2b64-a97e-4d9b-8cdf-855682c456eb",
   "metadata": {},
   "outputs": [
    {
     "name": "stdout",
     "output_type": "stream",
     "text": [
      "enter\n"
     ]
    }
   ],
   "source": [
    "print(myself[\"class\"])"
   ]
  },
  {
   "cell_type": "code",
   "execution_count": 11,
   "id": "bbf1a4ed-706d-45fa-893d-424a75e94b27",
   "metadata": {},
   "outputs": [
    {
     "name": "stdout",
     "output_type": "stream",
     "text": [
      "{'name': 'mujtaba', 'class': 'enter', 'age': 19}\n"
     ]
    }
   ],
   "source": [
    "myself = {\n",
    "    \"name\":\"mujtaba\",\n",
    "    \"class\":\"enter\",\n",
    "    \"age\":18,\n",
    "    \"age\":19\n",
    "}\n",
    "\n",
    "print(myself)"
   ]
  },
  {
   "cell_type": "code",
   "execution_count": 12,
   "id": "8f781f5e-5bbd-4ce1-87b0-43adc4c49cc6",
   "metadata": {},
   "outputs": [
    {
     "name": "stdout",
     "output_type": "stream",
     "text": [
      "3\n"
     ]
    }
   ],
   "source": [
    "print(len(myself))"
   ]
  },
  {
   "cell_type": "code",
   "execution_count": 13,
   "id": "356d1b3c-4eba-4265-960b-91cbc437f1fa",
   "metadata": {},
   "outputs": [
    {
     "name": "stdout",
     "output_type": "stream",
     "text": [
      "{'name': 'mujtaba', 'class': 'enter', 'age': 18, 'color': ['red', 'yelllo', 'green'], 'fun': True}\n"
     ]
    }
   ],
   "source": [
    "myself ={\n",
    "    \"name\":\"mujtaba\",\n",
    "    \"class\":\"enter\",\n",
    "    \"age\":18,\n",
    "    \"color\":[\"red\",\"yelllo\",\"green\"],\n",
    "    \"fun\":True\n",
    "}\n",
    "\n",
    "print(myself)"
   ]
  },
  {
   "cell_type": "code",
   "execution_count": 14,
   "id": "f85a05d1-c226-4c56-96e6-60165a16df38",
   "metadata": {},
   "outputs": [
    {
     "name": "stdout",
     "output_type": "stream",
     "text": [
      "<class 'dict'>\n"
     ]
    }
   ],
   "source": [
    "print(type(myself))"
   ]
  },
  {
   "cell_type": "code",
   "execution_count": 18,
   "id": "758e0144-2d19-47c9-b4a4-a5371c162b89",
   "metadata": {},
   "outputs": [
    {
     "name": "stdout",
     "output_type": "stream",
     "text": [
      "{'name': 'mujtaba', 'age': 18, 'color': ['red', 'yello', 'green'], 'fun': True}\n"
     ]
    }
   ],
   "source": [
    "myself  = dict(name = \"mujtaba\" , age = 18 ,  color = [\"red\",\"yello\",\"green\"],fun = True)\n",
    "print(myself)"
   ]
  },
  {
   "cell_type": "code",
   "execution_count": 16,
   "id": "e06aba52-c3d6-43cd-ba1c-b0c5ab932ce9",
   "metadata": {},
   "outputs": [
    {
     "name": "stdout",
     "output_type": "stream",
     "text": [
      "{'name': 'John', 'age': 36, 'country': 'Norway'}\n"
     ]
    }
   ],
   "source": [
    "thisdict = dict(name = \"John\", age = 36, country = \"Norway\")\n",
    "print(thisdict)"
   ]
  },
  {
   "cell_type": "code",
   "execution_count": 19,
   "id": "7dbe4a6b-c04f-4bce-a926-0a507de551fd",
   "metadata": {},
   "outputs": [
    {
     "name": "stdout",
     "output_type": "stream",
     "text": [
      "{'name': 'mujtaba', 'fathername': 'shokat', 'age': 18}\n"
     ]
    }
   ],
   "source": [
    "myhobby = dict(name = \"mujtaba\", fathername = \"shokat\" , age = 18 )\n",
    "print(myhobby)"
   ]
  },
  {
   "cell_type": "code",
   "execution_count": 20,
   "id": "6f6ac7b0-7695-48fe-9198-7c97ec87b808",
   "metadata": {},
   "outputs": [
    {
     "name": "stdout",
     "output_type": "stream",
     "text": [
      "four\n"
     ]
    }
   ],
   "source": [
    "dic = {\n",
    "    \"name\":\"khyber\",\n",
    "    \"wheels\":\"four\",\n",
    "    \"light\":\"two\"\n",
    "}\n",
    "\n",
    "print(dic[\"wheels\"])"
   ]
  },
  {
   "cell_type": "code",
   "execution_count": 22,
   "id": "a9eb3bbd-6d48-477c-b13b-00345f23ad3f",
   "metadata": {},
   "outputs": [
    {
     "data": {
      "text/plain": [
       "'two'"
      ]
     },
     "execution_count": 22,
     "metadata": {},
     "output_type": "execute_result"
    }
   ],
   "source": [
    "x = dic[\"light\"]\n",
    "x"
   ]
  },
  {
   "cell_type": "code",
   "execution_count": 26,
   "id": "b71890e9-a08c-4131-89eb-6335148348e7",
   "metadata": {},
   "outputs": [
    {
     "data": {
      "text/plain": [
       "'khyber'"
      ]
     },
     "execution_count": 26,
     "metadata": {},
     "output_type": "execute_result"
    }
   ],
   "source": [
    "x = dic.get(\"name\")\n",
    "x"
   ]
  },
  {
   "cell_type": "code",
   "execution_count": 28,
   "id": "c37c5c6b-80ba-45be-bbdc-48de806dbf93",
   "metadata": {},
   "outputs": [
    {
     "name": "stdout",
     "output_type": "stream",
     "text": [
      "two\n"
     ]
    }
   ],
   "source": [
    "x = dic.get(\"light\")\n",
    "print(x)"
   ]
  },
  {
   "cell_type": "code",
   "execution_count": 38,
   "id": "c3664a44-0787-403b-9d52-0634ee947930",
   "metadata": {},
   "outputs": [
    {
     "data": {
      "text/plain": [
       "{'name': 'khyber', 'wheels': 'four', 'light': 'two'}"
      ]
     },
     "execution_count": 38,
     "metadata": {},
     "output_type": "execute_result"
    }
   ],
   "source": [
    "x = thisdict.keys()\n",
    "dic"
   ]
  },
  {
   "cell_type": "code",
   "execution_count": 39,
   "id": "f00cdd24-e0b2-4221-bf9c-486008c586f1",
   "metadata": {},
   "outputs": [
    {
     "data": {
      "text/plain": [
       "{'name': 'khyber', 'wheels': 'four', 'light': 'two'}"
      ]
     },
     "execution_count": 39,
     "metadata": {},
     "output_type": "execute_result"
    }
   ],
   "source": [
    "dic"
   ]
  },
  {
   "cell_type": "code",
   "execution_count": 40,
   "id": "60a9a7d9-1584-468e-a50f-280098914de2",
   "metadata": {},
   "outputs": [
    {
     "data": {
      "text/plain": [
       "{'name': 'khyber', 'wheels': 'four', 'light': 'two', 'color': 'grey'}"
      ]
     },
     "execution_count": 40,
     "metadata": {},
     "output_type": "execute_result"
    }
   ],
   "source": [
    "dic[\"color\"] = \"grey\"\n",
    "dic"
   ]
  },
  {
   "cell_type": "code",
   "execution_count": 46,
   "id": "da99f332-8011-40df-84bc-0c7431b0f7d5",
   "metadata": {},
   "outputs": [
    {
     "data": {
      "text/plain": [
       "dict_values(['khyber', 'four', 'two', 'grey'])"
      ]
     },
     "execution_count": 46,
     "metadata": {},
     "output_type": "execute_result"
    }
   ],
   "source": [
    " x = dic.values()\n",
    "x"
   ]
  },
  {
   "cell_type": "code",
   "execution_count": 47,
   "id": "7c634eb8-bc6e-4081-8594-30e81f753224",
   "metadata": {},
   "outputs": [
    {
     "data": {
      "text/plain": [
       "{'name': 'khyber',\n",
       " 'wheels': 'four',\n",
       " 'light': 'two',\n",
       " 'color': 'grey',\n",
       " 'year': 2000}"
      ]
     },
     "execution_count": 47,
     "metadata": {},
     "output_type": "execute_result"
    }
   ],
   "source": [
    "dic [\"year\"] = 2000\n",
    "dic"
   ]
  },
  {
   "cell_type": "code",
   "execution_count": 48,
   "id": "11d6c69d-d20b-42b2-a55e-f97bab2e31a0",
   "metadata": {},
   "outputs": [
    {
     "data": {
      "text/plain": [
       "{'name': 'khyber',\n",
       " 'wheels': 'four',\n",
       " 'light': 'two',\n",
       " 'color': 'grey',\n",
       " 'year': 2000,\n",
       " 'body': 'metal'}"
      ]
     },
     "execution_count": 48,
     "metadata": {},
     "output_type": "execute_result"
    }
   ],
   "source": [
    "dic[\"body\"] = \"metal\"\n",
    "dic"
   ]
  },
  {
   "cell_type": "code",
   "execution_count": 51,
   "id": "2b949b25-f910-4c73-8f72-4526fb091f2a",
   "metadata": {},
   "outputs": [
    {
     "data": {
      "text/plain": [
       "{'name': 'khyber',\n",
       " 'wheels': 'four',\n",
       " 'light': 'two',\n",
       " 'color': 'grey',\n",
       " 'year': 2000,\n",
       " 'body': 'metal'}"
      ]
     },
     "execution_count": 51,
     "metadata": {},
     "output_type": "execute_result"
    }
   ],
   "source": [
    "dic"
   ]
  },
  {
   "cell_type": "code",
   "execution_count": 59,
   "id": "538cea23-27f7-429a-86b2-ea69b9362544",
   "metadata": {},
   "outputs": [
    {
     "name": "stdout",
     "output_type": "stream",
     "text": [
      "yes 'name' in dic\n"
     ]
    }
   ],
   "source": [
    "if  \"name\" in dic:\n",
    "    print(\"yes 'name' in dic\")\n",
    "\n",
    "    \n",
    "    \n"
   ]
  },
  {
   "cell_type": "code",
   "execution_count": 60,
   "id": "fba19b25-2229-4c42-a8eb-76b7c41b48a9",
   "metadata": {},
   "outputs": [
    {
     "data": {
      "text/plain": [
       "{'name': 'khyber',\n",
       " 'wheels': 'four',\n",
       " 'light': 'two',\n",
       " 'color': 'grey',\n",
       " 'year': 2025,\n",
       " 'body': 'metal'}"
      ]
     },
     "execution_count": 60,
     "metadata": {},
     "output_type": "execute_result"
    }
   ],
   "source": [
    "dic [\"year\"] = 2025\n",
    "dic"
   ]
  },
  {
   "cell_type": "code",
   "execution_count": 61,
   "id": "c4bd75f0-4c3d-454e-a1f4-18543f931afb",
   "metadata": {},
   "outputs": [],
   "source": [
    "dic.update({\"year\": 2020})"
   ]
  },
  {
   "cell_type": "code",
   "execution_count": 62,
   "id": "babb418e-3d06-44a3-bfcd-33fe254d5317",
   "metadata": {},
   "outputs": [
    {
     "data": {
      "text/plain": [
       "{'name': 'khyber',\n",
       " 'wheels': 'four',\n",
       " 'light': 'two',\n",
       " 'color': 'grey',\n",
       " 'year': 2020,\n",
       " 'body': 'metal'}"
      ]
     },
     "execution_count": 62,
     "metadata": {},
     "output_type": "execute_result"
    }
   ],
   "source": [
    "dic"
   ]
  },
  {
   "cell_type": "code",
   "execution_count": 65,
   "id": "2bcf3c2c-b25d-42b5-a125-56bb1b2c097a",
   "metadata": {},
   "outputs": [
    {
     "name": "stdout",
     "output_type": "stream",
     "text": [
      "green\n",
      "{'name': 'khyber', 'wheels': 'four', 'light': 'two', 'color': 'green', 'year': 2020, 'body': 'metal'}\n"
     ]
    }
   ],
   "source": [
    "dic[\"color\"] = \"green\"\n",
    "print(dic[\"color\"])\n",
    "print(dic)"
   ]
  },
  {
   "cell_type": "code",
   "execution_count": 70,
   "id": "d4c4a859-ccd2-4e49-8b6b-cfc8af5f6bab",
   "metadata": {},
   "outputs": [
    {
     "data": {
      "text/plain": [
       "{'name': 'khyber',\n",
       " 'wheels': 'four',\n",
       " 'light': 'two',\n",
       " 'color': 'black',\n",
       " 'year': 2020,\n",
       " 'body': 'metal'}"
      ]
     },
     "execution_count": 70,
     "metadata": {},
     "output_type": "execute_result"
    }
   ],
   "source": [
    "dic.update({\"color\":\"black\"})\n",
    "dic"
   ]
  },
  {
   "cell_type": "code",
   "execution_count": 71,
   "id": "710dcb38-7718-4d71-ae41-b3b1603e5498",
   "metadata": {},
   "outputs": [
    {
     "data": {
      "text/plain": [
       "{'name': 'khyber',\n",
       " 'wheels': 'four',\n",
       " 'light': 'two',\n",
       " 'color': 'black',\n",
       " 'year': 2020}"
      ]
     },
     "execution_count": 71,
     "metadata": {},
     "output_type": "execute_result"
    }
   ],
   "source": [
    "dic.pop(\"body\")\n",
    "dic"
   ]
  },
  {
   "cell_type": "code",
   "execution_count": 72,
   "id": "3a4f1de1-3f79-4723-b1e4-36c764a26011",
   "metadata": {},
   "outputs": [
    {
     "data": {
      "text/plain": [
       "{'name': 'khyber', 'wheels': 'four', 'light': 'two', 'color': 'black'}"
      ]
     },
     "execution_count": 72,
     "metadata": {},
     "output_type": "execute_result"
    }
   ],
   "source": [
    "dic.popitem()\n",
    "dic"
   ]
  },
  {
   "cell_type": "code",
   "execution_count": 73,
   "id": "a1fa4022-8bcd-4aff-a68b-237531b90de5",
   "metadata": {},
   "outputs": [
    {
     "name": "stdout",
     "output_type": "stream",
     "text": [
      "{'name': 'khyber', 'light': 'two', 'color': 'black'}\n"
     ]
    }
   ],
   "source": [
    "del dic[\"wheels\"]\n",
    "print(dic)"
   ]
  },
  {
   "cell_type": "code",
   "execution_count": 74,
   "id": "6bcf4953-7c0c-4c67-b662-62f24ee49b6e",
   "metadata": {},
   "outputs": [
    {
     "data": {
      "text/plain": [
       "{}"
      ]
     },
     "execution_count": 74,
     "metadata": {},
     "output_type": "execute_result"
    }
   ],
   "source": [
    "dic.clear()\n",
    "dic"
   ]
  },
  {
   "cell_type": "code",
   "execution_count": 75,
   "id": "7018bb72-e5d1-4c8f-a69f-ffe5ca91330c",
   "metadata": {},
   "outputs": [
    {
     "data": {
      "text/plain": [
       "{}"
      ]
     },
     "execution_count": 75,
     "metadata": {},
     "output_type": "execute_result"
    }
   ],
   "source": [
    "dic"
   ]
  },
  {
   "cell_type": "code",
   "execution_count": 99,
   "id": "2e81be92-443a-490a-a578-fac7edb80d00",
   "metadata": {},
   "outputs": [
    {
     "data": {
      "text/plain": [
       "{}"
      ]
     },
     "execution_count": 99,
     "metadata": {},
     "output_type": "execute_result"
    }
   ],
   "source": [
    "mydic = {\n",
    "    \"student\":\"mutaba\",\n",
    "    \"age\":18,\n",
    "    \"grade\":[85,99,55],\n",
    "    \"passed\":True\n",
    "}\n",
    "mydic.clear()\n",
    "\n",
    "mydic"
   ]
  },
  {
   "cell_type": "code",
   "execution_count": 116,
   "id": "9d1d05cc-09cb-4270-b191-45ddc5c5bd98",
   "metadata": {},
   "outputs": [
    {
     "name": "stdin",
     "output_type": "stream",
     "text": [
      "enter name =  mutaba\n",
      "enter age =  18\n",
      "enter Class =  Enter\n",
      "enter Rollnum =  6715\n",
      "enter phonenum =  0333286715\n",
      "enter course =  Artificial intelligence and data science\n",
      "enter adress =  latifabad hyderabad near majee hospital mujahid masjid\n"
     ]
    }
   ],
   "source": [
    "\"myintro\"\n",
    "Name = input(\"enter name = \")\n",
    "Age = int(input(\"enter age = \"))\n",
    "Class = input(\"enter Class = \")\n",
    "Rollnum = int(input(\"enter Rollnum = \"))\n",
    "Phonenum = int(input(\"enter phonenum = \"))\n",
    "Course = input(\"enter course = \")\n",
    "Adrees = input(\"enter adress = \")"
   ]
  },
  {
   "cell_type": "code",
   "execution_count": 115,
   "id": "b0af60d8-5571-4543-aad2-6743f63b5fa8",
   "metadata": {},
   "outputs": [
    {
     "name": "stdout",
     "output_type": "stream",
     "text": [
      "{'name': 'mujtaba', 'age': 18, 'class': 'Enter', 'rollnum': 6715, 'phonenum': 3332686715, 'course': 'Artficial intelligence and data science', 'adress': 'Hydeabad latifabad near majee hospital unit no 7 mujahid masjid'}\n"
     ]
    }
   ],
   "source": [
    "  myintro = {\n",
    "    \"name\":\"mujtaba\",\n",
    "      \"age\":18,\n",
    "      \"class\":\"Enter\",\n",
    "      \"rollnum\":6715,\n",
    "      \"phonenum\":3332686715,\n",
    "      \"course\":\"Artficial intelligence and data science\",\n",
    "      \"adress\":\"Hydeabad latifabad near majee hospital unit no 7 mujahid masjid\",\n",
    "      \n",
    "}\n",
    "print(myintro)"
   ]
  },
  {
   "cell_type": "code",
   "execution_count": 136,
   "id": "bbe1870d-c896-4377-9409-dd472f2ad988",
   "metadata": {},
   "outputs": [
    {
     "name": "stdin",
     "output_type": "stream",
     "text": [
      "Enter the obtain marks 100\n",
      "Enter the total marks 80\n"
     ]
    },
    {
     "data": {
      "text/plain": [
       "75.0"
      ]
     },
     "execution_count": 136,
     "metadata": {},
     "output_type": "execute_result"
    }
   ],
   "source": [
    "obtmarks = int(input(\"Enter the obtain marks\"))\n",
    "totalmarks = int(input(\"Enter the total marks\"))\n",
    "\n",
    "obtmarks / totalmarks * 100 - 50 \n"
   ]
  },
  {
   "cell_type": "code",
   "execution_count": null,
   "id": "83886133-126d-406a-8be4-e40cfebd7dc1",
   "metadata": {},
   "outputs": [],
   "source": []
  }
 ],
 "metadata": {
  "kernelspec": {
   "display_name": "Python 3 (ipykernel)",
   "language": "python",
   "name": "python3"
  },
  "language_info": {
   "codemirror_mode": {
    "name": "ipython",
    "version": 3
   },
   "file_extension": ".py",
   "mimetype": "text/x-python",
   "name": "python",
   "nbconvert_exporter": "python",
   "pygments_lexer": "ipython3",
   "version": "3.13.5"
  }
 },
 "nbformat": 4,
 "nbformat_minor": 5
}
