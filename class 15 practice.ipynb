{
 "cells": [
  {
   "cell_type": "markdown",
   "id": "65bb806b-a746-4dda-b1ca-7ffc4624bc26",
   "metadata": {},
   "source": [
    "## FOR LOOP"
   ]
  },
  {
   "cell_type": "code",
   "execution_count": 3,
   "id": "a95d6fd1-7703-4f81-a196-0398f1b119ac",
   "metadata": {},
   "outputs": [
    {
     "name": "stdout",
     "output_type": "stream",
     "text": [
      "apple\n",
      "banana\n",
      "mango\n",
      "orange\n",
      "pineapple\n"
     ]
    }
   ],
   "source": [
    "fruits = [\"apple\",\"banana\",\"mango\",\"orange\",\"pineapple\"]\n",
    "\n",
    "for i in fruits:\n",
    "    print(i)"
   ]
  },
  {
   "cell_type": "code",
   "execution_count": 9,
   "id": "a0fff1e7-3d20-4c85-b74a-6fec72773f9e",
   "metadata": {},
   "outputs": [
    {
     "name": "stdout",
     "output_type": "stream",
     "text": [
      "apple\n",
      "banana\n",
      "mango\n",
      "orange\n",
      "pineapple\n"
     ]
    }
   ],
   "source": [
    "for number in fruits:\n",
    "    print(number)"
   ]
  },
  {
   "cell_type": "code",
   "execution_count": 29,
   "id": "7ad5b391-e971-4ab0-b844-5709274ded35",
   "metadata": {},
   "outputs": [
    {
     "name": "stdout",
     "output_type": "stream",
     "text": [
      "apple\n",
      "banana\n",
      "mango\n"
     ]
    }
   ],
   "source": [
    "for number in fruits:\n",
    "    print(number)\n",
    "    if number == \"mango\":\n",
    "        break"
   ]
  },
  {
   "cell_type": "code",
   "execution_count": 34,
   "id": "1d912d37-3165-4ed0-ac4c-e858963af814",
   "metadata": {},
   "outputs": [
    {
     "name": "stdout",
     "output_type": "stream",
     "text": [
      "apple\n",
      "banana\n",
      "mango\n"
     ]
    }
   ],
   "source": [
    "for number in fruits:\n",
    "    if number == \"orange\":\n",
    "        break\n",
    "    print(number)"
   ]
  },
  {
   "cell_type": "code",
   "execution_count": 36,
   "id": "432cdeae-5b1d-447f-9982-fa64f6283e13",
   "metadata": {},
   "outputs": [
    {
     "name": "stdout",
     "output_type": "stream",
     "text": [
      "apple\n",
      "banana\n",
      "mango\n",
      "orange\n",
      "pineapple\n"
     ]
    }
   ],
   "source": [
    "for number in fruits:\n",
    "    print(number)\n",
    "    if number == \"banana\":\n",
    "        continue"
   ]
  },
  {
   "cell_type": "code",
   "execution_count": 38,
   "id": "787d1317-9de4-4862-a375-5b806cebecac",
   "metadata": {},
   "outputs": [
    {
     "name": "stdout",
     "output_type": "stream",
     "text": [
      "apple\n",
      "mango\n",
      "orange\n",
      "pineapple\n"
     ]
    }
   ],
   "source": [
    "for number in fruits:\n",
    "    if number == \"banana\":\n",
    "        continue\n",
    "    print(number)"
   ]
  },
  {
   "cell_type": "code",
   "execution_count": 42,
   "id": "f9226e0e-ba57-446f-a16a-d63661c6bb13",
   "metadata": {},
   "outputs": [
    {
     "name": "stdout",
     "output_type": "stream",
     "text": [
      "p\n",
      "a\n",
      "k\n",
      "i\n",
      "s\n",
      "t\n",
      "a\n",
      "n\n"
     ]
    }
   ],
   "source": [
    "name = \"pakistan\"\n",
    "for a in name:\n",
    "    print(a)"
   ]
  },
  {
   "cell_type": "code",
   "execution_count": 43,
   "id": "d5c799b9-7839-4aac-98af-24186c0defad",
   "metadata": {},
   "outputs": [],
   "source": [
    "words = \"Pakistan\""
   ]
  },
  {
   "cell_type": "code",
   "execution_count": 44,
   "id": "56379cdb-e92a-48ea-807e-4218c1a200c4",
   "metadata": {},
   "outputs": [
    {
     "name": "stdout",
     "output_type": "stream",
     "text": [
      "apple P\n",
      "banana P\n",
      "mango P\n",
      "orange P\n",
      "pineapple P\n",
      "apple a\n",
      "banana a\n",
      "mango a\n",
      "orange a\n",
      "pineapple a\n",
      "apple k\n",
      "banana k\n",
      "mango k\n",
      "orange k\n",
      "pineapple k\n",
      "apple i\n",
      "banana i\n",
      "mango i\n",
      "orange i\n",
      "pineapple i\n",
      "apple s\n",
      "banana s\n",
      "mango s\n",
      "orange s\n",
      "pineapple s\n",
      "apple t\n",
      "banana t\n",
      "mango t\n",
      "orange t\n",
      "pineapple t\n",
      "apple a\n",
      "banana a\n",
      "mango a\n",
      "orange a\n",
      "pineapple a\n",
      "apple n\n",
      "banana n\n",
      "mango n\n",
      "orange n\n",
      "pineapple n\n"
     ]
    }
   ],
   "source": [
    "for i in words:\n",
    "    for j in fruits:\n",
    "        print(j,i)"
   ]
  },
  {
   "cell_type": "code",
   "execution_count": 52,
   "id": "2749b7c4-cdbe-4a98-bd50-09d082b1ae6e",
   "metadata": {},
   "outputs": [],
   "source": [
    "couzin = [\"saarim\",\"Zeyaam\",\"ukasha\",\"shahrayar\",\"irfan\"]\n",
    "cast = [\"baig\",\"baig\",\"hayat\",\"samol\",\"samol\"] "
   ]
  },
  {
   "cell_type": "code",
   "execution_count": 54,
   "id": "3405b8d6-1898-49ad-9dbf-628f55e80482",
   "metadata": {},
   "outputs": [
    {
     "name": "stdout",
     "output_type": "stream",
     "text": [
      "saarim baig\n",
      "saarim baig\n",
      "saarim hayat\n",
      "saarim samol\n",
      "saarim samol\n",
      "Zeyaam baig\n",
      "Zeyaam baig\n",
      "Zeyaam hayat\n",
      "Zeyaam samol\n",
      "Zeyaam samol\n",
      "ukasha baig\n",
      "ukasha baig\n",
      "ukasha hayat\n",
      "ukasha samol\n",
      "ukasha samol\n",
      "shahrayar baig\n",
      "shahrayar baig\n",
      "shahrayar hayat\n",
      "shahrayar samol\n",
      "shahrayar samol\n",
      "irfan baig\n",
      "irfan baig\n",
      "irfan hayat\n",
      "irfan samol\n",
      "irfan samol\n"
     ]
    }
   ],
   "source": [
    "for i in couzin:\n",
    "    for j in cast:\n",
    "        print(i,j)"
   ]
  },
  {
   "cell_type": "code",
   "execution_count": 61,
   "id": "260f61b4-c6c7-40cd-a783-f1b52d1eabc3",
   "metadata": {},
   "outputs": [
    {
     "name": "stdin",
     "output_type": "stream",
     "text": [
      "Enter a number for starting range 1\n",
      "Enter a number for ending range 3\n"
     ]
    },
    {
     "name": "stdout",
     "output_type": "stream",
     "text": [
      "the total sum of 1 to 3 is 6\n"
     ]
    }
   ],
   "source": [
    "startingnum = int(input(\"Enter a number for starting range\"))\n",
    "endingnum = int(input(\"Enter a number for ending range\"))\n",
    "\n",
    "numbersum = 0 \n",
    "\n",
    "for i in range (startingnum , endingnum + 1 ):\n",
    "    numbersum += i\n",
    "    \n",
    "print(f\"the total sum of {startingnum} to {endingnum} is {numbersum}\")\n",
    "    "
   ]
  },
  {
   "cell_type": "markdown",
   "id": "9174e81e-7588-4905-bfbb-dd66ea6d6d38",
   "metadata": {},
   "source": [
    "# TASK\n",
    "### Create a calculator \n",
    "###  user ask for two integers\n",
    "### user select the operators (add , sub, multiply, division)\n",
    "### display the result"
   ]
  },
  {
   "cell_type": "code",
   "execution_count": 81,
   "id": "6e29cb8c-6586-4064-8507-341d43689111",
   "metadata": {},
   "outputs": [
    {
     "name": "stdin",
     "output_type": "stream",
     "text": [
      "Enter a number 9\n",
      "Enter a number 9\n",
      " \n",
      " Add \n",
      " sub \n",
      " multiply \n",
      " division \n",
      " choice  multiply\n"
     ]
    },
    {
     "name": "stdout",
     "output_type": "stream",
     "text": [
      "9 * 9 = 81\n"
     ]
    }
   ],
   "source": [
    "num1 = int(input(\"Enter a number\"))\n",
    "num2 = int(input(\"Enter a number\"))\n",
    "\n",
    "operators = input(\" \\n Add \\n sub \\n multiply \\n division \\n choice \")\n",
    "\n",
    "if operators == \"Add\":\n",
    "    print(f\"{num1} + {num2} = {num1 + num2}\")\n",
    "elif operators == \"sub\":\n",
    "    print(f\"{num1} - {num2} = {num1 - num2}\")\n",
    "elif operators == \"multiply\":\n",
    "    print(f\"{num1} * {num2} = {num1 * num2}\")\n",
    "elif operators == \"division\":\n",
    "    print(f\"{num1} / {num2} = {num1 / num2}\")\n",
    "else:\n",
    "    print(\"chose the correct operators\")\n",
    "\n",
    "    \n",
    "\n"
   ]
  },
  {
   "cell_type": "code",
   "execution_count": 91,
   "id": "137f3995-5a0f-4d95-a9b1-2622379e9e4f",
   "metadata": {},
   "outputs": [
    {
     "name": "stdout",
     "output_type": "stream",
     "text": [
      "mujtaba got A1 grade\n",
      "ukasha got A1 grade\n",
      "ahmed got C grade\n",
      "ezaan got Fail grade\n",
      "maheen got Fail grade\n",
      "maheen is in failed list.\n",
      "\n"
     ]
    }
   ],
   "source": [
    "std_name = [\"mujtaba\",\"ukasha\",\"ahmed\",\"ezaan\",\"maheen\"]\n",
    "\n",
    "std_name_marks =[ \n",
    "\n",
    "(\"mujtaba\",50,90,89),\n",
    "(\"ukasha\",50,50,100),\n",
    "(\"ahmed\",50,25,25),\n",
    "(\"ezaan\",23,25,50),\n",
    "(\"maheen\",10,5,10)\n",
    "]\n",
    "\n",
    "failed = {\"maheen\", \"ezaan\"}\n",
    "\n",
    "\n",
    "total_marks:{\n",
    "    \"mujtaba\":229,\n",
    "    \"ukasha\":200,\n",
    "    \"ahmed\":100,\n",
    "    \"ezaan\":98,\n",
    "    \"maheen\":25\n",
    "}\n",
    "\n",
    "for name in std_name:\n",
    "    marks = total_marks[name]\n",
    "    \n",
    "    if marks >= 200:\n",
    "        print(f\"{name} got A1 grade\")\n",
    "    elif marks >= 150:\n",
    "        print(f\"{name} got B grade\")\n",
    "    elif marks >= 100:\n",
    "        print(f\"{name} got C grade\")\n",
    "    else:\n",
    "        print(f\"{name} got Fail grade\")\n",
    "if name in failed:\n",
    "        print(f\"{name} is in failed list.\\n\")\n",
    "\n",
    "\n",
    "    "
   ]
  },
  {
   "cell_type": "code",
   "execution_count": 90,
   "id": "1e61bd93-f39d-45d8-981d-a677558aad4c",
   "metadata": {},
   "outputs": [
    {
     "name": "stdout",
     "output_type": "stream",
     "text": [
      "mujtaba got A1 grade\n",
      "ukasha got A1 grade\n",
      "ahmed got C grade\n",
      "ezaan got Fail grade\n",
      "ezaan is in failed list.\n",
      "\n",
      "maheen got Fail grade\n",
      "maheen is in failed list.\n",
      "\n"
     ]
    }
   ],
   "source": [
    "std_name = [\"mujtaba\", \"ukasha\", \"ahmed\", \"ezaan\", \"maheen\"]\n",
    "\n",
    "std_name_marks = [ \n",
    "    (\"mujtaba\", 50, 90, 89),\n",
    "    (\"ukasha\", 50, 50, 100),\n",
    "    (\"ahmed\", 50, 25, 25),\n",
    "    (\"ezaan\", 23, 25, 50),\n",
    "    (\"maheen\", 10, 5, 10)\n",
    "]\n",
    "\n",
    "failed = {\"maheen\", \"ezaan\"}\n",
    "\n",
    "total_marks = {\n",
    "    \"mujtaba\": 229,\n",
    "    \"ukasha\": 200,\n",
    "    \"ahmed\": 100,\n",
    "    \"ezaan\": 98,\n",
    "    \"maheen\": 25\n",
    "}\n",
    "\n",
    "for name in std_name:\n",
    "    marks = total_marks[name]\n",
    "    \n",
    "    if marks >= 200:\n",
    "        print(f\"{name} got A1 grade\")\n",
    "    elif marks >= 150:\n",
    "        print(f\"{name} got B grade\")\n",
    "    elif marks >= 100:\n",
    "        print(f\"{name} got C grade\")\n",
    "    else:\n",
    "        print(f\"{name} got Fail grade\")\n",
    "\n",
    "    if name in failed:\n",
    "        print(f\"{name} is in failed list.\\n\")\n"
   ]
  },
  {
   "cell_type": "code",
   "execution_count": 98,
   "id": "cbd54e62-200f-454d-9a62-5192b3d6bf96",
   "metadata": {},
   "outputs": [
    {
     "name": "stdin",
     "output_type": "stream",
     "text": [
      "Enter a fruit name watermallon\n"
     ]
    },
    {
     "name": "stdout",
     "output_type": "stream",
     "text": [
      "yes, watermallon is available. price is 1000 tumhari auqat se bahar\n"
     ]
    }
   ],
   "source": [
    "user = input(\"Enter a fruit name\")\n",
    "\n",
    "price = {\n",
    "    \"apple\":100,\n",
    "    \"banana\":150,\n",
    "    \"cherry\":120,\n",
    "    \"orange\":220,\n",
    "    \"grapes\":300,\n",
    "    \"watermallon\":1000,\n",
    "} \n",
    "\n",
    "if user in price:\n",
    "    print(f\"yes, {user} is available. price is {price[user]} tumhari auqat se bahar\")\n",
    "else:\n",
    "    print(f\" sorry, {user} is not availbale.\")"
   ]
  },
  {
   "cell_type": "code",
   "execution_count": 102,
   "id": "6aed87f0-50c3-447e-8a81-81e028bcc5ec",
   "metadata": {},
   "outputs": [
    {
     "name": "stdin",
     "output_type": "stream",
     "text": [
      "Enter a fruit name:  Apple\n"
     ]
    },
    {
     "name": "stdout",
     "output_type": "stream",
     "text": [
      "Yes, apple is available. Price is 100\n"
     ]
    }
   ],
   "source": [
    "user = input(\"Enter a fruit name: \").lower()\n",
    "\n",
    "price = {\n",
    "    \"apple\": 100,\n",
    "    \"banana\": 150,\n",
    "    \"cherry\": 120,\n",
    "    \"orange\": 220,\n",
    "    \"grapes\": 300,\n",
    "    \"watermelon\": 1000,\n",
    "} \n",
    "\n",
    "if user in price:\n",
    "    print(f\"Yes, {user} is available. Price is {price[user]}\")\n",
    "else:\n",
    "    print(f\"Sorry, {user} is not available.\")\n"
   ]
  },
  {
   "cell_type": "code",
   "execution_count": 104,
   "id": "8b994aa9-7036-4ba6-b1e2-147e38e0d3fd",
   "metadata": {},
   "outputs": [
    {
     "name": "stdin",
     "output_type": "stream",
     "text": [
      "Enter a number 3\n"
     ]
    },
    {
     "name": "stdout",
     "output_type": "stream",
     "text": [
      "odd\n"
     ]
    }
   ],
   "source": [
    "user = int(input(\"Enter a number\"))\n",
    "\n",
    "if user % 2 == 0:\n",
    "    print(\"even\")\n",
    "else:\n",
    "    print(\"odd\")"
   ]
  },
  {
   "cell_type": "code",
   "execution_count": 105,
   "id": "f003be7c-ba18-4ca5-95c9-bc05e5e1ab6c",
   "metadata": {},
   "outputs": [
    {
     "name": "stdin",
     "output_type": "stream",
     "text": [
      "Enter a number :  1\n",
      "Enter a number :  2\n",
      "Enter a number :  3\n",
      "Enter a number :  4\n",
      "Enter a number :  5\n"
     ]
    },
    {
     "name": "stdout",
     "output_type": "stream",
     "text": [
      "Even numbers: [2, 4]\n",
      "Odd numbers: [1, 3, 5]\n"
     ]
    }
   ],
   "source": [
    "even_number = []\n",
    "odd_number = []\n",
    "\n",
    "for i in range(5):\n",
    "    num = int(input(\"Enter a number : \"))\n",
    "\n",
    "    \n",
    "    if num % 2 == 0:\n",
    "        even_number.append(num)\n",
    "    else:\n",
    "        odd_number.append(num)\n",
    "\n",
    "print(\"Even numbers:\", even_number)\n",
    "print(\"Odd numbers:\", odd_number)\n"
   ]
  },
  {
   "cell_type": "code",
   "execution_count": 121,
   "id": "0568de48-4c16-4839-bbf6-fa9ff89abf9b",
   "metadata": {},
   "outputs": [
    {
     "name": "stdin",
     "output_type": "stream",
     "text": [
      "Enter your age 12\n"
     ]
    },
    {
     "name": "stdout",
     "output_type": "stream",
     "text": [
      "you are a child\n"
     ]
    }
   ],
   "source": [
    "user1 = int(input(\"Enter your age\"))\n",
    "\n",
    "if user1 < 13:\n",
    "    print(\"you are a child\")\n",
    "elif user1 >= 13 and user1 <= 19:\n",
    "    print(\"you are a tenager\")\n",
    "elif user1 >= 20 and user1 <= 59:\n",
    "    print(\"you are a adult\")\n",
    "else:\n",
    "    print(\"you are a seniour citizen\")\n",
    "\n",
    "    "
   ]
  },
  {
   "cell_type": "code",
   "execution_count": 113,
   "id": "77cc668e-5ecb-4aa3-abee-cfc5fe47e003",
   "metadata": {},
   "outputs": [
    {
     "name": "stdin",
     "output_type": "stream",
     "text": [
      "Enter your age:  67\n"
     ]
    },
    {
     "name": "stdout",
     "output_type": "stream",
     "text": [
      "You are a senior citizen.\n"
     ]
    }
   ],
   "source": [
    "user1 = int(input(\"Enter your age: \"))\n",
    "\n",
    "if user1 < 13:\n",
    "    print(\"You are a child.\")\n",
    "elif user1 >= 13 and user1 <= 19:\n",
    "    print(\"You are a teenager.\")\n",
    "elif user1 >= 20 and user1 <= 59:\n",
    "    print(\"You are an adult.\")\n",
    "else:\n",
    "    print(\"You are a senior citizen.\")\n"
   ]
  },
  {
   "cell_type": "code",
   "execution_count": 134,
   "id": "2e904cdc-40ab-4003-934b-54513ebd87b8",
   "metadata": {},
   "outputs": [
    {
     "name": "stdin",
     "output_type": "stream",
     "text": [
      "Enter item seprated by comma : apple,banana,cherry,watermallon,orange,kiwi\n"
     ]
    },
    {
     "name": "stdout",
     "output_type": "stream",
     "text": [
      "['apple', 'banana', 'cherry', 'watermallon', 'orange', 'kiwi']\n",
      "Available items total price: 590\n",
      "Unavailable items: watermallon, kiwi\n"
     ]
    }
   ],
   "source": [
    "item_price = {\n",
    "    \"apple\":50,\n",
    "    \"banana\":60,\n",
    "    \"cherry\":70,\n",
    "    \"watermallon\":200,\n",
    "    \"orange\":300,\n",
    "    \"kiwi\":1000\n",
    "}\n",
    "\n",
    "user_input = input(\"Enter item seprated by comma :\")\n",
    "\n",
    "items = user_input.lower().split(\",\")\n",
    "print(items)\n",
    "\n",
    "total_price = 0\n",
    "unavailable_items = []\n",
    "\n",
    "for item in items:\n",
    "    item = item.strip()  # spaces hatao agar user ne diye hon\n",
    "    if item in price:\n",
    "        total_price += price[item]\n",
    "    else:\n",
    "        unavailable_items.append(item)\n",
    "\n",
    "print(f\"Available items total price: {total_price}\")\n",
    "if unavailable_items:\n",
    "    print(\"Unavailable items:\", \", \".join(unavailable_items))\n",
    "else:\n",
    "    print(\"All items are available.\")\n"
   ]
  },
  {
   "cell_type": "code",
   "execution_count": 154,
   "id": "28a85ab0-aadc-42ce-99b3-b59b04eda2c8",
   "metadata": {},
   "outputs": [
    {
     "name": "stdin",
     "output_type": "stream",
     "text": [
      "Enter a letter : mujtaba\n"
     ]
    },
    {
     "name": "stdout",
     "output_type": "stream",
     "text": [
      "it is a consonent\n"
     ]
    }
   ],
   "source": [
    "vowel = \"aeioumujtba\"\n",
    "letter = input(\"Enter a letter :\").lower()\n",
    "\n",
    "if letter in vowel:\n",
    "    print(\"it is a vowel\")\n",
    "else:\n",
    "    print(\"it is a consonent\")"
   ]
  },
  {
   "cell_type": "code",
   "execution_count": 167,
   "id": "40063749-0a7f-4f1c-9f90-cfd177801a3a",
   "metadata": {},
   "outputs": [
    {
     "name": "stdin",
     "output_type": "stream",
     "text": [
      "Guest a number 7\n"
     ]
    },
    {
     "name": "stdout",
     "output_type": "stream",
     "text": [
      "you guess correct\n"
     ]
    }
   ],
   "source": [
    "secnum = 7\n",
    "\n",
    "num = int(input(\"Guest a number\"))\n",
    "\n",
    "if num < secnum:\n",
    "    print(\"you guess low\")\n",
    "elif num > secnum:\n",
    "    print(\"you guess high\")\n",
    "elif num == secnum:\n",
    "    print(\"you guess correct\")\n",
    "else:\n",
    "    print(\"Enter a correct input\")\n",
    "\n"
   ]
  },
  {
   "cell_type": "code",
   "execution_count": 2,
   "id": "7c971d84-1851-4d07-bdd8-21f80a0d9b59",
   "metadata": {},
   "outputs": [
    {
     "name": "stdin",
     "output_type": "stream",
     "text": [
      "Guess a number between 1 and 10:  1\n"
     ]
    },
    {
     "name": "stdout",
     "output_type": "stream",
     "text": [
      "Too low!\n",
      "The secret number was: 2\n"
     ]
    }
   ],
   "source": [
    "import random\n",
    "\n",
    "secret = random.randint(1, 10)\n",
    "guess = int(input(\"Guess a number between 1 and 10: \"))\n",
    "\n",
    "if guess == secret:\n",
    "    print(\"You guessed it right!\")\n",
    "elif guess < secret:\n",
    "    print(\"Too low!\")\n",
    "else:\n",
    "    print(\"Too high!\")\n",
    "\n",
    "print(f\"The secret number was: {secret}\")\n"
   ]
  },
  {
   "cell_type": "code",
   "execution_count": 17,
   "id": "72b2de8e-27db-48be-b46d-de818579d7aa",
   "metadata": {},
   "outputs": [
    {
     "name": "stdin",
     "output_type": "stream",
     "text": [
      "Enter number 1\n",
      "Enter last number 5\n"
     ]
    },
    {
     "name": "stdout",
     "output_type": "stream",
     "text": [
      "1\n",
      "3\n"
     ]
    }
   ],
   "source": [
    "i = int(input(\"Enter number\"))\n",
    "e = int(input(\"Enter last number\"))\n",
    "while i < e:\n",
    "  print(i)\n",
    "  i += 2"
   ]
  },
  {
   "cell_type": "code",
   "execution_count": 9,
   "id": "34698a71-4a3c-4549-a42a-ace5bb8edbf0",
   "metadata": {},
   "outputs": [
    {
     "name": "stdin",
     "output_type": "stream",
     "text": [
      "Enter number 1\n",
      "Enter last number 50\n",
      "Enter stop number 30\n",
      "Enter gap number 3\n"
     ]
    },
    {
     "name": "stdout",
     "output_type": "stream",
     "text": [
      "1\n",
      "4\n",
      "7\n",
      "10\n",
      "13\n",
      "16\n",
      "19\n",
      "22\n",
      "25\n",
      "28\n",
      "31\n",
      "34\n",
      "37\n",
      "40\n",
      "43\n",
      "46\n",
      "49\n"
     ]
    }
   ],
   "source": [
    "number = int(input(\"Enter number\"))\n",
    "last_num = int(input(\"Enter last number\"))\n",
    "breaks = int(input(\"Enter stop number\"))\n",
    "gap = int(input(\"Enter gap number\"))\n",
    "while number < last_num:\n",
    "  print(number)\n",
    "  if last_num == breaks:\n",
    "      break\n",
    "  number += gap\n"
   ]
  },
  {
   "cell_type": "code",
   "execution_count": null,
   "id": "30ab9dd1-5762-48c9-9ec4-5050b5cd68b3",
   "metadata": {},
   "outputs": [],
   "source": []
  },
  {
   "cell_type": "code",
   "execution_count": null,
   "id": "cdb70ea8-63ce-4a3c-bb63-c1c4cede3632",
   "metadata": {},
   "outputs": [],
   "source": []
  }
 ],
 "metadata": {
  "kernelspec": {
   "display_name": "Python 3 (ipykernel)",
   "language": "python",
   "name": "python3"
  },
  "language_info": {
   "codemirror_mode": {
    "name": "ipython",
    "version": 3
   },
   "file_extension": ".py",
   "mimetype": "text/x-python",
   "name": "python",
   "nbconvert_exporter": "python",
   "pygments_lexer": "ipython3",
   "version": "3.13.5"
  }
 },
 "nbformat": 4,
 "nbformat_minor": 5
}
