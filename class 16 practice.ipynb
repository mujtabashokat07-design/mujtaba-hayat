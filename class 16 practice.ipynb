{
 "cells": [
  {
   "cell_type": "code",
   "execution_count": 1,
   "id": "a22c66bc-7ee5-4284-8f51-ecda84d703cb",
   "metadata": {},
   "outputs": [],
   "source": [
    "def halloworld():\n",
    "    print(\"hii\")"
   ]
  },
  {
   "cell_type": "code",
   "execution_count": 4,
   "id": "f892d466-cd70-4843-8d3f-1823bcdec32b",
   "metadata": {},
   "outputs": [
    {
     "name": "stdout",
     "output_type": "stream",
     "text": [
      "hii\n"
     ]
    }
   ],
   "source": [
    "halloworld()"
   ]
  },
  {
   "cell_type": "code",
   "execution_count": 12,
   "id": "e98fde00-cc45-4c9e-9fa2-483fd3b979cd",
   "metadata": {},
   "outputs": [],
   "source": [
    "def hii():\n",
    "    print(\"welcome to my home\")\n",
    "    print(\"kab ghar jao ge\")\n",
    "\n",
    "    return f\"by\""
   ]
  },
  {
   "cell_type": "code",
   "execution_count": 82,
   "id": "2b9b7a39-07d8-427b-b6b0-0bf870a98cd9",
   "metadata": {
    "scrolled": true
   },
   "outputs": [
    {
     "name": "stdout",
     "output_type": "stream",
     "text": [
      "welcome to my home\n",
      "kab ghar jao ge\n"
     ]
    },
    {
     "data": {
      "text/plain": [
       "'by'"
      ]
     },
     "execution_count": 82,
     "metadata": {},
     "output_type": "execute_result"
    }
   ],
   "source": [
    "hii()"
   ]
  },
  {
   "cell_type": "code",
   "execution_count": 83,
   "id": "10f90423-5714-40d8-8c3d-ebef0b164074",
   "metadata": {},
   "outputs": [
    {
     "name": "stdout",
     "output_type": "stream",
     "text": [
      "welcome to my home\n",
      "kab ghar jao ge\n"
     ]
    }
   ],
   "source": [
    "hi = hii()"
   ]
  },
  {
   "cell_type": "code",
   "execution_count": 84,
   "id": "df7af082-e170-4922-8551-5f174bac72fc",
   "metadata": {},
   "outputs": [
    {
     "name": "stdout",
     "output_type": "stream",
     "text": [
      "by\n"
     ]
    }
   ],
   "source": [
    "print(hi)"
   ]
  },
  {
   "cell_type": "code",
   "execution_count": 85,
   "id": "3c99a86e-09c9-4f08-aa16-d909de4bc4c3",
   "metadata": {},
   "outputs": [],
   "source": [
    "def addition():\n",
    "    print (50 * 5)\n",
    "    return f\"250\""
   ]
  },
  {
   "cell_type": "code",
   "execution_count": 86,
   "id": "ebab8a9e-e2a5-4428-88c5-452101e48082",
   "metadata": {},
   "outputs": [
    {
     "name": "stdout",
     "output_type": "stream",
     "text": [
      "250\n"
     ]
    },
    {
     "data": {
      "text/plain": [
       "'250'"
      ]
     },
     "execution_count": 86,
     "metadata": {},
     "output_type": "execute_result"
    }
   ],
   "source": [
    "addition()"
   ]
  },
  {
   "cell_type": "code",
   "execution_count": 87,
   "id": "809f5524-49aa-49dd-bb68-d3da0c27b98d",
   "metadata": {},
   "outputs": [
    {
     "name": "stdout",
     "output_type": "stream",
     "text": [
      "250\n"
     ]
    }
   ],
   "source": [
    "add = addition()"
   ]
  },
  {
   "cell_type": "code",
   "execution_count": 88,
   "id": "a6771f67-0107-433a-b343-41de6bbf8946",
   "metadata": {},
   "outputs": [
    {
     "data": {
      "text/plain": [
       "'250'"
      ]
     },
     "execution_count": 88,
     "metadata": {},
     "output_type": "execute_result"
    }
   ],
   "source": [
    "add"
   ]
  },
  {
   "cell_type": "code",
   "execution_count": 89,
   "id": "9deb714f-4e66-4503-9697-791ff0087f15",
   "metadata": {},
   "outputs": [],
   "source": [
    "def name():\n",
    "    print(\"Mujtaba\")\n",
    "    return f\"muju\""
   ]
  },
  {
   "cell_type": "code",
   "execution_count": 90,
   "id": "1b48f6be-481a-4910-bdff-47485ef48295",
   "metadata": {},
   "outputs": [
    {
     "name": "stdout",
     "output_type": "stream",
     "text": [
      "Mujtaba\n"
     ]
    },
    {
     "data": {
      "text/plain": [
       "'muju'"
      ]
     },
     "execution_count": 90,
     "metadata": {},
     "output_type": "execute_result"
    }
   ],
   "source": [
    "name()"
   ]
  },
  {
   "cell_type": "code",
   "execution_count": 91,
   "id": "eed0e5db-77c2-4bde-8748-dd00b57bfc93",
   "metadata": {},
   "outputs": [
    {
     "name": "stdout",
     "output_type": "stream",
     "text": [
      "Mujtaba\n"
     ]
    }
   ],
   "source": [
    "nic = name()"
   ]
  },
  {
   "cell_type": "code",
   "execution_count": 92,
   "id": "205425b5-6e8c-47b9-bd87-89a82da042ad",
   "metadata": {},
   "outputs": [
    {
     "data": {
      "text/plain": [
       "'muju'"
      ]
     },
     "execution_count": 92,
     "metadata": {},
     "output_type": "execute_result"
    }
   ],
   "source": [
    "nic"
   ]
  },
  {
   "cell_type": "code",
   "execution_count": 93,
   "id": "3b2875ae-c35f-433d-ab59-41164e0d9b28",
   "metadata": {},
   "outputs": [],
   "source": [
    "def multiplication(num1 , num2):\n",
    "    x = num1 * num2\n",
    "    return x"
   ]
  },
  {
   "cell_type": "code",
   "execution_count": 94,
   "id": "c6cc1d7c-fce9-477b-88c5-06c3b5c8cf49",
   "metadata": {},
   "outputs": [
    {
     "data": {
      "text/plain": [
       "16"
      ]
     },
     "execution_count": 94,
     "metadata": {},
     "output_type": "execute_result"
    }
   ],
   "source": [
    "multiplication(2 , 8)"
   ]
  },
  {
   "cell_type": "code",
   "execution_count": 95,
   "id": "10b4f65d-558b-4419-8189-c5a9ecc6ce14",
   "metadata": {},
   "outputs": [],
   "source": [
    "def multiplictions(num1:int = 1, num2:int = 2):\n",
    "    x = num1 * num2\n",
    "    return x "
   ]
  },
  {
   "cell_type": "code",
   "execution_count": 96,
   "id": "f2858365-9ae3-4daa-bfc3-4bfea4d8eb74",
   "metadata": {},
   "outputs": [
    {
     "data": {
      "text/plain": [
       "24"
      ]
     },
     "execution_count": 96,
     "metadata": {},
     "output_type": "execute_result"
    }
   ],
   "source": [
    "multiplictions(2 , 12)"
   ]
  },
  {
   "cell_type": "code",
   "execution_count": 97,
   "id": "ab4714ad-3f9e-4e24-8683-acb6197deecc",
   "metadata": {},
   "outputs": [
    {
     "name": "stdin",
     "output_type": "stream",
     "text": [
      "Enter a name mujtaba\n"
     ]
    }
   ],
   "source": [
    "name = input(\"Enter a name\")"
   ]
  },
  {
   "cell_type": "code",
   "execution_count": 98,
   "id": "fdeed878-c33e-4738-b946-e7d4e320723b",
   "metadata": {},
   "outputs": [
    {
     "name": "stdin",
     "output_type": "stream",
     "text": [
      "Enter a name mujtaba\n"
     ]
    }
   ],
   "source": [
    "name = str(input(\"Enter a name\"))"
   ]
  },
  {
   "cell_type": "code",
   "execution_count": 100,
   "id": "90576b05-6f38-4b09-85fd-37da81e35eed",
   "metadata": {},
   "outputs": [
    {
     "name": "stdin",
     "output_type": "stream",
     "text": [
      "Enter a number 25\n"
     ]
    }
   ],
   "source": [
    "name = int(input(\"Enter a number\"))"
   ]
  },
  {
   "cell_type": "code",
   "execution_count": 101,
   "id": "a4e76b42-9762-48ff-9a2f-eed9d7082b7b",
   "metadata": {},
   "outputs": [
    {
     "name": "stdin",
     "output_type": "stream",
     "text": [
      "Enter a number 2.5\n"
     ]
    }
   ],
   "source": [
    "name = float(input(\"Enter a number\"))"
   ]
  },
  {
   "cell_type": "code",
   "execution_count": 106,
   "id": "3a1abaef-1609-47b9-960e-01d3a1541ba0",
   "metadata": {},
   "outputs": [
    {
     "name": "stdin",
     "output_type": "stream",
     "text": [
      "Enter a number THIS IS NOT A MAN\n"
     ]
    }
   ],
   "source": [
    "name = bool(input(\"Enter a number\"))"
   ]
  },
  {
   "cell_type": "code",
   "execution_count": 121,
   "id": "32d942f4-b84e-46dc-9a40-2ac94ac5f7cd",
   "metadata": {},
   "outputs": [],
   "source": [
    "country = [\"pakistan\",\"india\",\"china\"]"
   ]
  },
  {
   "cell_type": "code",
   "execution_count": 122,
   "id": "028eaf3d-8a27-45f2-b0af-7c99da203965",
   "metadata": {},
   "outputs": [
    {
     "name": "stdout",
     "output_type": "stream",
     "text": [
      "['pakistan', 'india', 'china']\n"
     ]
    }
   ],
   "source": [
    "print(country)"
   ]
  },
  {
   "cell_type": "code",
   "execution_count": 123,
   "id": "497cff60-9ceb-440a-8609-ae22888e6c31",
   "metadata": {},
   "outputs": [],
   "source": [
    "city = (\"hyderabad\",\"karachi\",\"islamabad\")"
   ]
  },
  {
   "cell_type": "code",
   "execution_count": 125,
   "id": "def6dc20-5973-40ec-9701-8b2a84282de9",
   "metadata": {},
   "outputs": [
    {
     "name": "stdout",
     "output_type": "stream",
     "text": [
      "('hyderabad', 'karachi', 'islamabad')\n"
     ]
    }
   ],
   "source": [
    "print(city)"
   ]
  },
  {
   "cell_type": "code",
   "execution_count": 126,
   "id": "a8b6c2e9-9d1c-4a2b-9642-54898af248cf",
   "metadata": {},
   "outputs": [],
   "source": [
    "name = {\"mujtaba\",\"ukasha\",\"ahmed\"}"
   ]
  },
  {
   "cell_type": "code",
   "execution_count": 128,
   "id": "fa88d18e-411b-4d02-984b-eeb7eee11d7f",
   "metadata": {},
   "outputs": [
    {
     "name": "stdout",
     "output_type": "stream",
     "text": [
      "{'ahmed', 'ukasha', 'mujtaba'}\n"
     ]
    }
   ],
   "source": [
    "print(name)"
   ]
  },
  {
   "cell_type": "code",
   "execution_count": null,
   "id": "0cd08b67-5dce-4eea-8e5a-6546788db3c9",
   "metadata": {},
   "outputs": [],
   "source": []
  }
 ],
 "metadata": {
  "kernelspec": {
   "display_name": "Python 3 (ipykernel)",
   "language": "python",
   "name": "python3"
  },
  "language_info": {
   "codemirror_mode": {
    "name": "ipython",
    "version": 3
   },
   "file_extension": ".py",
   "mimetype": "text/x-python",
   "name": "python",
   "nbconvert_exporter": "python",
   "pygments_lexer": "ipython3",
   "version": "3.13.5"
  }
 },
 "nbformat": 4,
 "nbformat_minor": 5
}
