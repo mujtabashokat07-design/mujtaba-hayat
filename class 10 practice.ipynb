{
 "cells": [
  {
   "cell_type": "code",
   "execution_count": 13,
   "id": "3ee039da-fdc6-469f-8ba0-8dfb9f43b56f",
   "metadata": {},
   "outputs": [
    {
     "name": "stdin",
     "output_type": "stream",
     "text": [
      "Enter student name : mujtaba\n",
      "Enter roll number : 6715\n",
      "Enter marks of chemistry : 100\n",
      "Enter marks of physics : 100\n",
      "Enter marks of computer : 100\n",
      "Enter marks of maths : 100\n",
      "Enter marks of bio : 100\n"
     ]
    },
    {
     "name": "stdout",
     "output_type": "stream",
     "text": [
      "student_detail : {'Student name': 'mujtaba', 'Roll number': 6715, 'marks': {'Chemistry': 100, 'physice': 100, 'computer': 100, 'maths': 100, 'biology': 100}}\n",
      "ObtainMarks : 500 \n",
      "TotalMarks : 500 \n",
      "Perentage : 100.0\n"
     ]
    }
   ],
   "source": [
    " std_name = input(\"Enter student name :\")\n",
    "roll_num = int(input(\"Enter roll number :\"))\n",
    "\n",
    "chm = int(input(\"Enter marks of chemistry :\"))\n",
    "phy = int(input(\"Enter marks of physics :\"))\n",
    "comp = int(input(\"Enter marks of computer :\"))\n",
    "math = int(input(\"Enter marks of maths :\"))\n",
    "bio = int(input(\"Enter marks of bio :\"))\n",
    "\n",
    "std_detail = {\n",
    "    \"Student name\":std_name,\n",
    "    \"Roll number\":roll_num,\n",
    "    \"marks\" : {\n",
    "        \"Chemistry\":chm,\n",
    "        \"physice\":phy,\n",
    "        \"computer\":comp,\n",
    "        \"maths\":math,\n",
    "        \"biology\":bio,\n",
    "    \n",
    "    }\n",
    "}\n",
    "\n",
    "TotalMarks  = 500\n",
    "ObtainMarks = chm + phy + comp + math + bio \n",
    "percentage = ( ObtainMarks / TotalMarks ) * 100\n",
    "\n",
    "print(\"student_detail :\"  ,std_detail)\n",
    "print(f\"ObtainMarks : {ObtainMarks} \\nTotalMarks : {TotalMarks} \\nPerentage : {percentage:.1f}\")"
   ]
  },
  {
   "cell_type": "code",
   "execution_count": null,
   "id": "b546d242-6c46-43d5-804e-fe430cd13e68",
   "metadata": {},
   "outputs": [],
   "source": [
    "a, b, c, d, e, Male = \"Chota Don\", \"Chota Chatan\", 420, 525.525, 4.1, False"
   ]
  },
  {
   "cell_type": "code",
   "execution_count": 7,
   "id": "028b93d3-c445-4c3d-b44f-a3cd47fd7a39",
   "metadata": {},
   "outputs": [
    {
     "name": "stdout",
     "output_type": "stream",
     "text": [
      "Name: Chota Don\n",
      "\tNickName: Chota Chatan\n",
      "\t\tAGE: 420\n",
      "\t\t\tWeight: 525.525\n",
      "\t\tHeight: 4.1\n",
      "\tMale: False\n"
     ]
    }
   ],
   "source": [
    "print(f\"Name: {a}\\n\\tNickName: {b}\\n\\t\\tAGE: {c}\\n\\t\\t\\tWeight: {d}\\n\\t\\tHeight: {e}\\n\\tMale: {Male}\")"
   ]
  },
  {
   "cell_type": "code",
   "execution_count": null,
   "id": "e3c21593-a58e-42b6-8457-13d9dca14117",
   "metadata": {},
   "outputs": [],
   "source": [
    " a , b, c, d, Male = \"mujtaba don\", \"mujtaba hayat\", 43, 5.9 , True"
   ]
  },
  {
   "cell_type": "code",
   "execution_count": 16,
   "id": "168a018c-5905-49bc-8319-b570fb8be130",
   "metadata": {},
   "outputs": [
    {
     "name": "stdout",
     "output_type": "stream",
     "text": [
      "Name : Chota Don \n",
      "\t Nick_name : Chota Chatan \n",
      "\t\t \t\tweight : 420 \n",
      "\t Hieght : 525.525 \n",
      " Gender : False\n"
     ]
    }
   ],
   "source": [
    "print (f\"Name : {a} \\n\\t Nick_name : {b} \\n\\t\\t \\t\\tweight : {c} \\n\\t Hieght : {d} \\n Gender : {Male}\")"
   ]
  },
  {
   "cell_type": "code",
   "execution_count": 24,
   "id": "f143f4e1-a774-40b4-8261-8562f087de06",
   "metadata": {},
   "outputs": [
    {
     "name": "stdin",
     "output_type": "stream",
     "text": [
      "Enter the name m\n",
      "Enter the age 1\n",
      "Enter chm marks 22\n",
      "Enter phy marks 22\n"
     ]
    },
    {
     "name": "stdout",
     "output_type": "stream",
     "text": [
      "obtainmarks : 44  \n",
      "totalmarks : 200 \n",
      "percentage : 454.55 \n"
     ]
    }
   ],
   "source": [
    "name = input(\"Enter the name\")\n",
    "age = int(input(\"Enter the age\"))\n",
    "\n",
    "che = int(input(\"Enter chm marks\"))\n",
    "phy = int(input(\"Enter phy marks\"))\n",
    "\n",
    "\n",
    "totalmarks = 200\n",
    "obtainmarks = che + phy\n",
    "percentage = (totalmarks /obtainmarks) * 100\n",
    "\n",
    "\n",
    "print(f\"obtainmarks : {obtainmarks}  \\ntotalmarks : {totalmarks} \\npercentage : {percentage:.2f} \")\n"
   ]
  },
  {
   "cell_type": "code",
   "execution_count": 2,
   "id": "20bab31b-5e1e-46cc-a9f1-5b6f3f277ef2",
   "metadata": {},
   "outputs": [
    {
     "name": "stdin",
     "output_type": "stream",
     "text": [
      "Enter the name  mujtaba\n",
      "Enter the roll number  6715\n",
      "Enter the chemistry marks 100\n",
      "Enter the english marks 99\n",
      "Enter the maths marks 98\n",
      "Enter the physics marks 97\n",
      "Enter the islamiyat marks 96\n"
     ]
    },
    {
     "name": "stdout",
     "output_type": "stream",
     "text": [
      "totalnumber : 500 \n",
      "obtainmarks : 490 \n",
      "percentge : 98.0\n"
     ]
    }
   ],
   "source": [
    "name = input(\"Enter the name \")\n",
    "roll_num = int(input(\"Enter the roll number \"))\n",
    "\n",
    "chm = int(input(\"Enter the chemistry marks\"))\n",
    "eng = int(input(\"Enter the english marks\"))\n",
    "math = int(input(\"Enter the maths marks\"))\n",
    "phy = int(input(\"Enter the physics marks\"))\n",
    "isl = int(input(\"Enter the islamiyat marks\"))\n",
    "\n",
    "\n",
    "totalnumber = 500\n",
    "obtainmarks = chm + eng + math + phy + isl \n",
    "percentage = (obtainmarks / totalnumber) * 100\n",
    "\n",
    "print(f\"totalnumber : {totalnumber} \\nobtainmarks : {obtainmarks} \\npercentge : {percentage}\")"
   ]
  },
  {
   "cell_type": "code",
   "execution_count": 3,
   "id": "dfaad701-0d24-43eb-b8bb-ba2e973cc892",
   "metadata": {},
   "outputs": [
    {
     "data": {
      "text/plain": [
       "range(0, 100)"
      ]
     },
     "execution_count": 3,
     "metadata": {},
     "output_type": "execute_result"
    }
   ],
   "source": [
    "x = range(100)\n",
    "x"
   ]
  },
  {
   "cell_type": "code",
   "execution_count": 4,
   "id": "783eedda-7553-4b36-9c3a-b8c2bd0453ef",
   "metadata": {},
   "outputs": [
    {
     "data": {
      "text/plain": [
       "range"
      ]
     },
     "execution_count": 4,
     "metadata": {},
     "output_type": "execute_result"
    }
   ],
   "source": [
    "type(x)"
   ]
  },
  {
   "cell_type": "code",
   "execution_count": 5,
   "id": "7cb48c1f-95d0-449b-a9be-f1ffdb480d81",
   "metadata": {},
   "outputs": [
    {
     "name": "stdout",
     "output_type": "stream",
     "text": [
      "None\n"
     ]
    }
   ],
   "source": [
    "var = None\n",
    "print(var)\n",
    "var"
   ]
  },
  {
   "cell_type": "code",
   "execution_count": 6,
   "id": "1766dd49-4078-49eb-beab-e767c99be820",
   "metadata": {},
   "outputs": [
    {
     "name": "stdout",
     "output_type": "stream",
     "text": [
      "10\n"
     ]
    }
   ],
   "source": [
    "var = 10\n",
    "print(var)"
   ]
  },
  {
   "cell_type": "code",
   "execution_count": 7,
   "id": "cdd3793f-250c-4579-be7a-1811a7eb3b5f",
   "metadata": {},
   "outputs": [
    {
     "data": {
      "text/plain": [
       "123457j"
      ]
     },
     "execution_count": 7,
     "metadata": {},
     "output_type": "execute_result"
    }
   ],
   "source": [
    "complexnum = 123457j\n",
    "complexnum"
   ]
  },
  {
   "cell_type": "code",
   "execution_count": 8,
   "id": "662e39d1-20c9-43f5-9878-77d1bcf59c4d",
   "metadata": {},
   "outputs": [
    {
     "data": {
      "text/plain": [
       "complex"
      ]
     },
     "execution_count": 8,
     "metadata": {},
     "output_type": "execute_result"
    }
   ],
   "source": [
    "type(complexnum)"
   ]
  },
  {
   "cell_type": "code",
   "execution_count": 9,
   "id": "f0c9ec99-e945-47fc-a501-6562ad07b9b6",
   "metadata": {},
   "outputs": [
    {
     "data": {
      "text/plain": [
       "1000"
      ]
     },
     "execution_count": 9,
     "metadata": {},
     "output_type": "execute_result"
    }
   ],
   "source": [
    "num = 1000\n",
    "num"
   ]
  },
  {
   "cell_type": "code",
   "execution_count": 10,
   "id": "5c5b0c7f-25d8-4def-9ae9-27bd52f6e858",
   "metadata": {},
   "outputs": [
    {
     "data": {
      "text/plain": [
       "int"
      ]
     },
     "execution_count": 10,
     "metadata": {},
     "output_type": "execute_result"
    }
   ],
   "source": [
    "type(num)"
   ]
  },
  {
   "cell_type": "code",
   "execution_count": 11,
   "id": "88096921-0a3b-48fb-8bf4-8cc557da3f5b",
   "metadata": {},
   "outputs": [
    {
     "data": {
      "text/plain": [
       "'j'"
      ]
     },
     "execution_count": 11,
     "metadata": {},
     "output_type": "execute_result"
    }
   ],
   "source": [
    "string = \"mujtaba\"\n",
    "string[2]"
   ]
  },
  {
   "cell_type": "code",
   "execution_count": 13,
   "id": "eeca2989-2358-444d-8d54-cd4763e746ba",
   "metadata": {},
   "outputs": [
    {
     "data": {
      "text/plain": [
       "'ta'"
      ]
     },
     "execution_count": 13,
     "metadata": {},
     "output_type": "execute_result"
    }
   ],
   "source": [
    "string[3:5]"
   ]
  },
  {
   "cell_type": "code",
   "execution_count": 14,
   "id": "71fdbd47-cdf3-481d-900d-3c2fb2c5af75",
   "metadata": {},
   "outputs": [
    {
     "data": {
      "text/plain": [
       "'mujtaba'"
      ]
     },
     "execution_count": 14,
     "metadata": {},
     "output_type": "execute_result"
    }
   ],
   "source": [
    "string"
   ]
  },
  {
   "cell_type": "code",
   "execution_count": 16,
   "id": "509f0ecb-f27a-4166-bbbb-bce901c6faf0",
   "metadata": {},
   "outputs": [
    {
     "data": {
      "text/plain": [
       "'mujtaba'"
      ]
     },
     "execution_count": 16,
     "metadata": {},
     "output_type": "execute_result"
    }
   ],
   "source": [
    "second = \"mujtaba\"\n",
    "second"
   ]
  },
  {
   "cell_type": "code",
   "execution_count": 17,
   "id": "efaf622f-2d57-47ca-ac6f-89e3c15fcab7",
   "metadata": {},
   "outputs": [
    {
     "data": {
      "text/plain": [
       "False"
      ]
     },
     "execution_count": 17,
     "metadata": {},
     "output_type": "execute_result"
    }
   ],
   "source": [
    "\"A\"==\"a\""
   ]
  },
  {
   "cell_type": "code",
   "execution_count": 18,
   "id": "48e05a47-9246-4ec2-906a-c3ad3dac4d9d",
   "metadata": {},
   "outputs": [
    {
     "data": {
      "text/plain": [
       "True"
      ]
     },
     "execution_count": 18,
     "metadata": {},
     "output_type": "execute_result"
    }
   ],
   "source": [
    "\"a\" == \"a\""
   ]
  },
  {
   "cell_type": "code",
   "execution_count": null,
   "id": "b7839895-071d-4bd0-b1be-b45829e3e52b",
   "metadata": {},
   "outputs": [],
   "source": []
  }
 ],
 "metadata": {
  "kernelspec": {
   "display_name": "Python 3 (ipykernel)",
   "language": "python",
   "name": "python3"
  },
  "language_info": {
   "codemirror_mode": {
    "name": "ipython",
    "version": 3
   },
   "file_extension": ".py",
   "mimetype": "text/x-python",
   "name": "python",
   "nbconvert_exporter": "python",
   "pygments_lexer": "ipython3",
   "version": "3.13.5"
  }
 },
 "nbformat": 4,
 "nbformat_minor": 5
}
