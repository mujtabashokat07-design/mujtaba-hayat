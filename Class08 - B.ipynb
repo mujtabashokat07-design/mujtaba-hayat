{
 "cells": [
  {
   "cell_type": "markdown",
   "id": "452ae68f-94fb-44b1-bb91-3b48e13b5a2c",
   "metadata": {},
   "source": [
    "Class Task  - New List\n",
    "\n",
    "1) Access the first and last item on the list\n",
    "2) Replace the 2nd item with another item\n",
    "3) Add a new item to the list\n",
    "4) insert at fith position\n",
    "5) remove the item by value\n",
    "6) remove item at third position\n",
    "7) Check the membership of an item\n",
    "8) Make the two sub-list from the main list with unique items\n",
    "9) combine the both sub-list into another list\n",
    "10) delete the list\n",
    "\n"
   ]
  },
  {
   "cell_type": "code",
   "execution_count": 11,
   "id": "30ae17fb-cf7b-4462-9f7b-d731c46db03f",
   "metadata": {},
   "outputs": [],
   "source": [
    "myList = ['Apple','Banana','Mango','Grapes','Amrood']"
   ]
  },
  {
   "cell_type": "code",
   "execution_count": 19,
   "id": "c295a2f2-d42c-414b-8381-acf4df9c0294",
   "metadata": {},
   "outputs": [
    {
     "name": "stdout",
     "output_type": "stream",
     "text": [
      "First item of the list : Apple  Last item of the list Amrood\n",
      "['Apple', 'Amrood']\n"
     ]
    }
   ],
   "source": [
    "# 1) Access the first and last item on the list\n",
    "firstItem = myList[0]\n",
    "lastItem = myList[-1]\n",
    "print(f\"First item of the list : {firstItem}  Last item of the list {lastItem}\")\n",
    "\n",
    "firstLastComb = myList[0::4]\n",
    "print(firstLastComb)"
   ]
  },
  {
   "cell_type": "code",
   "execution_count": 20,
   "id": "b5d82813-60a9-42e1-8e3b-c0c5c24df3d4",
   "metadata": {},
   "outputs": [
    {
     "data": {
      "text/plain": [
       "['Apple', 'Orange', 'Mango', 'Grapes', 'Amrood']"
      ]
     },
     "execution_count": 20,
     "metadata": {},
     "output_type": "execute_result"
    }
   ],
   "source": [
    "# 2) Replace the 2nd item with another item\n",
    "myList[1] = \"Orange\"\n",
    "myList"
   ]
  },
  {
   "cell_type": "code",
   "execution_count": 21,
   "id": "c0154a83-3e4d-48f0-b939-fba6c14862e3",
   "metadata": {},
   "outputs": [
    {
     "data": {
      "text/plain": [
       "['Apple', 'Orange', 'Mango', 'Grapes', 'Amrood', 'Peach']"
      ]
     },
     "execution_count": 21,
     "metadata": {},
     "output_type": "execute_result"
    }
   ],
   "source": [
    "# 3) Add a new item to the list\n",
    "myList.append(\"Peach\")\n",
    "myList"
   ]
  },
  {
   "cell_type": "code",
   "execution_count": 23,
   "id": "f05913a6-3f96-4743-aea7-86740115cbc5",
   "metadata": {},
   "outputs": [
    {
     "data": {
      "text/plain": [
       "['Apple', 'Orange', 'Mango', 'Grapes', 'Kiwi', 'Amrood', 'Peach']"
      ]
     },
     "execution_count": 23,
     "metadata": {},
     "output_type": "execute_result"
    }
   ],
   "source": [
    "# 4) insert at fith position\n",
    "myList.insert(4, \"Kiwi\")\n",
    "myList"
   ]
  },
  {
   "cell_type": "code",
   "execution_count": 24,
   "id": "20e45b16-16fd-4e01-a74b-3a0325c97624",
   "metadata": {},
   "outputs": [
    {
     "data": {
      "text/plain": [
       "['Apple', 'Orange', 'Mango', 'Grapes', 'Kiwi', 'Peach']"
      ]
     },
     "execution_count": 24,
     "metadata": {},
     "output_type": "execute_result"
    }
   ],
   "source": [
    "# 5) remove the item by value\n",
    "myList.remove('Amrood')\n",
    "myList"
   ]
  },
  {
   "cell_type": "code",
   "execution_count": 25,
   "id": "5e2b3825-02bb-4619-92ee-6868c1126bc3",
   "metadata": {},
   "outputs": [
    {
     "data": {
      "text/plain": [
       "['Apple', 'Orange', 'Grapes', 'Kiwi', 'Peach']"
      ]
     },
     "execution_count": 25,
     "metadata": {},
     "output_type": "execute_result"
    }
   ],
   "source": [
    "# 6) remove item at third position\n",
    "myList.pop(2)\n",
    "myList"
   ]
  },
  {
   "cell_type": "code",
   "execution_count": 27,
   "id": "788a77bf-e134-4d83-9d4b-aea864c7e2c7",
   "metadata": {},
   "outputs": [
    {
     "data": {
      "text/plain": [
       "False"
      ]
     },
     "execution_count": 27,
     "metadata": {},
     "output_type": "execute_result"
    }
   ],
   "source": [
    "# 7) Check the membership of an item\n",
    "'kiwi' in myList"
   ]
  },
  {
   "cell_type": "code",
   "execution_count": 31,
   "id": "83fc18ad-173a-49f6-8bdb-8c55a0eef75b",
   "metadata": {},
   "outputs": [
    {
     "name": "stdout",
     "output_type": "stream",
     "text": [
      "['Apple', 'Orange']\n",
      "['Grapes', 'Kiwi', 'Peach']\n"
     ]
    }
   ],
   "source": [
    "# 8) Make the two sub-list from the main list with unique items\n",
    "len(myList)\n",
    "\n",
    "subList1 = myList[:2]\n",
    "subList2 = myList[2:]\n",
    "\n",
    "print(subList1)\n",
    "print(subList2)"
   ]
  },
  {
   "cell_type": "code",
   "execution_count": 35,
   "id": "681ed8b7-db4d-4333-ac86-d251dbf1e78e",
   "metadata": {},
   "outputs": [
    {
     "data": {
      "text/plain": [
       "['Apple', 'Orange', 'Grapes', 'Kiwi', 'Peach']"
      ]
     },
     "execution_count": 35,
     "metadata": {},
     "output_type": "execute_result"
    }
   ],
   "source": [
    "# 9) combine the both sub-list into another list\n",
    "combList = subList1 + subList2\n",
    "combList"
   ]
  },
  {
   "cell_type": "code",
   "execution_count": 37,
   "id": "1dcac86e-81b8-4330-b3a5-5ff2de8c3d7f",
   "metadata": {},
   "outputs": [],
   "source": [
    "# 10) delete the list\n",
    "del combList"
   ]
  },
  {
   "cell_type": "code",
   "execution_count": 38,
   "id": "58a859e8-8386-4c5f-9acd-1253c68635ad",
   "metadata": {},
   "outputs": [
    {
     "ename": "NameError",
     "evalue": "name 'combList' is not defined",
     "output_type": "error",
     "traceback": [
      "\u001b[1;31m---------------------------------------------------------------------------\u001b[0m",
      "\u001b[1;31mNameError\u001b[0m                                 Traceback (most recent call last)",
      "Cell \u001b[1;32mIn[38], line 1\u001b[0m\n\u001b[1;32m----> 1\u001b[0m combList\n",
      "\u001b[1;31mNameError\u001b[0m: name 'combList' is not defined"
     ]
    }
   ],
   "source": [
    "combList"
   ]
  },
  {
   "cell_type": "markdown",
   "id": "8d4eb1dc-b783-407b-9da1-0f511ca3db27",
   "metadata": {},
   "source": [
    "# TUPLE"
   ]
  },
  {
   "cell_type": "code",
   "execution_count": 45,
   "id": "2801c68c-53fe-46db-8bbc-a8e5e080d40c",
   "metadata": {},
   "outputs": [
    {
     "data": {
      "text/plain": [
       "(1, 2, 3, 4, 5, 4, 5, 4, 5, 4, 5, 4, 5)"
      ]
     },
     "execution_count": 45,
     "metadata": {},
     "output_type": "execute_result"
    }
   ],
   "source": [
    "\n",
    "myTuple = (1,2,3,4,5,4,5,4,5,4,5,4,5)\n",
    "myTuple"
   ]
  },
  {
   "cell_type": "code",
   "execution_count": 46,
   "id": "90749906-aaaa-4e48-a643-34c5f0f4cf25",
   "metadata": {},
   "outputs": [
    {
     "data": {
      "text/plain": [
       "13"
      ]
     },
     "execution_count": 46,
     "metadata": {},
     "output_type": "execute_result"
    }
   ],
   "source": [
    "len(myTuple)"
   ]
  },
  {
   "cell_type": "code",
   "execution_count": 47,
   "id": "bc5a4296-284b-4d8c-9b5a-13dacec0f21c",
   "metadata": {},
   "outputs": [
    {
     "data": {
      "text/plain": [
       "tuple"
      ]
     },
     "execution_count": 47,
     "metadata": {},
     "output_type": "execute_result"
    }
   ],
   "source": [
    "type(myTuple)"
   ]
  },
  {
   "cell_type": "code",
   "execution_count": 48,
   "id": "af1b2cd3-da08-4484-bde6-4d177a126c2e",
   "metadata": {},
   "outputs": [
    {
     "data": {
      "text/plain": [
       "1"
      ]
     },
     "execution_count": 48,
     "metadata": {},
     "output_type": "execute_result"
    }
   ],
   "source": [
    "myTuple[0]"
   ]
  },
  {
   "cell_type": "code",
   "execution_count": 49,
   "id": "e493019b-fb6d-4c2c-a2aa-5dcd172ad486",
   "metadata": {},
   "outputs": [
    {
     "data": {
      "text/plain": [
       "5"
      ]
     },
     "execution_count": 49,
     "metadata": {},
     "output_type": "execute_result"
    }
   ],
   "source": [
    "myTuple[-1]"
   ]
  },
  {
   "cell_type": "code",
   "execution_count": 50,
   "id": "a8bd7ea8-5024-4c48-9aac-296c84fe3179",
   "metadata": {},
   "outputs": [
    {
     "data": {
      "text/plain": [
       "(5, 4, 5, 4, 5, 4, 5, 4, 5, 4, 3, 2, 1)"
      ]
     },
     "execution_count": 50,
     "metadata": {},
     "output_type": "execute_result"
    }
   ],
   "source": [
    "myTuple[::-1]"
   ]
  },
  {
   "cell_type": "code",
   "execution_count": 52,
   "id": "ff258a1b-bf18-433e-a5de-2e903d79cc97",
   "metadata": {},
   "outputs": [
    {
     "data": {
      "text/plain": [
       "1"
      ]
     },
     "execution_count": 52,
     "metadata": {},
     "output_type": "execute_result"
    }
   ],
   "source": [
    "myTuple.count(1)"
   ]
  },
  {
   "cell_type": "code",
   "execution_count": 53,
   "id": "7e5fd4b6-ee1a-4ff1-83e1-04aaa0ad0288",
   "metadata": {},
   "outputs": [
    {
     "data": {
      "text/plain": [
       "4"
      ]
     },
     "execution_count": 53,
     "metadata": {},
     "output_type": "execute_result"
    }
   ],
   "source": [
    "myTuple.index(5)"
   ]
  },
  {
   "cell_type": "code",
   "execution_count": 12,
   "id": "fd3fb8b8-c00a-45aa-851b-00155f3b7314",
   "metadata": {},
   "outputs": [
    {
     "data": {
      "text/plain": [
       "(1, 2)"
      ]
     },
     "execution_count": 12,
     "metadata": {},
     "output_type": "execute_result"
    }
   ],
   "source": [
    "myTuple = (1,2)\n",
    "myTuple"
   ]
  },
  {
   "cell_type": "code",
   "execution_count": 14,
   "id": "309e2b7e-14ba-4dbf-b39d-c6f0cdda4cd4",
   "metadata": {},
   "outputs": [],
   "source": [
    "a, b = myTuple"
   ]
  },
  {
   "cell_type": "code",
   "execution_count": 15,
   "id": "6e6b8382-6646-4be6-83be-9562d9d733fb",
   "metadata": {},
   "outputs": [
    {
     "data": {
      "text/plain": [
       "1"
      ]
     },
     "execution_count": 15,
     "metadata": {},
     "output_type": "execute_result"
    }
   ],
   "source": [
    "a"
   ]
  },
  {
   "cell_type": "code",
   "execution_count": 16,
   "id": "c6cdd105-9f09-4fa9-9499-726594bc81b3",
   "metadata": {},
   "outputs": [
    {
     "data": {
      "text/plain": [
       "2"
      ]
     },
     "execution_count": 16,
     "metadata": {},
     "output_type": "execute_result"
    }
   ],
   "source": [
    "b"
   ]
  },
  {
   "cell_type": "code",
   "execution_count": 17,
   "id": "32c05965-0626-4b7f-a018-1738b15ce9a0",
   "metadata": {},
   "outputs": [
    {
     "data": {
      "text/plain": [
       "[3, 4]"
      ]
     },
     "execution_count": 17,
     "metadata": {},
     "output_type": "execute_result"
    }
   ],
   "source": [
    "c"
   ]
  },
  {
   "cell_type": "code",
   "execution_count": 24,
   "id": "371090ff-5cf0-4e36-a1df-6ad821afa119",
   "metadata": {},
   "outputs": [
    {
     "data": {
      "text/plain": [
       "(1, 2, 1, 2)"
      ]
     },
     "execution_count": 24,
     "metadata": {},
     "output_type": "execute_result"
    }
   ],
   "source": [
    "multiplyTuple = myTuple * 2\n",
    "multiplyTuple"
   ]
  },
  {
   "cell_type": "markdown",
   "id": "918bb50e-d7f9-4d6e-a06b-9793ce6b0e06",
   "metadata": {},
   "source": [
    "# SETS"
   ]
  },
  {
   "cell_type": "code",
   "execution_count": 16,
   "id": "6db6ccd1-14bd-4b0f-b7ab-374495882a62",
   "metadata": {},
   "outputs": [
    {
     "data": {
      "text/plain": [
       "{1, 2, 3, 4, 5, 6, 7, 8, 9}"
      ]
     },
     "execution_count": 16,
     "metadata": {},
     "output_type": "execute_result"
    }
   ],
   "source": [
    "myset = {1,2,3,4,5,6,7,8,9}\n",
    "myset"
   ]
  },
  {
   "cell_type": "code",
   "execution_count": 17,
   "id": "a0a40f30-7c55-4c6f-8690-3d37e92514b8",
   "metadata": {},
   "outputs": [
    {
     "data": {
      "text/plain": [
       "9"
      ]
     },
     "execution_count": 17,
     "metadata": {},
     "output_type": "execute_result"
    }
   ],
   "source": [
    "len(myset)"
   ]
  },
  {
   "cell_type": "code",
   "execution_count": 18,
   "id": "8c2978cd-5865-4216-9bb8-14fd27b772ec",
   "metadata": {},
   "outputs": [
    {
     "name": "stdout",
     "output_type": "stream",
     "text": [
      "{'banana', 'cherry', 'apple'}\n"
     ]
    }
   ],
   "source": [
    "thisset = {\"apple\", \"banana\", \"cherry\", \"apple\"}\n",
    "\n",
    "print(thisset)"
   ]
  },
  {
   "cell_type": "code",
   "execution_count": 24,
   "id": "4d2fecd0-dc8e-41d3-9547-b550cbb91bf9",
   "metadata": {},
   "outputs": [
    {
     "name": "stdout",
     "output_type": "stream",
     "text": [
      "{'banana', True, False, 'cherry', 'apple'}\n"
     ]
    }
   ],
   "source": [
    "thisset = {\"apple\", \"banana\", \"cherry\", True,False, 1, 0}\n",
    "\n",
    "print(thisset)"
   ]
  },
  {
   "cell_type": "code",
   "execution_count": 25,
   "id": "15fd4e08-a513-4c5c-a236-7baca2dec225",
   "metadata": {},
   "outputs": [
    {
     "data": {
      "text/plain": [
       "{False, 'Rain', True, 'apple', 'banana', 'cherry'}"
      ]
     },
     "execution_count": 25,
     "metadata": {},
     "output_type": "execute_result"
    }
   ],
   "source": [
    "thisset.add('Rain')\n",
    "thisset"
   ]
  },
  {
   "cell_type": "code",
   "execution_count": 26,
   "id": "3ba8eda4-7aac-4859-86c2-d0c03fc54adf",
   "metadata": {},
   "outputs": [
    {
     "data": {
      "text/plain": [
       "{False, 'Rain', True, 'Zada Paani', 'apple', 'banana', 'cherry'}"
      ]
     },
     "execution_count": 26,
     "metadata": {},
     "output_type": "execute_result"
    }
   ],
   "source": [
    "thisset.add(\"Zada Paani\")\n",
    "thisset"
   ]
  },
  {
   "cell_type": "code",
   "execution_count": 29,
   "id": "d6276f71-ef6a-41ee-9a83-1de165c2028b",
   "metadata": {},
   "outputs": [
    {
     "data": {
      "text/plain": [
       "{False, True, 'Zada Paani', 'apple', 'banana', 'cherry'}"
      ]
     },
     "execution_count": 29,
     "metadata": {},
     "output_type": "execute_result"
    }
   ],
   "source": [
    "thisset.discard(\"Rain\")\n",
    "thisset"
   ]
  },
  {
   "cell_type": "code",
   "execution_count": 42,
   "id": "5cde5125-5cb9-462c-8ac2-04d0db05fca3",
   "metadata": {},
   "outputs": [],
   "source": [
    "set1 = {1,2,3,4,5,6,7,8,9,0}\n",
    "set2 = {6,7,8,9,0}"
   ]
  },
  {
   "cell_type": "code",
   "execution_count": 43,
   "id": "1b0564f3-e59e-4f1c-a68f-67b961a9144c",
   "metadata": {},
   "outputs": [
    {
     "data": {
      "text/plain": [
       "{1, 2, 3, 4, 5}"
      ]
     },
     "execution_count": 43,
     "metadata": {},
     "output_type": "execute_result"
    }
   ],
   "source": [
    "set1.difference(set2)"
   ]
  },
  {
   "cell_type": "code",
   "execution_count": 39,
   "id": "dbb3adef-f383-4406-bfdf-b98a31be32cd",
   "metadata": {},
   "outputs": [],
   "source": [
    "set1.difference_update(set2)"
   ]
  },
  {
   "cell_type": "code",
   "execution_count": 44,
   "id": "08788b84-8618-46e3-861c-3c96977ba6aa",
   "metadata": {},
   "outputs": [
    {
     "data": {
      "text/plain": [
       "{0, 1, 2, 3, 4, 5, 6, 7, 8, 9}"
      ]
     },
     "execution_count": 44,
     "metadata": {},
     "output_type": "execute_result"
    }
   ],
   "source": [
    "set1"
   ]
  },
  {
   "cell_type": "code",
   "execution_count": 51,
   "id": "10db12ad-0e9a-4497-9948-bccd6f9e442d",
   "metadata": {},
   "outputs": [
    {
     "data": {
      "text/plain": [
       "{'apple'}"
      ]
     },
     "execution_count": 51,
     "metadata": {},
     "output_type": "execute_result"
    }
   ],
   "source": [
    "thisset.pop()\n",
    "thisset"
   ]
  },
  {
   "cell_type": "code",
   "execution_count": null,
   "id": "322d0c28-3a1f-4931-874d-650949717ec9",
   "metadata": {},
   "outputs": [],
   "source": []
  },
  {
   "cell_type": "code",
   "execution_count": null,
   "id": "03cbc057-5631-4e04-810f-b8c6a30591b7",
   "metadata": {},
   "outputs": [],
   "source": []
  },
  {
   "cell_type": "code",
   "execution_count": null,
   "id": "fb942534-2814-47c5-89bf-2ccf9ae6eb30",
   "metadata": {},
   "outputs": [],
   "source": []
  },
  {
   "cell_type": "code",
   "execution_count": null,
   "id": "cfe843ad-88ec-4f14-a823-01c3856eb6e2",
   "metadata": {},
   "outputs": [],
   "source": []
  }
 ],
 "metadata": {
  "kernelspec": {
   "display_name": "Python 3 (ipykernel)",
   "language": "python",
   "name": "python3"
  },
  "language_info": {
   "codemirror_mode": {
    "name": "ipython",
    "version": 3
   },
   "file_extension": ".py",
   "mimetype": "text/x-python",
   "name": "python",
   "nbconvert_exporter": "python",
   "pygments_lexer": "ipython3",
   "version": "3.13.5"
  }
 },
 "nbformat": 4,
 "nbformat_minor": 5
}
