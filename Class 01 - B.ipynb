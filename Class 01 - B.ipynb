{
 "cells": [
  {
   "cell_type": "code",
   "execution_count": 2,
   "id": "77a8bbab-9766-4120-b908-9dc1ce258ab0",
   "metadata": {},
   "outputs": [
    {
     "name": "stdout",
     "output_type": "stream",
     "text": [
      "Hello, World!\n"
     ]
    }
   ],
   "source": [
    "print(\"Hello, World!\")"
   ]
  },
  {
   "cell_type": "code",
   "execution_count": 3,
   "id": "e856a8e9-9576-46d3-a128-5fddd6d96e67",
   "metadata": {},
   "outputs": [
    {
     "ename": "NameError",
     "evalue": "name 'PRINT' is not defined",
     "output_type": "error",
     "traceback": [
      "\u001b[1;31m---------------------------------------------------------------------------\u001b[0m",
      "\u001b[1;31mNameError\u001b[0m                                 Traceback (most recent call last)",
      "Cell \u001b[1;32mIn[3], line 1\u001b[0m\n\u001b[1;32m----> 1\u001b[0m PRINT(\u001b[38;5;124m\"\u001b[39m\u001b[38;5;124mHello,World!\u001b[39m\u001b[38;5;124m\"\u001b[39m)\n",
      "\u001b[1;31mNameError\u001b[0m: name 'PRINT' is not defined"
     ]
    }
   ],
   "source": [
    "PRINT(\"Hello,World!\")"
   ]
  },
  {
   "cell_type": "code",
   "execution_count": 4,
   "id": "459cc2b1-af30-4681-b0cd-a801d6884ca2",
   "metadata": {},
   "outputs": [
    {
     "ename": "NameError",
     "evalue": "name 'Print' is not defined",
     "output_type": "error",
     "traceback": [
      "\u001b[1;31m---------------------------------------------------------------------------\u001b[0m",
      "\u001b[1;31mNameError\u001b[0m                                 Traceback (most recent call last)",
      "Cell \u001b[1;32mIn[4], line 1\u001b[0m\n\u001b[1;32m----> 1\u001b[0m Print(\u001b[38;5;124m\"\u001b[39m\u001b[38;5;124mPAKISTAN ZINDABAD\u001b[39m\u001b[38;5;124m\"\u001b[39m)\n",
      "\u001b[1;31mNameError\u001b[0m: name 'Print' is not defined"
     ]
    }
   ],
   "source": [
    "Print(\"PAKISTAN ZINDABAD\")"
   ]
  },
  {
   "cell_type": "code",
   "execution_count": 5,
   "id": "f3fa8412-7fcc-4218-b41c-5f4b9400ea88",
   "metadata": {},
   "outputs": [
    {
     "name": "stdout",
     "output_type": "stream",
     "text": [
      "Saylani\n"
     ]
    }
   ],
   "source": [
    "print('Saylani')"
   ]
  },
  {
   "cell_type": "code",
   "execution_count": 6,
   "id": "bb3af892-5cde-48fd-95f7-c9224dab36c3",
   "metadata": {},
   "outputs": [
    {
     "name": "stdout",
     "output_type": "stream",
     "text": [
      " Fourteen August \n"
     ]
    }
   ],
   "source": [
    "print(''' Fourteen August ''')"
   ]
  },
  {
   "cell_type": "code",
   "execution_count": 7,
   "id": "0d2b649a-ee70-4f3d-a749-bf3cfdf1a9e4",
   "metadata": {},
   "outputs": [
    {
     "ename": "SyntaxError",
     "evalue": "unterminated string literal (detected at line 1) (3901107518.py, line 1)",
     "output_type": "error",
     "traceback": [
      "\u001b[1;36m  Cell \u001b[1;32mIn[7], line 1\u001b[1;36m\u001b[0m\n\u001b[1;33m    print(\"AI and DS Class\u001b[0m\n\u001b[1;37m          ^\u001b[0m\n\u001b[1;31mSyntaxError\u001b[0m\u001b[1;31m:\u001b[0m unterminated string literal (detected at line 1)\n"
     ]
    }
   ],
   "source": [
    "print(\"AI and DS Class\n",
    "2-4\")"
   ]
  },
  {
   "cell_type": "code",
   "execution_count": 8,
   "id": "9835f683-3cc1-4cf6-befa-f1a24cccfe04",
   "metadata": {},
   "outputs": [
    {
     "name": "stdout",
     "output_type": "stream",
     "text": [
      "\n",
      "AI and DS Class\n",
      "2-4\n",
      "\n"
     ]
    }
   ],
   "source": [
    "print('''\n",
    "AI and DS Class\n",
    "2-4\n",
    "''')"
   ]
  },
  {
   "cell_type": "code",
   "execution_count": 12,
   "id": "3a019b4e-5af0-41f9-9826-075edda1bc0c",
   "metadata": {},
   "outputs": [
    {
     "name": "stdout",
     "output_type": "stream",
     "text": [
      "my name is  DANIAL\n"
     ]
    }
   ],
   "source": [
    "name = 'DANIAL'\n",
    "print(\"my name is \",name)"
   ]
  },
  {
   "cell_type": "code",
   "execution_count": 13,
   "id": "c9890690-5ebc-40e8-a6ad-3380c73bd694",
   "metadata": {},
   "outputs": [
    {
     "name": "stdout",
     "output_type": "stream",
     "text": [
      "Second Name:  ALI\n"
     ]
    }
   ],
   "source": [
    "nameSecond = \"ALI\"\n",
    "print(\"Second Name: \",nameSecond)"
   ]
  },
  {
   "cell_type": "code",
   "execution_count": 14,
   "id": "a71b6b50-2a3f-4b4f-927b-8d7e62ed7317",
   "metadata": {},
   "outputs": [
    {
     "name": "stdout",
     "output_type": "stream",
     "text": [
      "Third Name: MustansarHusanTarar\n"
     ]
    }
   ],
   "source": [
    "nameThree = '''MustansarHusanTarar'''\n",
    "print(\"Third Name:\", nameThree)"
   ]
  },
  {
   "cell_type": "code",
   "execution_count": 15,
   "id": "d99f8ebf-3ff1-4d06-a9fd-c18fdc54136d",
   "metadata": {},
   "outputs": [
    {
     "ename": "SyntaxError",
     "evalue": "unterminated string literal (detected at line 1) (3587784103.py, line 1)",
     "output_type": "error",
     "traceback": [
      "\u001b[1;36m  Cell \u001b[1;32mIn[15], line 1\u001b[1;36m\u001b[0m\n\u001b[1;33m    Doubleline = \"This is\u001b[0m\n\u001b[1;37m                 ^\u001b[0m\n\u001b[1;31mSyntaxError\u001b[0m\u001b[1;31m:\u001b[0m unterminated string literal (detected at line 1)\n"
     ]
    }
   ],
   "source": [
    "Doubleline = \"This is \n",
    "Double line\"\n",
    "\n",
    "print(\"Double Line:\", Doubleline)"
   ]
  },
  {
   "cell_type": "code",
   "execution_count": 16,
   "id": "97ed811c-d005-4a8c-829c-5411e6825311",
   "metadata": {},
   "outputs": [
    {
     "name": "stdout",
     "output_type": "stream",
     "text": [
      "Triple Quotation  This is \n",
      "multi\n",
      "line\n",
      "variable\n"
     ]
    }
   ],
   "source": [
    "TripleQuotation = ''' This is \n",
    "multi\n",
    "line\n",
    "variable'''\n",
    "\n",
    "print(\"Triple Quotation\",TripleQuotation)"
   ]
  },
  {
   "cell_type": "code",
   "execution_count": 17,
   "id": "912cbc38-cef8-426b-b90b-97b40f5c1f08",
   "metadata": {},
   "outputs": [
    {
     "name": "stdout",
     "output_type": "stream",
     "text": [
      "14 August\n"
     ]
    }
   ],
   "source": [
    "NumberwithString = \"14 August\"\n",
    "print(NumberwithString)"
   ]
  },
  {
   "cell_type": "code",
   "execution_count": 18,
   "id": "8a47f9a9-2a5e-46e5-b722-ad1073879c2d",
   "metadata": {},
   "outputs": [
    {
     "data": {
      "text/plain": [
       "str"
      ]
     },
     "execution_count": 18,
     "metadata": {},
     "output_type": "execute_result"
    }
   ],
   "source": [
    "type(NumberwithString)"
   ]
  },
  {
   "cell_type": "code",
   "execution_count": 19,
   "id": "f6537627-54de-46c5-bc78-a90d2ebc6528",
   "metadata": {},
   "outputs": [
    {
     "ename": "SyntaxError",
     "evalue": "invalid decimal literal (865725945.py, line 1)",
     "output_type": "error",
     "traceback": [
      "\u001b[1;36m  Cell \u001b[1;32mIn[19], line 1\u001b[1;36m\u001b[0m\n\u001b[1;33m    14August = \"14August\"\u001b[0m\n\u001b[1;37m     ^\u001b[0m\n\u001b[1;31mSyntaxError\u001b[0m\u001b[1;31m:\u001b[0m invalid decimal literal\n"
     ]
    }
   ],
   "source": [
    "14August = \"14August\""
   ]
  },
  {
   "cell_type": "code",
   "execution_count": 20,
   "id": "491963b2-df2a-43fb-8096-6a84e438b8f8",
   "metadata": {},
   "outputs": [],
   "source": [
    "August14 = \"August14\""
   ]
  },
  {
   "cell_type": "code",
   "execution_count": 21,
   "id": "55ca56fc-1b89-4385-a835-a6483e1df202",
   "metadata": {},
   "outputs": [],
   "source": [
    "_14August = \"14August\""
   ]
  },
  {
   "cell_type": "code",
   "execution_count": 23,
   "id": "f15bce31-951d-4e68-9b24-106e510d341a",
   "metadata": {},
   "outputs": [],
   "source": [
    "_14August = \"!14August\""
   ]
  },
  {
   "cell_type": "code",
   "execution_count": 24,
   "id": "fc9b63b7-14e5-49d6-b68e-dc62c4ddd894",
   "metadata": {},
   "outputs": [
    {
     "ename": "SyntaxError",
     "evalue": "invalid syntax (2299356869.py, line 1)",
     "output_type": "error",
     "traceback": [
      "\u001b[1;36m  Cell \u001b[1;32mIn[24], line 1\u001b[1;36m\u001b[0m\n\u001b[1;33m    Father Name = \"Father Name\"\u001b[0m\n\u001b[1;37m           ^\u001b[0m\n\u001b[1;31mSyntaxError\u001b[0m\u001b[1;31m:\u001b[0m invalid syntax\n"
     ]
    }
   ],
   "source": [
    "Father Name = \"Father Name\""
   ]
  },
  {
   "cell_type": "code",
   "execution_count": 25,
   "id": "f6fb35e8-b7ac-4a75-b2f2-a7cfe942fd6b",
   "metadata": {},
   "outputs": [],
   "source": [
    "Father_Name = \"FatherName\""
   ]
  },
  {
   "cell_type": "code",
   "execution_count": 26,
   "id": "88295bbd-647d-4cd2-b4db-aa03d0139df6",
   "metadata": {},
   "outputs": [],
   "source": [
    "FatherName = \"FatherName\""
   ]
  },
  {
   "cell_type": "code",
   "execution_count": null,
   "id": "f2c8dc54-1040-45a5-b69e-da62b707e07c",
   "metadata": {},
   "outputs": [],
   "source": []
  },
  {
   "cell_type": "code",
   "execution_count": null,
   "id": "990ed75c-92ae-451e-9406-b7a1cb109520",
   "metadata": {},
   "outputs": [],
   "source": []
  },
  {
   "cell_type": "code",
   "execution_count": null,
   "id": "ecbf46f5-c644-41c9-b457-055df2104622",
   "metadata": {},
   "outputs": [],
   "source": []
  },
  {
   "cell_type": "code",
   "execution_count": null,
   "id": "8b2b69f8-4bfa-4e30-b4bd-f2bea051886a",
   "metadata": {},
   "outputs": [],
   "source": []
  },
  {
   "cell_type": "code",
   "execution_count": null,
   "id": "585bc884-38ef-489b-b298-2c24b33f038a",
   "metadata": {},
   "outputs": [],
   "source": []
  },
  {
   "cell_type": "code",
   "execution_count": null,
   "id": "b6358e3b-24c5-480d-a609-2eb8babb5d54",
   "metadata": {},
   "outputs": [],
   "source": []
  }
 ],
 "metadata": {
  "kernelspec": {
   "display_name": "Python 3 (ipykernel)",
   "language": "python",
   "name": "python3"
  },
  "language_info": {
   "codemirror_mode": {
    "name": "ipython",
    "version": 3
   },
   "file_extension": ".py",
   "mimetype": "text/x-python",
   "name": "python",
   "nbconvert_exporter": "python",
   "pygments_lexer": "ipython3",
   "version": "3.13.5"
  }
 },
 "nbformat": 4,
 "nbformat_minor": 5
}
