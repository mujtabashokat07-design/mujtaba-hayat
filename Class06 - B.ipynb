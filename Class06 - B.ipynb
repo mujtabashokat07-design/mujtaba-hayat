{
 "cells": [
  {
   "cell_type": "code",
   "execution_count": 38,
   "id": "652a4510-9c93-45d8-aa48-0fb03eb1d1b4",
   "metadata": {},
   "outputs": [],
   "source": [
    "word = '  P@kistaM  '"
   ]
  },
  {
   "cell_type": "code",
   "execution_count": 39,
   "id": "f45d3861-9a03-41cb-a8f0-1f623fe7fc9c",
   "metadata": {},
   "outputs": [
    {
     "data": {
      "text/plain": [
       "'  p@kistam  '"
      ]
     },
     "execution_count": 39,
     "metadata": {},
     "output_type": "execute_result"
    }
   ],
   "source": [
    "word_lower = word.lower()\n",
    "word_lower"
   ]
  },
  {
   "cell_type": "code",
   "execution_count": 40,
   "id": "6b84ff87-d6de-4fe8-bb2a-1358f4c47fe8",
   "metadata": {},
   "outputs": [
    {
     "data": {
      "text/plain": [
       "'p@kistam'"
      ]
     },
     "execution_count": 40,
     "metadata": {},
     "output_type": "execute_result"
    }
   ],
   "source": [
    "word_space = word_lower.strip()\n",
    "word_space"
   ]
  },
  {
   "cell_type": "code",
   "execution_count": 41,
   "id": "b905e553-66af-42cb-828d-ea4dcf2bcf22",
   "metadata": {},
   "outputs": [
    {
     "data": {
      "text/plain": [
       "'pakistam'"
      ]
     },
     "execution_count": 41,
     "metadata": {},
     "output_type": "execute_result"
    }
   ],
   "source": [
    "word_correct = word_space.replace(\"@\", \"a\")\n",
    "word_correct"
   ]
  },
  {
   "cell_type": "code",
   "execution_count": 42,
   "id": "51ab1596-d449-4e9d-a76d-18df383612ba",
   "metadata": {},
   "outputs": [
    {
     "data": {
      "text/plain": [
       "'pakistan'"
      ]
     },
     "execution_count": 42,
     "metadata": {},
     "output_type": "execute_result"
    }
   ],
   "source": [
    "word_correct = word_correct.replace(\"m\", \"n\")\n",
    "word_correct"
   ]
  },
  {
   "cell_type": "code",
   "execution_count": 43,
   "id": "fac88428-0b8f-43ed-ab4b-b6918f80faf1",
   "metadata": {},
   "outputs": [
    {
     "data": {
      "text/plain": [
       "'PAKISTAN'"
      ]
     },
     "execution_count": 43,
     "metadata": {},
     "output_type": "execute_result"
    }
   ],
   "source": [
    "word = word_correct.upper()\n",
    "word"
   ]
  },
  {
   "cell_type": "code",
   "execution_count": 44,
   "id": "d57ab0b8-bfaf-4722-8e54-7d9593708c89",
   "metadata": {},
   "outputs": [
    {
     "data": {
      "text/plain": [
       "['P', 'KIST', 'N']"
      ]
     },
     "execution_count": 44,
     "metadata": {},
     "output_type": "execute_result"
    }
   ],
   "source": [
    "a = word.split(\"A\")\n",
    "a"
   ]
  },
  {
   "cell_type": "code",
   "execution_count": 45,
   "id": "93ff3de4-ff4d-4d40-beda-e51714937138",
   "metadata": {},
   "outputs": [],
   "source": [
    "sent = \"\"\"\n",
    "If the string \"cat\" has been assigned to the variable species, Python\n",
    "displays the message Yep, it's cat. If the string \"cat\" hasn't been assigned to the\n",
    "variable species, nothing happens.\n",
    "Let's break down the code.\n",
    "It begins with the keyword if. Note that if is all lowercase. If you write\n",
    "If instead of if, it won't work. You'll get an error message.\n",
    "Note that it's two equal signs, ==, not one. One equal sign, =, can only be\n",
    "used to assign a value to a variable, as in.\n",
    "\"\"\""
   ]
  },
  {
   "cell_type": "code",
   "execution_count": 51,
   "id": "a1f1265e-51d3-42f6-a5ed-97c4df30666e",
   "metadata": {},
   "outputs": [],
   "source": [
    "a = sent.split(\"'\")"
   ]
  },
  {
   "cell_type": "code",
   "execution_count": 52,
   "id": "8dd52ad6-0b5b-4846-b72e-70d2449a78c7",
   "metadata": {},
   "outputs": [
    {
     "data": {
      "text/plain": [
       "['\\nIf the string \"cat\" has been assigned to the variable species, Python\\ndisplays the message Yep, it',\n",
       " 's cat. If the string \"cat\" hasn',\n",
       " 't been assigned to the\\nvariable species, nothing happens.\\nLet',\n",
       " 's break down the code.\\nIt begins with the keyword if. Note that if is all lowercase. If you write\\nIf instead of if, it won',\n",
       " 't work. You',\n",
       " 'll get an error message.\\nNote that it',\n",
       " 's two equal signs, ==, not one. One equal sign, =, can only be\\nused to assign a value to a variable, as in.\\n']"
      ]
     },
     "execution_count": 52,
     "metadata": {},
     "output_type": "execute_result"
    }
   ],
   "source": [
    "a"
   ]
  },
  {
   "cell_type": "code",
   "execution_count": 63,
   "id": "4e2b5630-2e8d-4034-9c38-35f422fc36e9",
   "metadata": {},
   "outputs": [],
   "source": [
    "a = \"Hello\"\n",
    "b = \"World\"\n",
    "c = \" \""
   ]
  },
  {
   "cell_type": "code",
   "execution_count": 64,
   "id": "5c415528-53ac-4579-bd34-4403155f4fe8",
   "metadata": {},
   "outputs": [
    {
     "name": "stdout",
     "output_type": "stream",
     "text": [
      "Hello World\n"
     ]
    }
   ],
   "source": [
    "print(a+c+b)"
   ]
  },
  {
   "cell_type": "code",
   "execution_count": 74,
   "id": "4b60adf1-eadb-43c7-88dc-7abf16fbc2bf",
   "metadata": {},
   "outputs": [
    {
     "name": "stdout",
     "output_type": "stream",
     "text": [
      "2 + 2 =  4  ,3 + 3 =  6\n"
     ]
    }
   ],
   "source": [
    "print(\"2 + 2 = \", 2+2, \" ,3 + 3 = \", 3+3)"
   ]
  },
  {
   "cell_type": "code",
   "execution_count": 76,
   "id": "edf1c48b-485a-4c45-902e-3c317d5b6fc0",
   "metadata": {},
   "outputs": [
    {
     "name": "stdout",
     "output_type": "stream",
     "text": [
      "2 + 2 = 4, 3 + 3 = 6\n"
     ]
    }
   ],
   "source": [
    "print(f\"2 + 2 = { 2 + 2 }, 3 + 3 = {3+3}\")"
   ]
  },
  {
   "cell_type": "code",
   "execution_count": 77,
   "id": "b5a09303-3608-4f96-aed4-239a8e8b3481",
   "metadata": {},
   "outputs": [
    {
     "name": "stdout",
     "output_type": "stream",
     "text": [
      "This is Good apple\n",
      "This is Good apple\n"
     ]
    }
   ],
   "source": [
    "a = \"apple\"\n",
    "print(\"This is Good\", a)\n",
    "print(f\"This is Good {a}\")"
   ]
  },
  {
   "cell_type": "code",
   "execution_count": 80,
   "id": "afa5f3c6-1dba-4cb6-8068-55ea19509811",
   "metadata": {},
   "outputs": [],
   "source": [
    "a = f\"2 + 2 = { 2 + 2 }, 3 + 3 = {3+3}\""
   ]
  },
  {
   "cell_type": "code",
   "execution_count": 81,
   "id": "75c7dea3-a218-4902-8f75-ba6ce78f9d15",
   "metadata": {},
   "outputs": [
    {
     "data": {
      "text/plain": [
       "'2 + 2 = 4, 3 + 3 = 6'"
      ]
     },
     "execution_count": 81,
     "metadata": {},
     "output_type": "execute_result"
    }
   ],
   "source": [
    "a"
   ]
  },
  {
   "cell_type": "code",
   "execution_count": 87,
   "id": "34893fae-bf09-4e31-9fa0-6983a156bd44",
   "metadata": {},
   "outputs": [
    {
     "name": "stdout",
     "output_type": "stream",
     "text": [
      "The price is 59.0 dollars\n"
     ]
    }
   ],
   "source": [
    "price = 59\n",
    "txt = f\"The price is {price:.1f} dollars\"\n",
    "print(txt)"
   ]
  },
  {
   "cell_type": "code",
   "execution_count": 97,
   "id": "f5433725-97c2-4d05-8476-b3d0306f4a07",
   "metadata": {},
   "outputs": [
    {
     "name": "stdout",
     "output_type": "stream",
     "text": [
      "World\n"
     ]
    }
   ],
   "source": [
    "a = \"Hello\\rWorld\"\n",
    "print(a)"
   ]
  },
  {
   "cell_type": "code",
   "execution_count": 99,
   "id": "9b0c29d0-c944-4da0-bfaf-9410d2a27974",
   "metadata": {},
   "outputs": [
    {
     "name": "stdout",
     "output_type": "stream",
     "text": [
      "Hello\n",
      "World\n"
     ]
    }
   ],
   "source": [
    "a = \"Hello\\nWorld\"\n",
    "print(a)"
   ]
  },
  {
   "cell_type": "code",
   "execution_count": 103,
   "id": "ec1eefda-81be-4949-ba95-6a361b187e2b",
   "metadata": {},
   "outputs": [
    {
     "name": "stdout",
     "output_type": "stream",
     "text": [
      "Hello, and welcome to my world.\n"
     ]
    }
   ],
   "source": [
    "txt = \"hello, and welcome to my world.\"\n",
    "\n",
    "x = txt.capitalize()\n",
    "\n",
    "print (x)\n",
    "\n",
    "# capitalize method make the first letter capital"
   ]
  },
  {
   "cell_type": "code",
   "execution_count": 114,
   "id": "ca53c7c9-eab2-4a0d-a982-e59ba25a0bb4",
   "metadata": {},
   "outputs": [],
   "source": [
    "# a = 2\n",
    "a %= 2"
   ]
  },
  {
   "cell_type": "code",
   "execution_count": 115,
   "id": "f0f8cb1a-8115-454c-b7b6-0dd0d69ed31b",
   "metadata": {},
   "outputs": [
    {
     "data": {
      "text/plain": [
       "0"
      ]
     },
     "execution_count": 115,
     "metadata": {},
     "output_type": "execute_result"
    }
   ],
   "source": [
    "a"
   ]
  },
  {
   "cell_type": "code",
   "execution_count": 116,
   "id": "91626f4f-c2bc-4bd8-9319-7260732b0995",
   "metadata": {},
   "outputs": [
    {
     "data": {
      "text/plain": [
       "True"
      ]
     },
     "execution_count": 116,
     "metadata": {},
     "output_type": "execute_result"
    }
   ],
   "source": [
    "2 == 2"
   ]
  },
  {
   "cell_type": "code",
   "execution_count": 117,
   "id": "6be06d57-f4a4-428e-b404-16dea01c4b7c",
   "metadata": {},
   "outputs": [
    {
     "data": {
      "text/plain": [
       "False"
      ]
     },
     "execution_count": 117,
     "metadata": {},
     "output_type": "execute_result"
    }
   ],
   "source": [
    "2 != 2"
   ]
  },
  {
   "cell_type": "code",
   "execution_count": 118,
   "id": "23de6443-d5b4-4f02-bbbf-cfbf5234f61f",
   "metadata": {},
   "outputs": [
    {
     "data": {
      "text/plain": [
       "True"
      ]
     },
     "execution_count": 118,
     "metadata": {},
     "output_type": "execute_result"
    }
   ],
   "source": [
    "2 > 0"
   ]
  },
  {
   "cell_type": "code",
   "execution_count": 119,
   "id": "021f7439-8bd1-49db-9dfc-9ad64644300a",
   "metadata": {},
   "outputs": [
    {
     "data": {
      "text/plain": [
       "True"
      ]
     },
     "execution_count": 119,
     "metadata": {},
     "output_type": "execute_result"
    }
   ],
   "source": [
    "2 > -100"
   ]
  },
  {
   "cell_type": "code",
   "execution_count": 120,
   "id": "2a5077fb-f13a-46fb-8003-283effd8a885",
   "metadata": {},
   "outputs": [],
   "source": [
    "# -n, -100, ........ -3, -2, -1, 0, 1, 2, 3, ..........n"
   ]
  },
  {
   "cell_type": "code",
   "execution_count": null,
   "id": "354879e2-9d89-481a-860f-1e6563a78957",
   "metadata": {},
   "outputs": [],
   "source": [
    "0 < "
   ]
  },
  {
   "cell_type": "code",
   "execution_count": null,
   "id": "b2d4e356-bfe1-4077-8700-fe71ce36bdae",
   "metadata": {},
   "outputs": [],
   "source": []
  },
  {
   "cell_type": "code",
   "execution_count": null,
   "id": "a97fe822-ee6a-44cc-8fa0-795b65b87d07",
   "metadata": {},
   "outputs": [],
   "source": []
  },
  {
   "cell_type": "code",
   "execution_count": null,
   "id": "f15b02f7-63e6-415b-afd9-eec263eb5830",
   "metadata": {},
   "outputs": [],
   "source": []
  },
  {
   "cell_type": "code",
   "execution_count": null,
   "id": "6f40aa5f-0eb3-4dcb-b62a-57103f1186a2",
   "metadata": {},
   "outputs": [],
   "source": []
  },
  {
   "cell_type": "code",
   "execution_count": null,
   "id": "02068d8c-9cc7-4b3d-a766-aed9642cf1cb",
   "metadata": {},
   "outputs": [],
   "source": []
  },
  {
   "cell_type": "code",
   "execution_count": null,
   "id": "124a3d43-49c9-40cb-83c2-4ed32849be3a",
   "metadata": {},
   "outputs": [],
   "source": []
  }
 ],
 "metadata": {
  "kernelspec": {
   "display_name": "Python 3 (ipykernel)",
   "language": "python",
   "name": "python3"
  },
  "language_info": {
   "codemirror_mode": {
    "name": "ipython",
    "version": 3
   },
   "file_extension": ".py",
   "mimetype": "text/x-python",
   "name": "python",
   "nbconvert_exporter": "python",
   "pygments_lexer": "ipython3",
   "version": "3.13.5"
  }
 },
 "nbformat": 4,
 "nbformat_minor": 5
}
