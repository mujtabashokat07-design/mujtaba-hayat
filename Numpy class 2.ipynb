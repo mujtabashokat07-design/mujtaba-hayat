{
 "cells": [
  {
   "cell_type": "code",
   "execution_count": 1,
   "id": "2101d889-2cca-48d4-b0ba-196fc937aa2e",
   "metadata": {},
   "outputs": [],
   "source": [
    "import numpy as np\n",
    "from datetime import date ,timedelta ,datetime"
   ]
  },
  {
   "cell_type": "code",
   "execution_count": 2,
   "id": "2b4de635-0bdb-4c9f-a327-1491ab940f43",
   "metadata": {},
   "outputs": [],
   "source": [
    "def calculate_age_with_datetime(birth_date):\n",
    "    \"\"\"Calculates age in years, months, and days using the built-in datetime module\"\"\"\n",
    "    today = date.today()\n",
    "\n",
    "    # Calculate initial year difference\n",
    "    years = today.year - birth_date.year\n",
    "\n",
    "    # Adjust for cases where the birthday has not yet occurred this year\n",
    "    months = today.month - birth_date.month\n",
    "    days = today.day - birth_date.day\n",
    "\n",
    "    if days < 0:\n",
    "        months -= 1\n",
    "        # Handle the number of days in the previous month\n",
    "        last_month = today.replace(day=1) - date.resolution\n",
    "        days += last_month.day\n",
    "\n",
    "    if months < 0:\n",
    "        years -= 1\n",
    "        months += 12\n",
    "\n",
    "    return years, months, days"
   ]
  },
  {
   "cell_type": "code",
   "execution_count": 4,
   "id": "3384e0e6-d475-48de-9026-4e564a0c56a7",
   "metadata": {},
   "outputs": [
    {
     "name": "stdout",
     "output_type": "stream",
     "text": [
      "Age: 18 years, 1 months, 26 days\n"
     ]
    }
   ],
   "source": [
    "birth_date = date(2007, 8, 30)\n",
    "years, months, days = calculate_age_with_datetime(birth_date)\n",
    "print(f\"Age: {years} years, {months} months, {days} days\")"
   ]
  },
  {
   "cell_type": "code",
   "execution_count": null,
   "id": "924aed8b-339f-4297-a3e6-f0096bab6e82",
   "metadata": {},
   "outputs": [],
   "source": [
    "jupyter Numpy2-B Last Checkpoint: 10 minutes ago\n",
    "\n",
    "In [34]: arr = np.array([1, 2, 3, 4, 5])\n",
    "         b = arr.copy()\n",
    "         arr[0] = 42\n",
    "\n",
    "In [35]: print(\"Original Array:\", arr)\n",
    "         print(\"Copy Array:\", b)\n",
    "\n",
    "Original Array: [42  2  3  4  5]\n",
    "Copy Array: [1 2 3 4 5]\n",
    "\n",
    "In [37]: print(b.base)\n",
    "\n",
    "None\n",
    "\n",
    "In [38]: viewarr = arr.view()\n",
    "\n",
    "In [39]: print(\"View Array:\", viewarr)\n",
    "\n",
    "View Array: [42  2  3  4  5]\n",
    "\n",
    "In [40]: print(viewarr.base)\n",
    "\n",
    "[42  2  3  4  5]\n",
    "\n",
    "In [41]: viewarr[-1] = 100\n"
   ]
  }
 ],
 "metadata": {
  "kernelspec": {
   "display_name": "Python 3 (ipykernel)",
   "language": "python",
   "name": "python3"
  },
  "language_info": {
   "codemirror_mode": {
    "name": "ipython",
    "version": 3
   },
   "file_extension": ".py",
   "mimetype": "text/x-python",
   "name": "python",
   "nbconvert_exporter": "python",
   "pygments_lexer": "ipython3",
   "version": "3.13.5"
  }
 },
 "nbformat": 4,
 "nbformat_minor": 5
}
