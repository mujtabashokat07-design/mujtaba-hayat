{
 "cells": [
  {
   "cell_type": "code",
   "execution_count": 13,
   "id": "1dd4d183-a952-4e8c-ba17-7b9025c2b621",
   "metadata": {},
   "outputs": [
    {
     "name": "stdin",
     "output_type": "stream",
     "text": [
      "A:  2\n",
      "B:  5\n"
     ]
    }
   ],
   "source": [
    "A = int(input(\"A: \"))\n",
    "B = int(input(\"B: \"))"
   ]
  },
  {
   "cell_type": "code",
   "execution_count": 14,
   "id": "5ebb06c9-5082-4185-88f9-0e5b7d06b94b",
   "metadata": {},
   "outputs": [
    {
     "data": {
      "text/plain": [
       "False"
      ]
     },
     "execution_count": 14,
     "metadata": {},
     "output_type": "execute_result"
    }
   ],
   "source": [
    "a > b"
   ]
  },
  {
   "cell_type": "code",
   "execution_count": 15,
   "id": "8eb22e61-791e-4eab-908a-22a901d7e04e",
   "metadata": {},
   "outputs": [
    {
     "data": {
      "text/plain": [
       "True"
      ]
     },
     "execution_count": 15,
     "metadata": {},
     "output_type": "execute_result"
    }
   ],
   "source": [
    "a < b"
   ]
  },
  {
   "cell_type": "code",
   "execution_count": 16,
   "id": "dd04a11f-6e39-4c2b-8c79-d56a476bff0a",
   "metadata": {},
   "outputs": [
    {
     "name": "stdout",
     "output_type": "stream",
     "text": [
      "yes 5 is smaller then 6\n"
     ]
    }
   ],
   "source": [
    "if a < b:\n",
    "    print(f\"yes {a} is smaller then {b}\")\n",
    "else:\n",
    "    print(f\"No {a} is not smaller then {b}\")\n",
    "    \n"
   ]
  },
  {
   "cell_type": "code",
   "execution_count": 19,
   "id": "50ec240d-5440-42ee-b1d8-8960259ecd52",
   "metadata": {},
   "outputs": [],
   "source": [
    "a = 30 \n",
    "b = 20"
   ]
  },
  {
   "cell_type": "code",
   "execution_count": 20,
   "id": "42b4500c-62a0-43a0-9c15-16ff6ce4dbc2",
   "metadata": {},
   "outputs": [
    {
     "name": "stdout",
     "output_type": "stream",
     "text": [
      "no 30 is not smaler then 20\n"
     ]
    }
   ],
   "source": [
    "if a < b:\n",
    "    print(f\"yes {a} is smaller then {b}\")\n",
    "else:\n",
    "    print(f\"no {a} is not smaler then {b}\")"
   ]
  },
  {
   "cell_type": "code",
   "execution_count": 21,
   "id": "09938fc1-7d8f-4149-ae92-24f069ec9ad8",
   "metadata": {},
   "outputs": [
    {
     "name": "stdout",
     "output_type": "stream",
     "text": [
      "yes 30 is smaller then 20\n"
     ]
    }
   ],
   "source": [
    "if a > b:\n",
    "    print(f\"yes {a} is smaller then {b}\")\n",
    "else:\n",
    "    print(f\"no {a} is not smaler then {b}\")"
   ]
  },
  {
   "cell_type": "code",
   "execution_count": 22,
   "id": "e3498039-327c-4fd7-95bf-f9f781200ca4",
   "metadata": {},
   "outputs": [
    {
     "name": "stdout",
     "output_type": "stream",
     "text": [
      "no 30 is not equal then 20\n"
     ]
    }
   ],
   "source": [
    "if a == b:\n",
    "    print(f\"yes {a} is equal then {b}\")\n",
    "else:\n",
    "    print(f\"no {a} is not equal then {b}\")"
   ]
  },
  {
   "cell_type": "code",
   "execution_count": 30,
   "id": "a8110e79-fc4c-4f25-a3c8-a87638c0b0b8",
   "metadata": {},
   "outputs": [],
   "source": [
    "x = 15"
   ]
  },
  {
   "cell_type": "code",
   "execution_count": 31,
   "id": "89bf0bed-6e81-4e64-b76e-5de2d855912a",
   "metadata": {},
   "outputs": [
    {
     "name": "stdout",
     "output_type": "stream",
     "text": [
      "15 is greater then 10\n",
      "15 is smaller then 30\n"
     ]
    }
   ],
   "source": [
    "if x > 10:\n",
    "    print(f\"{x} is greater then 10\")\n",
    "    if x >= 30:\n",
    "        print(f\"{x} is greater then 30\")\n",
    "    else:\n",
    "        print(f\"{x} is smaller then 30\")\n",
    "else:\n",
    "    print(f\"{x} is smaller then 10\")"
   ]
  },
  {
   "cell_type": "code",
   "execution_count": 36,
   "id": "7887cb61-7512-4330-9d65-d352f19d20ab",
   "metadata": {},
   "outputs": [],
   "source": [
    " z = 30"
   ]
  },
  {
   "cell_type": "code",
   "execution_count": 38,
   "id": "ca404d9d-bf82-4d13-889d-157be1559068",
   "metadata": {},
   "outputs": [
    {
     "name": "stdout",
     "output_type": "stream",
     "text": [
      "30 is greater then 20\n",
      "30 is smaller then 50\n"
     ]
    }
   ],
   "source": [
    "if z > 20:\n",
    "    print(f\"{z} is greater then 20\")\n",
    "    if z > 50:\n",
    "        print(f\"{z} is greater then 50 \")\n",
    "    else:\n",
    "        print(f\"{z} is smaller then 50\")\n",
    "else:\n",
    "    print(f\"{z} is smaller then 20\")"
   ]
  },
  {
   "cell_type": "code",
   "execution_count": 21,
   "id": "a476e199-af67-4889-a7f9-ff7f995eef3b",
   "metadata": {},
   "outputs": [],
   "source": [
    "M = 40"
   ]
  },
  {
   "cell_type": "code",
   "execution_count": 34,
   "id": "e8db6fdd-1bad-4701-b52b-e53757fca427",
   "metadata": {},
   "outputs": [
    {
     "name": "stdout",
     "output_type": "stream",
     "text": [
      "40 is not smaller then 40\n"
     ]
    }
   ],
   "source": [
    "if  M < 40:\n",
    "    print(f\"yes {M} is greater then 40\")\n",
    "    if M > 20:\n",
    "        print(f\"yes {M} is smaller then 20\")\n",
    "    else:\n",
    "        print(f\"{M} is not smaller then 20\")\n",
    "else:\n",
    "    print(f\"{M} is not smaller then 40\")"
   ]
  },
  {
   "cell_type": "code",
   "execution_count": 64,
   "id": "5821c53a-ae44-4e2a-a827-c7e286f54852",
   "metadata": {},
   "outputs": [
    {
     "name": "stdin",
     "output_type": "stream",
     "text": [
      "Enter subect 1 marks : 80\n",
      "Enter subect 2 marks : 90\n",
      "Enter subect 3 marks : 96\n",
      "Enter subect 4 marks : 98\n",
      "Enter subect 5 marks : 99\n"
     ]
    }
   ],
   "source": [
    "StudentName = \"Mujtaba\"\n",
    "sub1 = int(input(\"Enter subect 1 marks :\"))\n",
    "sub2 = int(input(\"Enter subect 2 marks :\"))\n",
    "sub3 = int(input(\"Enter subect 3 marks :\"))\n",
    "sub4 = int(input(\"Enter subect 4 marks :\"))\n",
    "sub5 = int(input(\"Enter subect 5 marks :\"))\n",
    "           "
   ]
  },
  {
   "cell_type": "code",
   "execution_count": 65,
   "id": "caab0aa4-1c31-4032-9ad8-c65655b2325c",
   "metadata": {},
   "outputs": [
    {
     "data": {
      "text/plain": [
       "92.60000000000001"
      ]
     },
     "execution_count": 65,
     "metadata": {},
     "output_type": "execute_result"
    }
   ],
   "source": [
    "obtainedMarks = sub1 + sub2 +sub3 +sub4 +sub5\n",
    "obtainedMarks\n",
    "TotalMarks = 500\n",
    "\n",
    "Percentage = ( obtainedMarks / TotalMarks ) * 100\n",
    "Percentage"
   ]
  },
  {
   "cell_type": "code",
   "execution_count": 66,
   "id": "4bd77718-0e71-4679-bd1f-defffe41c658",
   "metadata": {},
   "outputs": [
    {
     "name": "stdout",
     "output_type": "stream",
     "text": [
      "Mujtaba got A+ grade\n"
     ]
    }
   ],
   "source": [
    "if Percentage >= 90 :\n",
    "    print(f\"{StudentName} got A+ grade\")\n",
    "elif Percentage >= 80 and Percentage < 90:\n",
    "    print(f\"{StudentName} got A grade \")\n",
    "elif Percentage >= 70 and Percentage < 80:\n",
    "    print(f\" {StudentName} got b grade \")\n",
    "elif Percentage >= 60 and Percentage < 70:\n",
    "    print(f\"{StudentName} got c grade \")\n",
    "else:\n",
    "    print(f\"{StudentName} Fail kitne paise doge \")\n",
    "    \n",
    "\n",
    "\n"
   ]
  },
  {
   "cell_type": "code",
   "execution_count": 78,
   "id": "dde17866-f735-48a0-9fc5-6196a22d968c",
   "metadata": {},
   "outputs": [],
   "source": [
    "a = 30\n",
    "b = 40"
   ]
  },
  {
   "cell_type": "code",
   "execution_count": 75,
   "id": "c61ed1c4-461f-4539-be4f-297fe3b805d0",
   "metadata": {},
   "outputs": [
    {
     "name": "stdout",
     "output_type": "stream",
     "text": [
      " a is greater then b \n"
     ]
    }
   ],
   "source": [
    "if a > b:\n",
    "    print(\" a is greater then b \")\n",
    "elif a == b:\n",
    "    print(\" a and b are equal \")\n",
    "else:\n",
    "    print(\"b is smaller then a \")\n"
   ]
  },
  {
   "cell_type": "code",
   "execution_count": 77,
   "id": "987600fa-a9db-4dd6-a57a-dda0f5df912b",
   "metadata": {},
   "outputs": [
    {
     "name": "stdout",
     "output_type": "stream",
     "text": [
      " a and b are equal \n"
     ]
    }
   ],
   "source": [
    "if a > b:\n",
    "    print(\" a is greater then b \")\n",
    "elif a == b:\n",
    "    print(\" a and b are equal \")\n",
    "else:\n",
    "    print(\"b is smaller then a \")"
   ]
  },
  {
   "cell_type": "code",
   "execution_count": 79,
   "id": "23f8ce23-c3bc-4937-a975-244a0708b92b",
   "metadata": {},
   "outputs": [
    {
     "name": "stdout",
     "output_type": "stream",
     "text": [
      "b is smaller then a \n"
     ]
    }
   ],
   "source": [
    "if a > b:\n",
    "    print(\" a is greater then b \")\n",
    "elif a == b:\n",
    "    print(\" a and b are equal \")\n",
    "else:\n",
    "    print(\"b is smaller then a \")"
   ]
  },
  {
   "cell_type": "code",
   "execution_count": 81,
   "id": "a603642d-f670-4626-aa2c-50a7447a046f",
   "metadata": {},
   "outputs": [
    {
     "name": "stdout",
     "output_type": "stream",
     "text": [
      "A\n"
     ]
    }
   ],
   "source": [
    "a = 2\n",
    "b = 1\n",
    "print(\"A\") if a > b else print(\"B\")"
   ]
  },
  {
   "cell_type": "code",
   "execution_count": 35,
   "id": "986f9516-7242-4f8f-8187-ac2c3afef220",
   "metadata": {},
   "outputs": [
    {
     "name": "stdin",
     "output_type": "stream",
     "text": [
      "Enter starting point number 1\n",
      "Enter ending point number 20\n",
      "Enter Even and Odd : even\n"
     ]
    },
    {
     "name": "stdout",
     "output_type": "stream",
     "text": [
      "number list: []\n",
      "number list length:0\n",
      "sum of list number :0 \n"
     ]
    },
    {
     "ename": "ZeroDivisionError",
     "evalue": "division by zero",
     "output_type": "error",
     "traceback": [
      "\u001b[1;31m---------------------------------------------------------------------------\u001b[0m",
      "\u001b[1;31mZeroDivisionError\u001b[0m                         Traceback (most recent call last)",
      "Cell \u001b[1;32mIn[35], line 28\u001b[0m\n\u001b[0;32m     26\u001b[0m     \u001b[38;5;28mprint\u001b[39m(\u001b[38;5;124mf\u001b[39m\u001b[38;5;124m\"\u001b[39m\u001b[38;5;124mnumber list length:\u001b[39m\u001b[38;5;132;01m{\u001b[39;00m\u001b[38;5;28mlen\u001b[39m(Numlist)\u001b[38;5;132;01m}\u001b[39;00m\u001b[38;5;124m\"\u001b[39m)\n\u001b[0;32m     27\u001b[0m     \u001b[38;5;28mprint\u001b[39m(\u001b[38;5;124mf\u001b[39m\u001b[38;5;124m\"\u001b[39m\u001b[38;5;124msum of list number :\u001b[39m\u001b[38;5;132;01m{\u001b[39;00msumnum\u001b[38;5;132;01m}\u001b[39;00m\u001b[38;5;124m \u001b[39m\u001b[38;5;124m\"\u001b[39m)\n\u001b[1;32m---> 28\u001b[0m     \u001b[38;5;28mprint\u001b[39m(\u001b[38;5;124mf\u001b[39m\u001b[38;5;124m\"\u001b[39m\u001b[38;5;124maverage of list number :\u001b[39m\u001b[38;5;132;01m{\u001b[39;00msumnum\u001b[38;5;250m \u001b[39m\u001b[38;5;241m/\u001b[39m\u001b[38;5;250m \u001b[39m\u001b[38;5;28mlen\u001b[39m(Numlist)\u001b[38;5;132;01m}\u001b[39;00m\u001b[38;5;124m\"\u001b[39m)\n\u001b[0;32m     30\u001b[0m     \u001b[38;5;28;01mbreak\u001b[39;00m\n\u001b[0;32m     31\u001b[0m \u001b[38;5;28;01melse\u001b[39;00m:\n",
      "\u001b[1;31mZeroDivisionError\u001b[0m: division by zero"
     ]
    }
   ],
   "source": [
    "Numlist = []\n",
    "sumnum = 0\n",
    "\n",
    "\n",
    "startingnumber = int(input(\"Enter starting point number\"))\n",
    "endingnumber = int(input(\"Enter ending point number\"))\n",
    "choice = input(\"Enter Even and Odd :\")\n",
    "choice = choice.lower()\n",
    "\n",
    "if startingnumber < endingnumber:\n",
    "    while startingnumber <= endingnumber:\n",
    "\n",
    "        if choice == 'even':\n",
    "            if startingnumber % 2 == 0:\n",
    "                Numlist.append(startingnumber)\n",
    "                sumnum += startingnumber\n",
    "\n",
    "        elif choice == 'odd' :\n",
    "            if startingnumber % 2 == 0 :\n",
    "                Numlist.append(startingnumber)\n",
    "                sumnum += startingnumber\n",
    "\n",
    "            startingnum += 1\n",
    "            \n",
    "        print(f\"number list: {Numlist}\")\n",
    "        print(f\"number list length:{len(Numlist)}\")\n",
    "        print(f\"sum of list number :{sumnum} \")\n",
    "        print(f\"average of list number :{sumnum / len(Numlist)}\")\n",
    "\n",
    "        break\n",
    "    else:\n",
    "        print(\"enter starting number less then ending number\")"
   ]
  },
  {
   "cell_type": "code",
   "execution_count": 1,
   "id": "80c94324-ef2d-46bf-8da0-b531ae11e672",
   "metadata": {},
   "outputs": [
    {
     "name": "stdout",
     "output_type": "stream",
     "text": [
      "{'name': 'mjtaba', 'age': 18}\n"
     ]
    }
   ],
   "source": [
    " dic = {\n",
    "     \"name\":\"mjtaba\",\n",
    "     \"age\":18\n",
    " }\n",
    "\n",
    "print(dic)"
   ]
  },
  {
   "cell_type": "code",
   "execution_count": 2,
   "id": "b862c645-6b2e-4e88-b172-da8d3e9bc1f5",
   "metadata": {},
   "outputs": [
    {
     "data": {
      "text/plain": [
       "dict"
      ]
     },
     "execution_count": 2,
     "metadata": {},
     "output_type": "execute_result"
    }
   ],
   "source": [
    "type(dic)"
   ]
  },
  {
   "cell_type": "code",
   "execution_count": 5,
   "id": "1f9e0d00-7b14-41ea-a50a-eef77d697563",
   "metadata": {},
   "outputs": [
    {
     "name": "stdin",
     "output_type": "stream",
     "text": [
      "Enter your guess number : 12\n"
     ]
    },
    {
     "name": "stdout",
     "output_type": "stream",
     "text": [
      "you guess low\n"
     ]
    },
    {
     "name": "stdin",
     "output_type": "stream",
     "text": [
      "Enter your guess number : 20\n"
     ]
    },
    {
     "name": "stdout",
     "output_type": "stream",
     "text": [
      "you guess low\n"
     ]
    },
    {
     "name": "stdin",
     "output_type": "stream",
     "text": [
      "Enter your guess number : 30\n"
     ]
    },
    {
     "name": "stdout",
     "output_type": "stream",
     "text": [
      "you guess high\n"
     ]
    },
    {
     "name": "stdin",
     "output_type": "stream",
     "text": [
      "Enter your guess number : 25\n"
     ]
    },
    {
     "name": "stdout",
     "output_type": "stream",
     "text": [
      "you guess high\n"
     ]
    },
    {
     "name": "stdin",
     "output_type": "stream",
     "text": [
      "Enter your guess number : 23\n"
     ]
    },
    {
     "name": "stdout",
     "output_type": "stream",
     "text": [
      "you guess high\n"
     ]
    },
    {
     "name": "stdin",
     "output_type": "stream",
     "text": [
      "Enter your guess number : 21\n"
     ]
    },
    {
     "name": "stdout",
     "output_type": "stream",
     "text": [
      "you guess correct number\n"
     ]
    }
   ],
   "source": [
    "import random\n",
    "secretnumber = random.randrange(1,50)\n",
    "while True:\n",
    "    userguess = int(input(\"Enter your guess number :\"))\n",
    "\n",
    "    if userguess < secretnumber:\n",
    "        print(\"you guess low\")\n",
    "    elif userguess > secretnumber:\n",
    "        print(\"you guess high\")\n",
    "    else:\n",
    "        print(\"you guess correct number\")\n",
    "        break"
   ]
  },
  {
   "cell_type": "code",
   "execution_count": 7,
   "id": "74222802-7059-4178-9610-28637b3e24a2",
   "metadata": {},
   "outputs": [
    {
     "name": "stdout",
     "output_type": "stream",
     "text": [
      "WELCOME TO MY NUMBER GUESSING GAME\n"
     ]
    },
    {
     "name": "stdin",
     "output_type": "stream",
     "text": [
      "Enter a Minimum Value:  1\n",
      "Enter a Maximum Value:  3\n"
     ]
    },
    {
     "name": "stdout",
     "output_type": "stream",
     "text": [
      "You have 3 Lives Left to Guess Correct.\n"
     ]
    },
    {
     "name": "stdin",
     "output_type": "stream",
     "text": [
      "Enter Your Guess Number:  2\n"
     ]
    },
    {
     "name": "stdout",
     "output_type": "stream",
     "text": [
      "You Guess High\n",
      "You have 2 Lives Left to Guess Correct.\n"
     ]
    },
    {
     "name": "stdin",
     "output_type": "stream",
     "text": [
      "Enter Your Guess Number:  3\n"
     ]
    },
    {
     "name": "stdout",
     "output_type": "stream",
     "text": [
      "You Guess High\n",
      "You have 1 Lives Left to Guess Correct.\n"
     ]
    },
    {
     "name": "stdin",
     "output_type": "stream",
     "text": [
      "Enter Your Guess Number:  1\n"
     ]
    },
    {
     "name": "stdout",
     "output_type": "stream",
     "text": [
      "You Guess Correct Number\n"
     ]
    },
    {
     "name": "stdin",
     "output_type": "stream",
     "text": [
      "Do YOU WANT TO PLAY AGAIN? \n",
      "Yes\n",
      "NO\n",
      " yes\n",
      "Enter a Minimum Value:  1\n",
      "Enter a Maximum Value:  2\n"
     ]
    },
    {
     "name": "stdout",
     "output_type": "stream",
     "text": [
      "You have 3 Lives Left to Guess Correct.\n"
     ]
    },
    {
     "name": "stdin",
     "output_type": "stream",
     "text": [
      "Enter Your Guess Number:  2\n"
     ]
    },
    {
     "name": "stdout",
     "output_type": "stream",
     "text": [
      "You Guess High\n",
      "You have 2 Lives Left to Guess Correct.\n"
     ]
    },
    {
     "name": "stdin",
     "output_type": "stream",
     "text": [
      "Enter Your Guess Number:  1\n"
     ]
    },
    {
     "name": "stdout",
     "output_type": "stream",
     "text": [
      "You Guess Correct Number\n"
     ]
    },
    {
     "name": "stdin",
     "output_type": "stream",
     "text": [
      "Do YOU WANT TO PLAY AGAIN? \n",
      "Yes\n",
      "NO\n",
      " no\n"
     ]
    }
   ],
   "source": [
    "print(\"WELCOME TO MY NUMBER GUESSING GAME\")\n",
    "\n",
    "while True:\n",
    "    minNum = int(input(\"Enter a Minimum Value: \"))\n",
    "    maxNum = int(input(\"Enter a Maximum Value: \"))\n",
    "\n",
    "    chances = 3\n",
    "    \n",
    "    if minNum < maxNum:\n",
    "        secertNumber = random.randrange(minNum, maxNum)\n",
    "        \n",
    "        while chances <= 3:\n",
    "            print(f\"You have {chances} Lives Left to Guess Correct.\")\n",
    "            userGuess = input(\"Enter Your Guess Number: \")\n",
    "\n",
    "            if not userGuess.isdigit():\n",
    "                print(\"Enter Only Number, Invalid Input Data Type\")\n",
    "                continue\n",
    "            else:\n",
    "                userGuess = int(userGuess)\n",
    "                \n",
    "                if userGuess < secertNumber:\n",
    "                    print(\"You Guess Low\")\n",
    "                elif userGuess > secertNumber:\n",
    "                    print(\"You Guess High\")\n",
    "                else:\n",
    "                    print(\"You Guess Correct Number\")\n",
    "                    break\n",
    "            chances -=1\n",
    "\n",
    "            if chances == 0:\n",
    "                print(f\"You are Out of Lives, Secert Number is {secertNumber}\")\n",
    "                break\n",
    "\n",
    "        userChoice = input(\"Do YOU WANT TO PLAY AGAIN? \\nYes\\nNO\\n\").lower()\n",
    "        if userChoice != 'yes':\n",
    "            break\n",
    "        else:\n",
    "            continue\n",
    "    else:\n",
    "        print(\"Enter Minimum Value less than Maximum Value\")\n",
    "    break"
   ]
  },
  {
   "cell_type": "code",
   "execution_count": null,
   "id": "118434cc-6315-4f46-9375-375aafa4ec5f",
   "metadata": {},
   "outputs": [],
   "source": []
  }
 ],
 "metadata": {
  "kernelspec": {
   "display_name": "Python 3 (ipykernel)",
   "language": "python",
   "name": "python3"
  },
  "language_info": {
   "codemirror_mode": {
    "name": "ipython",
    "version": 3
   },
   "file_extension": ".py",
   "mimetype": "text/x-python",
   "name": "python",
   "nbconvert_exporter": "python",
   "pygments_lexer": "ipython3",
   "version": "3.13.5"
  }
 },
 "nbformat": 4,
 "nbformat_minor": 5
}
