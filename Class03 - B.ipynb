{
 "cells": [
  {
   "cell_type": "code",
   "execution_count": 1,
   "id": "fc170b01-341c-4a1b-9108-ac9ac3ecf1d1",
   "metadata": {},
   "outputs": [],
   "source": [
    "# Basic Operators\n",
    "\n",
    "# Addition\n",
    "# Subtraction\n",
    "# Multiplication\n",
    "# Division -------- 3 // 2 = 1\n",
    "\n",
    "# Float Division ----- 3 / 2 = 1.5\n",
    "# Modulus    ------- 7 % 4  = 3"
   ]
  },
  {
   "cell_type": "code",
   "execution_count": 17,
   "id": "2ef91e6f-c752-4d65-a94c-5ad4e2df2945",
   "metadata": {},
   "outputs": [
    {
     "name": "stdout",
     "output_type": "stream",
     "text": [
      "4\n"
     ]
    }
   ],
   "source": [
    "a = 2\n",
    "b = 2\n",
    "\n",
    "c = a + b\n",
    "print(c)"
   ]
  },
  {
   "cell_type": "code",
   "execution_count": 2,
   "id": "4bdf501b-1ef3-4d2c-b614-4d694d45ecf3",
   "metadata": {},
   "outputs": [
    {
     "name": "stdout",
     "output_type": "stream",
     "text": [
      "4\n"
     ]
    }
   ],
   "source": [
    "print(a + b)"
   ]
  },
  {
   "cell_type": "code",
   "execution_count": 5,
   "id": "f99bdfad-c500-4f8d-bc2b-ed97a214099c",
   "metadata": {},
   "outputs": [
    {
     "name": "stdout",
     "output_type": "stream",
     "text": [
      "1\n"
     ]
    }
   ],
   "source": [
    "a = 2\n",
    "b = 3\n",
    "\n",
    "c = b - a \n",
    "print(c)"
   ]
  },
  {
   "cell_type": "code",
   "execution_count": 6,
   "id": "9cebfa5f-faf3-4988-ad9c-115dfb6226e5",
   "metadata": {},
   "outputs": [
    {
     "name": "stdout",
     "output_type": "stream",
     "text": [
      "6\n"
     ]
    }
   ],
   "source": [
    "a = 2\n",
    "b = 3\n",
    "\n",
    "c = a * b\n",
    "print(c)"
   ]
  },
  {
   "cell_type": "code",
   "execution_count": 11,
   "id": "722ce58f-b565-4d8b-baf3-c2beb93a6aad",
   "metadata": {},
   "outputs": [
    {
     "name": "stdout",
     "output_type": "stream",
     "text": [
      "2.25\n",
      "<class 'float'>\n"
     ]
    }
   ],
   "source": [
    "a = 4\n",
    "b = 9\n",
    "\n",
    "c = b / a\n",
    "print(c)\n",
    "print(type(c))"
   ]
  },
  {
   "cell_type": "code",
   "execution_count": 12,
   "id": "9c36c08e-4118-40ae-b70b-973dc9cb5a59",
   "metadata": {},
   "outputs": [
    {
     "name": "stdout",
     "output_type": "stream",
     "text": [
      "2\n",
      "<class 'int'>\n"
     ]
    }
   ],
   "source": [
    "a = 4\n",
    "b = 9\n",
    "\n",
    "c = b // a\n",
    "print(c)\n",
    "print(type(c))"
   ]
  },
  {
   "cell_type": "code",
   "execution_count": 14,
   "id": "1ae674a5-af28-44ba-8ac8-d12476a93810",
   "metadata": {},
   "outputs": [
    {
     "name": "stdout",
     "output_type": "stream",
     "text": [
      "2\n"
     ]
    }
   ],
   "source": [
    "a = 3\n",
    "b = 5\n",
    "\n",
    "c = b % a\n",
    "print(c)"
   ]
  },
  {
   "cell_type": "code",
   "execution_count": 22,
   "id": "99c38f0a-acc5-4458-a4c8-52cb287687b3",
   "metadata": {},
   "outputs": [
    {
     "data": {
      "text/plain": [
       "4"
      ]
     },
     "execution_count": 22,
     "metadata": {},
     "output_type": "execute_result"
    }
   ],
   "source": [
    "a = 2\n",
    "b = 2\n",
    "\n",
    "a += b\n",
    "a"
   ]
  },
  {
   "cell_type": "code",
   "execution_count": null,
   "id": "ae1f9500-bcee-4c63-8789-64a629832fcd",
   "metadata": {},
   "outputs": [],
   "source": [
    "[]\n",
    "{}\n",
    "()\n",
    "/\n",
    "*\n",
    "+\n",
    "-\n",
    "BDMAS"
   ]
  },
  {
   "cell_type": "code",
   "execution_count": null,
   "id": "5259cd29-a08c-46b6-9bb5-8a986bf85baa",
   "metadata": {},
   "outputs": [],
   "source": [
    "= [ 2 + (2 + 2)]\n",
    "= [ 2 + ( 4)]\n",
    "= [ 2 + 4]\n",
    "= [6]"
   ]
  },
  {
   "cell_type": "code",
   "execution_count": 23,
   "id": "30306e93-de75-4cf8-ab5f-fb10326552ef",
   "metadata": {},
   "outputs": [
    {
     "name": "stdout",
     "output_type": "stream",
     "text": [
      "[6]\n"
     ]
    }
   ],
   "source": [
    "print([ 2 + (2 + 2)])"
   ]
  },
  {
   "cell_type": "code",
   "execution_count": null,
   "id": "458702bd-2442-43af-8c06-d1b2e8134143",
   "metadata": {},
   "outputs": [],
   "source": [
    "= [ 4 / 3 ( 3 - 2 ) + ( 4 + 6) 8]\n",
    "= [ 4 / 3 ( 1) + ( 10 ) 8]\n",
    "= [ 4 / 3 + 80 ] \n",
    "= [ 1.3 + 80 ]\n",
    "= [81.3]"
   ]
  },
  {
   "cell_type": "code",
   "execution_count": 25,
   "id": "2c592916-4898-47b1-9dc4-ca81c8ad1f6d",
   "metadata": {},
   "outputs": [
    {
     "name": "stdout",
     "output_type": "stream",
     "text": [
      "[81.33333333333333]\n"
     ]
    }
   ],
   "source": [
    "print([ 4 / 3 * ( 3 - 2 ) + ( 4 + 6) * 8])"
   ]
  },
  {
   "cell_type": "code",
   "execution_count": null,
   "id": "eddbe41e-1904-4468-baae-89b51408454d",
   "metadata": {},
   "outputs": [],
   "source": [
    "print([ a / c * ( s - a ) + ( a + b) * q])"
   ]
  },
  {
   "cell_type": "code",
   "execution_count": null,
   "id": "bbbcc436-836e-4652-b876-59d8e68104fb",
   "metadata": {},
   "outputs": [],
   "source": [
    "a = int(input(\"enter number\"))"
   ]
  },
  {
   "cell_type": "code",
   "execution_count": 26,
   "id": "f8ea5e24-83e5-4520-b040-0f7eb62ee29a",
   "metadata": {},
   "outputs": [],
   "source": [
    "a = 2\n",
    "b = 4"
   ]
  },
  {
   "cell_type": "code",
   "execution_count": null,
   "id": "9fb11e10-d291-406b-b1a6-442fcddebd6d",
   "metadata": {},
   "outputs": [],
   "source": [
    "a = b\n",
    "b = a\n"
   ]
  },
  {
   "cell_type": "code",
   "execution_count": 27,
   "id": "35ac9a27-189e-45b8-83a8-17da0a2c7e01",
   "metadata": {},
   "outputs": [
    {
     "name": "stdout",
     "output_type": "stream",
     "text": [
      "4\n",
      "2\n"
     ]
    }
   ],
   "source": [
    "c = a + b\n",
    "b = c - b\n",
    "a = c - a\n",
    "\n",
    "print(a)\n",
    "print(b)"
   ]
  },
  {
   "cell_type": "code",
   "execution_count": 28,
   "id": "9db97440-ac48-4d28-8b85-c266ff901927",
   "metadata": {},
   "outputs": [],
   "source": [
    "a ,b = b, a"
   ]
  },
  {
   "cell_type": "code",
   "execution_count": null,
   "id": "8d5ab833-ffa7-455c-afcf-69d6193312c0",
   "metadata": {},
   "outputs": [],
   "source": []
  },
  {
   "cell_type": "code",
   "execution_count": null,
   "id": "f57f6391-c907-472f-b3a0-925c4d9646d6",
   "metadata": {},
   "outputs": [],
   "source": []
  },
  {
   "cell_type": "code",
   "execution_count": null,
   "id": "e726aad2-be0b-43ad-8048-ed21b101239e",
   "metadata": {},
   "outputs": [],
   "source": []
  },
  {
   "cell_type": "code",
   "execution_count": null,
   "id": "82cb0abe-3481-4c82-a27e-4e1af92b389c",
   "metadata": {},
   "outputs": [],
   "source": []
  },
  {
   "cell_type": "code",
   "execution_count": null,
   "id": "fec003e4-1d66-4da8-8527-394b95ca2172",
   "metadata": {},
   "outputs": [],
   "source": []
  },
  {
   "cell_type": "code",
   "execution_count": null,
   "id": "a87c5199-8090-4cce-9c1c-f92af058888e",
   "metadata": {},
   "outputs": [],
   "source": []
  },
  {
   "cell_type": "code",
   "execution_count": null,
   "id": "665f7ffd-8359-400f-b39a-0c87632537bf",
   "metadata": {},
   "outputs": [],
   "source": []
  },
  {
   "cell_type": "code",
   "execution_count": null,
   "id": "97e1f679-e208-4e71-b183-31493e19ed6a",
   "metadata": {},
   "outputs": [],
   "source": []
  },
  {
   "cell_type": "code",
   "execution_count": null,
   "id": "7b5d6a3b-6b13-4dc3-b145-8b877f360c08",
   "metadata": {},
   "outputs": [],
   "source": []
  },
  {
   "cell_type": "code",
   "execution_count": null,
   "id": "ecb7ab3e-f5b8-483c-846a-c95c303774ef",
   "metadata": {},
   "outputs": [],
   "source": []
  },
  {
   "cell_type": "code",
   "execution_count": null,
   "id": "dafdb263-39fa-4bd8-8a9e-ea6f29fefeaa",
   "metadata": {},
   "outputs": [],
   "source": []
  }
 ],
 "metadata": {
  "kernelspec": {
   "display_name": "Python 3 (ipykernel)",
   "language": "python",
   "name": "python3"
  },
  "language_info": {
   "codemirror_mode": {
    "name": "ipython",
    "version": 3
   },
   "file_extension": ".py",
   "mimetype": "text/x-python",
   "name": "python",
   "nbconvert_exporter": "python",
   "pygments_lexer": "ipython3",
   "version": "3.13.5"
  }
 },
 "nbformat": 4,
 "nbformat_minor": 5
}
