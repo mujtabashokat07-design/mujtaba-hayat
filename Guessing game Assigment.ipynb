{
 "cells": [
  {
   "cell_type": "markdown",
   "id": "3dc23552-57b5-4dfd-a54d-2020bfed94a2",
   "metadata": {},
   "source": [
    "# Number Guessing game"
   ]
  },
  {
   "cell_type": "code",
   "execution_count": 4,
   "id": "3f26b659-4027-42ae-b173-39db84abb79b",
   "metadata": {},
   "outputs": [
    {
     "name": "stdin",
     "output_type": "stream",
     "text": [
      "Guess the number 5\n"
     ]
    },
    {
     "name": "stdout",
     "output_type": "stream",
     "text": [
      "To high\n"
     ]
    },
    {
     "name": "stdin",
     "output_type": "stream",
     "text": [
      "Guess the number 2\n"
     ]
    },
    {
     "name": "stdout",
     "output_type": "stream",
     "text": [
      "You win the number was 2\n"
     ]
    }
   ],
   "source": [
    "import random\n",
    "number = random.randrange(1,10)\n",
    "while True:\n",
    "    user = int(input(\"Guess the number\"))\n",
    "    if number < user:\n",
    "        print(\"To high\")\n",
    "    elif number > user:\n",
    "        print(\"to low\")\n",
    "    else:\n",
    "        print(\"You win the number was\" , number)\n",
    "        break"
   ]
  },
  {
   "cell_type": "code",
   "execution_count": 2,
   "id": "e9ab3fb6-9b0b-407c-aa93-517b3f20f09b",
   "metadata": {},
   "outputs": [
    {
     "name": "stdin",
     "output_type": "stream",
     "text": [
      "Enter your guess number : 2\n"
     ]
    },
    {
     "name": "stdout",
     "output_type": "stream",
     "text": [
      "you guess low\n"
     ]
    },
    {
     "name": "stdin",
     "output_type": "stream",
     "text": [
      "Enter your guess number : 5\n"
     ]
    },
    {
     "name": "stdout",
     "output_type": "stream",
     "text": [
      "you guess correct number\n"
     ]
    }
   ],
   "source": [
    "import random\n",
    "secretnumber = random.randrange(1,50)\n",
    "while True:\n",
    "    userguess = int(input(\"Enter your guess number :\"))\n",
    "\n",
    "    if userguess < secretnumber:\n",
    "        print(\"you guess low\")\n",
    "    elif userguess > secretnumber:\n",
    "        print(\"you guess high\")\n",
    "    else:\n",
    "        print(\"you guess correct number\")\n",
    "        break"
   ]
  },
  {
   "cell_type": "code",
   "execution_count": null,
   "id": "da02c331-4298-444e-af5a-c7f5ceb51af7",
   "metadata": {
    "scrolled": true
   },
   "outputs": [],
   "source": [
    "import random\n",
    "while True:\n",
    "    user = int(input(\"Guess the number\"))\n",
    "    number = random.randrange(1,5)\n",
    "    if number < user:\n",
    "        print(\"To high\")\n",
    "        print(\"Correct number is\" , number )\n",
    "        continue\n",
    "    elif number > user:\n",
    "        print(\"to low\")\n",
    "        print(\"Correct number is\" , number )\n",
    "        continue\n",
    "    else:\n",
    "        print(\"You win\")\n",
    "        print(\"Correct number is\" , number )\n",
    "    break"
   ]
  },
  {
   "cell_type": "code",
   "execution_count": null,
   "id": "b2aa186e-5e77-47c3-a6a6-5b01994257bb",
   "metadata": {},
   "outputs": [],
   "source": [
    "import random\n",
    "\n",
    "while True:\n",
    "    minimum = int(input(\"Enter minimum number: \"))\n",
    "    maximum = int(input(\"Enter maximum number: \"))\n",
    "\n",
    "    if minimum >= maximum:\n",
    "        print(\"Minimum must be less than maximum. Try again.\\n\")\n",
    "        continue\n",
    "\n",
    "    number = random.randrange(minimum, maximum + 1)\n",
    "\n",
    "    while True:\n",
    "        user = int(input(\"Guess the number: \"))\n",
    "\n",
    "        if user < number:\n",
    "            print(\"Too low!\")\n",
    "        elif user > number:\n",
    "            print(\"Too high!\")\n",
    "        else:\n",
    "            print(\" you Win The number is\", number)\n",
    "            break\n",
    "\n",
    "    break"
   ]
  },
  {
   "cell_type": "code",
   "execution_count": null,
   "id": "5fccd727-6c0a-4bae-81ea-3facfc025491",
   "metadata": {},
   "outputs": [],
   "source": [
    "import random\n",
    "\n",
    "while True:\n",
    "    minimum = int(input(\"Enter minimum number\"))\n",
    "    maximum = int(input(\"Enter maximum number\"))\n",
    "\n",
    "    if minimum >= maximum:\n",
    "        continue\n",
    "\n",
    "    number = random.randrange(minimum, maximum)\n",
    "\n",
    "    while True:\n",
    "        user = int(input(\"Guess the number: \"))\n",
    "\n",
    "        if user < number:\n",
    "            print(\"Too low!\")\n",
    "        elif user > number:\n",
    "            print(\"Too high!\")\n",
    "        else:\n",
    "            print(\" you Win The number is\", number)\n",
    "            break\n",
    "\n",
    "    break"
   ]
  },
  {
   "cell_type": "code",
   "execution_count": 2,
   "id": "61e16955-eea7-454f-a3a9-0796b540dbbb",
   "metadata": {},
   "outputs": [
    {
     "ename": "IndentationError",
     "evalue": "unindent does not match any outer indentation level (<string>, line 11)",
     "output_type": "error",
     "traceback": [
      "\u001b[1;36m  File \u001b[1;32m<string>:11\u001b[1;36m\u001b[0m\n\u001b[1;33m    continue\u001b[0m\n\u001b[1;37m            ^\u001b[0m\n\u001b[1;31mIndentationError\u001b[0m\u001b[1;31m:\u001b[0m unindent does not match any outer indentation level\n"
     ]
    }
   ],
   "source": [
    "import random\n",
    "\n",
    "while True:\n",
    "    minimum = int(input(\"Enter minimum number\"))\n",
    "    maximum = int(input(\"Enter maximum number\"))\n",
    "\n",
    "    chance = 3\n",
    "\n",
    "    if minimum >= maximum:\n",
    "         print(\"Plz Enter the number greater then maximum\")\n",
    "        continue\n",
    "\n",
    "    number = random.randrange(minimum, maximum)\n",
    "\n",
    "    while chance > 0:\n",
    "        user = int(input(\"Guess the number\"))\n",
    "\n",
    "        if user < number:\n",
    "            print(\"Too low\")\n",
    "        elif user > number:\n",
    "            print(\"Too high\")\n",
    "        else:\n",
    "            print(\"You win The number was\" , number)\n",
    "            break \n",
    "\n",
    "        chance -= 1\n",
    "        if chance > 0:\n",
    "            print(f\"You have {chance} chances left\")\n",
    "        else:\n",
    "            print(f\"Out of chances The number was {number}\")\n",
    "\n",
    "    play_again = input(\" Do you want to Play again(yes/no)\").lower()\n",
    "    if play_again != \"yes\":\n",
    "        print(\"Thanks for playing\")\n",
    "        break\n"
   ]
  },
  {
   "cell_type": "code",
   "execution_count": null,
   "id": "2431a0ce-23e2-41ef-9161-615c9dfe4f13",
   "metadata": {},
   "outputs": [],
   "source": [
    "import random\n",
    "while True:\n",
    "    user = int(input(\"Enter number\"))\n",
    "    secretnum = random.randrange(1,10)\n",
    "\n",
    "    if user < secretnum:\n",
    "        print(\"To high\")\n",
    "    elif user > secretnum:\n",
    "        print(\"too low\")\n",
    "    else:\n",
    "        print(\"you in the number is\" , secretnum )\n",
    "        break"
   ]
  },
  {
   "cell_type": "code",
   "execution_count": 12,
   "id": "814b35b9-20a8-4ad1-9532-03bb0c8b882f",
   "metadata": {},
   "outputs": [],
   "source": []
  },
  {
   "cell_type": "code",
   "execution_count": 13,
   "id": "76e41875-4c75-4e57-846b-028c8ed2e39b",
   "metadata": {},
   "outputs": [],
   "source": []
  },
  {
   "cell_type": "code",
   "execution_count": null,
   "id": "d7feaf37-3a0c-40a3-8ecb-6b72193433a0",
   "metadata": {},
   "outputs": [],
   "source": []
  },
  {
   "cell_type": "code",
   "execution_count": null,
   "id": "db677323-0d4e-4d60-89f8-dbbdda9edf7e",
   "metadata": {},
   "outputs": [],
   "source": []
  },
  {
   "cell_type": "code",
   "execution_count": null,
   "id": "e131a1bd-c5a8-4a7e-9ec0-a7f3f4452869",
   "metadata": {},
   "outputs": [],
   "source": []
  },
  {
   "cell_type": "code",
   "execution_count": null,
   "id": "77eab192-18e0-49a3-b479-8524375811de",
   "metadata": {},
   "outputs": [],
   "source": []
  },
  {
   "cell_type": "code",
   "execution_count": null,
   "id": "0414d847-ffee-4ce0-ad68-e64e62f98142",
   "metadata": {},
   "outputs": [],
   "source": []
  },
  {
   "cell_type": "code",
   "execution_count": null,
   "id": "e7789c70-3a08-462c-a49d-aa03c52263ae",
   "metadata": {},
   "outputs": [],
   "source": []
  }
 ],
 "metadata": {
  "kernelspec": {
   "display_name": "Python 3 (ipykernel)",
   "language": "python",
   "name": "python3"
  },
  "language_info": {
   "codemirror_mode": {
    "name": "ipython",
    "version": 3
   },
   "file_extension": ".py",
   "mimetype": "text/x-python",
   "name": "python",
   "nbconvert_exporter": "python",
   "pygments_lexer": "ipython3",
   "version": "3.13.5"
  }
 },
 "nbformat": 4,
 "nbformat_minor": 5
}
