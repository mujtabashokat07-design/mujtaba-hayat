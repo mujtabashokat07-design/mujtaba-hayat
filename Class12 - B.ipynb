{
 "cells": [
  {
   "cell_type": "markdown",
   "id": "a279d06e-5eaa-4902-9419-867602fbbba6",
   "metadata": {},
   "source": [
    "## Class Task\n",
    "\n",
    "Task Breakdown:\n",
    "\n",
    "1) User Input:\n",
    "\n",
    "* The program will ask the user for the contact's name (string), phone number (int), and email (string).\n",
    "\n",
    "2) Dictionary:\n",
    "\n",
    "* Store the contact's information in a dictionary, using the name, phone number and email as the key and value.\n",
    "\n",
    "3) If-else:\n",
    "\n",
    "* Use an if-else statement to check if the contact is already in the dictionary:\n",
    "\n",
    "* If the contact is already in the dictionary, print a message saying that the contact exists.\n",
    "\n",
    "* If the contact is not in the dictionary, add the contact.\n",
    "\n",
    "4) Display Contact Information:\n",
    "\n",
    "* After adding or updating a contact, the program should display the contact’s information."
   ]
  },
  {
   "cell_type": "markdown",
   "id": "7402e6c8-51fa-4ab8-b875-9f7d1519696f",
   "metadata": {},
   "source": [
    "## Class Task\n",
    "\n",
    "Task Breakdown:\n",
    "\n",
    "1) User Input:\n",
    "\n",
    "* The program will ask the user for the contact's name (string), phone number (int), and email (string).\n",
    "\n",
    "2) Dictionary:\n",
    "\n",
    "* Store the contact's information in a dictionary, using the name, phone number and email as the key and value.\n",
    "\n",
    "3) If-else:\n",
    "\n",
    "* Use an if-else statement to check if the contact is already in the dictionary:\n",
    "\n",
    "* If the contact is already in the dictionary, print a message saying that the contact exists.\n",
    "\n",
    "* If the contact is not in the dictionary, add the contact.\n",
    "\n",
    "4) Display Contact Information:\n",
    "\n",
    "* After adding or updating a contact, the program should display the contact’s information."
   ]
  },
  {
   "cell_type": "code",
   "execution_count": 1,
   "id": "5cac1bea-fe76-4b26-9dff-632815674228",
   "metadata": {},
   "outputs": [],
   "source": [
    "contacts = {}"
   ]
  },
  {
   "cell_type": "code",
   "execution_count": 24,
   "id": "1d20e8f4-03b9-4e20-98ef-3646b260acb2",
   "metadata": {},
   "outputs": [
    {
     "name": "stdin",
     "output_type": "stream",
     "text": [
      "Enter Name Don\n",
      "Enter Number 47\n",
      "Enter Email Don@47.DONWORLD\n"
     ]
    }
   ],
   "source": [
    "name = input(\"Enter Name\")\n",
    "phoneNo = int(input(\"Enter Number\"))\n",
    "email = input(\"Enter Email\")"
   ]
  },
  {
   "cell_type": "code",
   "execution_count": 25,
   "id": "132e0a1d-5b73-451c-b42a-08bbb4f1a113",
   "metadata": {},
   "outputs": [
    {
     "name": "stdout",
     "output_type": "stream",
     "text": [
      "Contact details added\n"
     ]
    }
   ],
   "source": [
    "if name in contacts:\n",
    "    print(f\"{name} is already exist\")\n",
    "else:\n",
    "    contacts[name] = {\"Phone NO\" : phoneNo, \"Email\" : email}\n",
    "    print(\"Contact details added\")"
   ]
  },
  {
   "cell_type": "code",
   "execution_count": 26,
   "id": "578e382f-0f57-4ecd-915d-ac073a058026",
   "metadata": {},
   "outputs": [
    {
     "data": {
      "text/plain": [
       "{'a': [1, '2'],\n",
       " 'b': [1, '21'],\n",
       " 'Don': {'Phone NO': 47, 'Email': 'Don@47.DONWORLD'}}"
      ]
     },
     "execution_count": 26,
     "metadata": {},
     "output_type": "execute_result"
    }
   ],
   "source": [
    "contacts"
   ]
  },
  {
   "cell_type": "code",
   "execution_count": 23,
   "id": "28ca402b-3130-438a-8f60-c8b1e146682a",
   "metadata": {},
   "outputs": [
    {
     "name": "stdout",
     "output_type": "stream",
     "text": [
      "Name : b\n",
      "PhoneNo : 1\n",
      "Email : 2\n"
     ]
    }
   ],
   "source": [
    "print(f\"Name : {name}\")\n",
    "print(f\"PhoneNo : {contacts[\"a\"][0]}\")\n",
    "print(f\"Email : {contacts[\"a\"][1]}\")"
   ]
  },
  {
   "cell_type": "markdown",
   "id": "7e8a5fe6-bd64-4976-a981-ab18e8b74e88",
   "metadata": {},
   "source": [
    "## MATCH CASE"
   ]
  },
  {
   "cell_type": "code",
   "execution_count": 27,
   "id": "9d000f68-ee01-4ebc-8713-7ed83ae3c917",
   "metadata": {},
   "outputs": [
    {
     "name": "stdout",
     "output_type": "stream",
     "text": [
      "Pink Purchase\n"
     ]
    }
   ],
   "source": [
    "suitColor = \"Pink\"\n",
    "\n",
    "match suitColor:\n",
    "    case \"Red\":\n",
    "        print(\"Red Purchase\")\n",
    "    case \"Green\":\n",
    "        print(\"Green Purchase\")\n",
    "    case \"Blue\":\n",
    "        print(\"Blue Purchase\")\n",
    "    case \"Black\":\n",
    "        print(\"Black Purchase\")\n",
    "    case \"Pink\":\n",
    "        print(\"Pink Purchase\")"
   ]
  },
  {
   "cell_type": "code",
   "execution_count": 44,
   "id": "3d476373-6673-4fe1-9d85-78b7b81f40c2",
   "metadata": {},
   "outputs": [],
   "source": [
    "Day = \"Saturday\"\n",
    "Time = 2"
   ]
  },
  {
   "cell_type": "code",
   "execution_count": 38,
   "id": "a455503e-cc08-4540-8066-56dbf7f2a29f",
   "metadata": {},
   "outputs": [
    {
     "name": "stdout",
     "output_type": "stream",
     "text": [
      "Wait for Day\n"
     ]
    }
   ],
   "source": [
    "\n",
    "if Day is \"Saturday\":\n",
    "    if Time == 2:\n",
    "        print(\"Class ma jaein\")\n",
    "    else:\n",
    "        print(\"Wait for time\")\n",
    "else:\n",
    "    print(\"Wait for Day\")"
   ]
  },
  {
   "cell_type": "code",
   "execution_count": 45,
   "id": "d8e98079-ff71-4677-a7dd-3835009c5e01",
   "metadata": {},
   "outputs": [
    {
     "name": "stdout",
     "output_type": "stream",
     "text": [
      "Go to Class\n"
     ]
    }
   ],
   "source": [
    "match Day:\n",
    " case \"Monday\":\n",
    "     print(\"Wait for Day\")\n",
    " case \"Tuesday\":\n",
    "     print(\"Wait for Day\")\n",
    " case \"Wed\":\n",
    "     print(\"Wait for Day\")\n",
    " case \"Thur\":\n",
    "     print(\"Wait for Day\")\n",
    " case \"Fri\":\n",
    "     print(\"Wait for Day\")\n",
    " case \"Saturday\":\n",
    "     print(\"Go to Class\")\n",
    " case \"Sun\":\n",
    "     print(\"Go to Class\")"
   ]
  },
  {
   "cell_type": "code",
   "execution_count": 48,
   "id": "66aed3b3-3e07-48d0-b85f-7f7c37173b75",
   "metadata": {},
   "outputs": [
    {
     "name": "stdout",
     "output_type": "stream",
     "text": [
      "No match\n"
     ]
    }
   ],
   "source": [
    "month = 1\n",
    "day = 7\n",
    "match day:\n",
    "  case 1 | 2 | 3 | 4 | 5 if month == 4:\n",
    "    print(\"A weekday in April\")\n",
    "  case 1 | 2 | 3 | 4 | 5 if month == 5:\n",
    "    print(\"A weekday in May\")\n",
    "  case _:\n",
    "    print(\"No match\")"
   ]
  },
  {
   "cell_type": "markdown",
   "id": "a6430cf9-4a6c-4d11-bed6-d2d2b9d83217",
   "metadata": {},
   "source": [
    "## WHILE LOOP"
   ]
  },
  {
   "cell_type": "code",
   "execution_count": 52,
   "id": "43bbf8fe-37f7-4bbb-a78f-cf0e98ae045f",
   "metadata": {},
   "outputs": [
    {
     "name": "stdout",
     "output_type": "stream",
     "text": [
      "2\n",
      "4\n",
      "6\n",
      "8\n",
      "10\n"
     ]
    }
   ],
   "source": [
    "numb = 2\n",
    "\n",
    "while numb <= 10:\n",
    "    print(numb)\n",
    "    numb += 2"
   ]
  },
  {
   "cell_type": "code",
   "execution_count": 60,
   "id": "074bd8df-2196-48ee-afd0-b79238ccfd70",
   "metadata": {},
   "outputs": [
    {
     "name": "stdout",
     "output_type": "stream",
     "text": [
      "3 * 1 = 3\n",
      "3 * 2 = 6\n",
      "3 * 3 = 9\n",
      "3 * 4 = 12\n",
      "3 * 5 = 15\n",
      "3 * 6 = 18\n",
      "3 * 7 = 21\n",
      "3 * 8 = 24\n",
      "3 * 9 = 27\n",
      "3 * 10 = 30\n"
     ]
    }
   ],
   "source": [
    "#  2 * 1 = 2\n",
    "i = 3\n",
    "j = 1\n",
    "\n",
    "while i <= 30:\n",
    "    print(f\"3 * {j} = {i}\")\n",
    "    i += 3\n",
    "    j += 1"
   ]
  },
  {
   "cell_type": "code",
   "execution_count": 3,
   "id": "4d103281-b326-4576-800a-efdb0cd46a3f",
   "metadata": {},
   "outputs": [
    {
     "name": "stdin",
     "output_type": "stream",
     "text": [
      "Enter Number for Table:  12\n"
     ]
    },
    {
     "name": "stdout",
     "output_type": "stream",
     "text": [
      "12 * 2 = 24\n",
      "12 * 3 = 36\n",
      "12 * 4 = 48\n",
      "12 * 6 = 72\n",
      "12 * 7 = 84\n",
      "12 * 8 = 96\n",
      "12 * 9 = 108\n",
      "12 * 10 = 120\n",
      "12 * 11 = 132\n"
     ]
    }
   ],
   "source": [
    "#  2 * 1 = 2\n",
    "tableNumb = int(input(\"Enter Number for Table: \"))\n",
    "steps = 1\n",
    "constNumb = tableNumb\n",
    "\n",
    "while steps <= 10:\n",
    "    tableNumb += constNumb\n",
    "    steps += 1\n",
    "    if steps == 5:\n",
    "        continue\n",
    "    print(f\"{constNumb} * {steps} = {tableNumb}\")"
   ]
  },
  {
   "cell_type": "code",
   "execution_count": 4,
   "id": "4d584991-24b2-4e22-9903-009cbf46f3f8",
   "metadata": {},
   "outputs": [
    {
     "name": "stdin",
     "output_type": "stream",
     "text": [
      "Enter Number A:  1\n",
      "Enter Number B:  2\n"
     ]
    },
    {
     "name": "stdout",
     "output_type": "stream",
     "text": [
      "Condition False\n"
     ]
    },
    {
     "name": "stdin",
     "output_type": "stream",
     "text": [
      "Enter Number A:  1\n",
      "Enter Number B:  3\n"
     ]
    },
    {
     "name": "stdout",
     "output_type": "stream",
     "text": [
      "Condition False\n"
     ]
    },
    {
     "name": "stdin",
     "output_type": "stream",
     "text": [
      "Enter Number A:  2\n",
      "Enter Number B:  2\n"
     ]
    },
    {
     "name": "stdout",
     "output_type": "stream",
     "text": [
      "Condition True\n"
     ]
    }
   ],
   "source": [
    "while True:\n",
    "    a = int(input(\"Enter Number A: \"))\n",
    "    b = int(input(\"Enter Number B: \"))\n",
    "    print(f\"Condition {a == b}\")\n",
    "    if a == b:\n",
    "        break"
   ]
  },
  {
   "cell_type": "code",
   "execution_count": 90,
   "id": "adcf3a4e-fed3-40c2-826a-09151260bcdc",
   "metadata": {},
   "outputs": [
    {
     "name": "stdout",
     "output_type": "stream",
     "text": [
      "1\n",
      "2\n",
      "5\n",
      "6\n"
     ]
    }
   ],
   "source": [
    "i = 0\n",
    "while i < 6:\n",
    "  i += 1\n",
    "  if i == 3 or i == 4:\n",
    "    continue\n",
    "  # if i == 4:\n",
    "  #   continue\n",
    "  print(i)"
   ]
  },
  {
   "cell_type": "code",
   "execution_count": null,
   "id": "4eecfde1-c3ab-4043-a0e9-dae0f0af40aa",
   "metadata": {},
   "outputs": [],
   "source": []
  },
  {
   "cell_type": "code",
   "execution_count": null,
   "id": "e226cf57-1147-490e-8ffa-887081286a9d",
   "metadata": {},
   "outputs": [],
   "source": []
  },
  {
   "cell_type": "code",
   "execution_count": null,
   "id": "65a12473-e7e8-4dc7-9dfd-03606241ecff",
   "metadata": {},
   "outputs": [],
   "source": []
  },
  {
   "cell_type": "code",
   "execution_count": null,
   "id": "1f8c3a77-4024-4227-a2d0-bfd3b3973631",
   "metadata": {},
   "outputs": [],
   "source": []
  },
  {
   "cell_type": "code",
   "execution_count": null,
   "id": "95c819c3-9f39-4596-a72a-0cbd65326412",
   "metadata": {},
   "outputs": [],
   "source": []
  },
  {
   "cell_type": "code",
   "execution_count": null,
   "id": "69579b1e-714c-4561-b743-f7124fa614b3",
   "metadata": {},
   "outputs": [],
   "source": []
  },
  {
   "cell_type": "code",
   "execution_count": null,
   "id": "b0133240-3d37-4e79-a802-aeed0172a61d",
   "metadata": {},
   "outputs": [],
   "source": []
  },
  {
   "cell_type": "code",
   "execution_count": null,
   "id": "cc14211d-3b55-4ff3-b904-b9eed848249f",
   "metadata": {},
   "outputs": [],
   "source": []
  },
  {
   "cell_type": "code",
   "execution_count": null,
   "id": "a2de45af-6e3c-4717-9db6-bff97374a312",
   "metadata": {},
   "outputs": [],
   "source": []
  },
  {
   "cell_type": "code",
   "execution_count": null,
   "id": "922d43b7-b4bf-4d5c-a484-b28bd8d4f4a1",
   "metadata": {},
   "outputs": [],
   "source": []
  },
  {
   "cell_type": "code",
   "execution_count": null,
   "id": "d905a42c-650e-4fe6-bb7b-c4acebee1d8e",
   "metadata": {},
   "outputs": [],
   "source": []
  },
  {
   "cell_type": "code",
   "execution_count": null,
   "id": "7f5372d3-73f7-4fc6-9c66-fe782fb227ea",
   "metadata": {},
   "outputs": [],
   "source": []
  },
  {
   "cell_type": "code",
   "execution_count": null,
   "id": "a68c860b-2301-46d5-b427-5c72385ac806",
   "metadata": {},
   "outputs": [],
   "source": []
  },
  {
   "cell_type": "code",
   "execution_count": null,
   "id": "b8d1ffdd-4b5e-4966-9465-4eed611daaf2",
   "metadata": {},
   "outputs": [],
   "source": []
  },
  {
   "cell_type": "code",
   "execution_count": null,
   "id": "92b96043-00f7-4651-a5a9-6ff0bb0d87cd",
   "metadata": {},
   "outputs": [],
   "source": []
  },
  {
   "cell_type": "code",
   "execution_count": null,
   "id": "3e7d0bbe-d253-46c2-adeb-2754a832f5dd",
   "metadata": {},
   "outputs": [],
   "source": []
  },
  {
   "cell_type": "code",
   "execution_count": null,
   "id": "6370f425-7ef9-4c56-8f5e-a2d6cf24654b",
   "metadata": {},
   "outputs": [],
   "source": []
  }
 ],
 "metadata": {
  "kernelspec": {
   "display_name": "Python 3 (ipykernel)",
   "language": "python",
   "name": "python3"
  },
  "language_info": {
   "codemirror_mode": {
    "name": "ipython",
    "version": 3
   },
   "file_extension": ".py",
   "mimetype": "text/x-python",
   "name": "python",
   "nbconvert_exporter": "python",
   "pygments_lexer": "ipython3",
   "version": "3.13.5"
  }
 },
 "nbformat": 4,
 "nbformat_minor": 5
}
