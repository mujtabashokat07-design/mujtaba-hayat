{
 "cells": [
  {
   "cell_type": "code",
   "execution_count": 6,
   "id": "b9abc972-c54b-4c60-8bb0-f30ec4977b15",
   "metadata": {},
   "outputs": [
    {
     "name": "stdout",
     "output_type": "stream",
     "text": [
      "2\n",
      "4\n",
      "6\n",
      "8\n",
      "10\n",
      "12\n",
      "14\n",
      "16\n",
      "18\n",
      "20\n"
     ]
    }
   ],
   "source": [
    "i = 1\n",
    "\n",
    "while i <= 20:\n",
    "    if i % 2 == 0:\n",
    "        print(i)\n",
    "    i += 1\n",
    "      "
   ]
  },
  {
   "cell_type": "code",
   "execution_count": 2,
   "id": "dab650e9-d1fb-413e-83f4-b0402976c387",
   "metadata": {},
   "outputs": [
    {
     "name": "stdout",
     "output_type": "stream",
     "text": [
      "2\n",
      "4\n",
      "6\n",
      "8\n",
      "10\n",
      "12\n",
      "14\n",
      "16\n",
      "18\n",
      "20\n"
     ]
    }
   ],
   "source": [
    "i = 1\n",
    "\n",
    "while i <= 20:\n",
    "    if i % 2 == 0:\n",
    "        print(i)\n",
    "    i += 1"
   ]
  },
  {
   "cell_type": "code",
   "execution_count": 8,
   "id": "f03009a8-20d8-4f76-b2d2-a3a9b3cfc911",
   "metadata": {},
   "outputs": [
    {
     "name": "stdin",
     "output_type": "stream",
     "text": [
      "Enter ending number 20\n"
     ]
    },
    {
     "name": "stdout",
     "output_type": "stream",
     "text": [
      "2\n",
      "4\n",
      "6\n",
      "8\n",
      "10\n",
      "12\n",
      "14\n",
      "16\n",
      "18\n",
      "20\n"
     ]
    }
   ],
   "source": [
    "i = 1\n",
    "endingnumber = int(input(\"Enter ending number\"))\n",
    "\n",
    "while i <= endingnumber:\n",
    "    if i % 2 == 0:\n",
    "        print(i)\n",
    "    i += 1"
   ]
  },
  {
   "cell_type": "code",
   "execution_count": 9,
   "id": "8e082051-4576-4574-970c-4106a504bcdc",
   "metadata": {},
   "outputs": [
    {
     "name": "stdin",
     "output_type": "stream",
     "text": [
      "Enter starting number 1\n",
      "Enter ending number 10\n"
     ]
    },
    {
     "name": "stdout",
     "output_type": "stream",
     "text": [
      "2\n",
      "4\n",
      "6\n",
      "8\n",
      "10\n"
     ]
    }
   ],
   "source": [
    "startingnumber = int(input(\"Enter starting number\"))\n",
    "endingnumber = int(input(\"Enter ending number\"))\n",
    "\n",
    "while startingnumber <= endingnumber:\n",
    "    if startingnumber % 2 == 0:\n",
    "        print(startingnumber)\n",
    "    startingnumber += 1"
   ]
  },
  {
   "cell_type": "code",
   "execution_count": 10,
   "id": "ea158d94-47fb-4f99-9bf9-d5bfa7df8203",
   "metadata": {},
   "outputs": [
    {
     "name": "stdin",
     "output_type": "stream",
     "text": [
      "Enter starting number 10\n",
      "Enter ending number 2\n"
     ]
    },
    {
     "name": "stdout",
     "output_type": "stream",
     "text": [
      "Enter starting number less then ending number\n"
     ]
    }
   ],
   "source": [
    "startingnumber = int(input(\"Enter starting number\"))\n",
    "endingnumber = int(input(\"Enter ending number\"))\n",
    "\n",
    "while startingnumber <= endingnumber:\n",
    "    if startingnumber % 2 == 0:\n",
    "        print(startingnumber)\n",
    "    startingnumber += 1\n",
    "else:\n",
    "    print(\"Enter starting number less then ending number\")"
   ]
  },
  {
   "cell_type": "code",
   "execution_count": 24,
   "id": "b5f1baf4-8745-42f3-822c-e999d9163f13",
   "metadata": {},
   "outputs": [
    {
     "name": "stdin",
     "output_type": "stream",
     "text": [
      "Enter starting number 10\n",
      "Enter ending number 1\n"
     ]
    },
    {
     "name": "stdout",
     "output_type": "stream",
     "text": [
      "Enter starting number less then ending number\n"
     ]
    },
    {
     "name": "stdin",
     "output_type": "stream",
     "text": [
      "Enter starting number 20\n",
      "Enter ending number 10\n"
     ]
    },
    {
     "name": "stdout",
     "output_type": "stream",
     "text": [
      "Enter starting number less then ending number\n"
     ]
    },
    {
     "name": "stdin",
     "output_type": "stream",
     "text": [
      "Enter starting number 2\n",
      "Enter ending number 8\n"
     ]
    },
    {
     "name": "stdout",
     "output_type": "stream",
     "text": [
      "2\n",
      "4\n",
      "6\n",
      "8\n"
     ]
    }
   ],
   "source": [
    "while True:\n",
    "\n",
    "  startingnumber = int(input(\"Enter starting number\"))\n",
    "  endingnumber = int(input(\"Enter ending number\"))\n",
    "    \n",
    "  if startingnumber < endingnumber:\n",
    "      while startingnumber <= endingnumber:\n",
    "          if startingnumber % 2 == 0:\n",
    "              print(startingnumber)\n",
    "          startingnumber += 1\n",
    "      break\n",
    "  else:\n",
    "      print(\"Enter starting number less then ending number\")"
   ]
  },
  {
   "cell_type": "code",
   "execution_count": 2,
   "id": "a672b7be-016a-4659-a1c6-3bbf1d69c94b",
   "metadata": {},
   "outputs": [
    {
     "name": "stdin",
     "output_type": "stream",
     "text": [
      "Enter Starting Point Number:  2\n",
      "Enter Ending Point Number:  4\n"
     ]
    },
    {
     "name": "stdout",
     "output_type": "stream",
     "text": [
      "2\n",
      "4\n"
     ]
    }
   ],
   "source": [
    "while True:\n",
    "    \n",
    "    startingNumber = int(input(\"Enter Starting Point Number: \"))\n",
    "    endingNumber = int(input(\"Enter Ending Point Number: \"))\n",
    "    \n",
    "    if startingNumber < endingNumber:\n",
    "        while startingNumber <= endingNumber:\n",
    "            if startingNumber % 2 == 0:\n",
    "                print(startingNumber)\n",
    "            startingNumber += 1\n",
    "        break\n",
    "    else:\n",
    "        print(\"Enter Starting Number Less than Ending Number\")\n"
   ]
  },
  {
   "cell_type": "code",
   "execution_count": null,
   "id": "216ecb5a-21df-4208-98c2-d707ff3301c8",
   "metadata": {},
   "outputs": [],
   "source": []
  }
 ],
 "metadata": {
  "kernelspec": {
   "display_name": "Python 3 (ipykernel)",
   "language": "python",
   "name": "python3"
  },
  "language_info": {
   "codemirror_mode": {
    "name": "ipython",
    "version": 3
   },
   "file_extension": ".py",
   "mimetype": "text/x-python",
   "name": "python",
   "nbconvert_exporter": "python",
   "pygments_lexer": "ipython3",
   "version": "3.13.5"
  }
 },
 "nbformat": 4,
 "nbformat_minor": 5
}
