{
 "cells": [
  {
   "cell_type": "code",
   "execution_count": 2,
   "id": "dbeb1666-35e1-42a1-b0df-894b79d64f68",
   "metadata": {
    "scrolled": true
   },
   "outputs": [
    {
     "name": "stdout",
     "output_type": "stream",
     "text": [
      "1\n",
      "2\n",
      "3\n",
      "4\n",
      "5\n",
      "6\n",
      "7\n",
      "8\n",
      "9\n",
      "10\n",
      "11\n",
      "12\n",
      "13\n",
      "14\n",
      "15\n",
      "16\n",
      "17\n",
      "18\n",
      "19\n",
      "20\n",
      "21\n",
      "22\n",
      "23\n",
      "24\n",
      "25\n",
      "26\n",
      "27\n",
      "28\n",
      "29\n",
      "30\n",
      "31\n",
      "32\n",
      "33\n",
      "34\n",
      "35\n",
      "36\n",
      "37\n",
      "38\n",
      "39\n",
      "40\n",
      "41\n",
      "42\n",
      "43\n",
      "44\n",
      "45\n",
      "46\n",
      "47\n",
      "48\n",
      "49\n",
      "50\n"
     ]
    }
   ],
   "source": [
    "# while loop in a range\n",
    "i = 1\n",
    "\n",
    "while i <= 50:\n",
    "    print(i)\n",
    "    i += 1"
   ]
  },
  {
   "cell_type": "code",
   "execution_count": 2,
   "id": "4ca5aa0a-cd80-4d9f-8269-1521ce91e5ad",
   "metadata": {
    "scrolled": true
   },
   "outputs": [
    {
     "name": "stdout",
     "output_type": "stream",
     "text": [
      "2\n",
      "4\n",
      "6\n",
      "8\n",
      "10\n",
      "12\n",
      "14\n",
      "16\n",
      "18\n",
      "20\n"
     ]
    }
   ],
   "source": [
    "# while loop in a range and with if condition getting all even numbers\n",
    "i = 1\n",
    "\n",
    "while i <= 20:\n",
    "    if i % 2 == 0:\n",
    "        print(i)\n",
    "    i += 1"
   ]
  },
  {
   "cell_type": "code",
   "execution_count": 1,
   "id": "dbdbda9f-72ae-43a1-b643-47a102683558",
   "metadata": {},
   "outputs": [
    {
     "name": "stdin",
     "output_type": "stream",
     "text": [
      "Enter Ending Point Number:  20\n"
     ]
    },
    {
     "name": "stdout",
     "output_type": "stream",
     "text": [
      "2\n",
      "4\n",
      "6\n",
      "8\n",
      "10\n",
      "12\n",
      "14\n",
      "16\n",
      "18\n",
      "20\n"
     ]
    }
   ],
   "source": [
    "# while loop in a range and with if condition getting all even numbers\n",
    "# Make the range dynamic (User Input) \n",
    "i = 1\n",
    "endingNumber = int(input(\"Enter Ending Point Number: \"))\n",
    "\n",
    "while i <= endingNumber:\n",
    "    if i % 2 == 0:\n",
    "        print(i)\n",
    "    i += 1"
   ]
  },
  {
   "cell_type": "code",
   "execution_count": 3,
   "id": "79efa0d8-ebc4-4313-a68e-54f985a652d7",
   "metadata": {},
   "outputs": [
    {
     "name": "stdin",
     "output_type": "stream",
     "text": [
      "Enter Starting Point Number:  1\n",
      "Enter Ending Point Number:  10\n"
     ]
    },
    {
     "name": "stdout",
     "output_type": "stream",
     "text": [
      "2\n",
      "4\n",
      "6\n",
      "8\n",
      "10\n"
     ]
    }
   ],
   "source": [
    "# while loop in a range and with if condition getting all even numbers\n",
    "# Make the range dynamic (User Input), starting number dynamic (User Input)\n",
    "\n",
    "startingNumber = int(input(\"Enter Starting Point Number: \"))\n",
    "endingNumber = int(input(\"Enter Ending Point Number: \"))\n",
    "\n",
    "while startingNumber <= endingNumber:\n",
    "    if startingNumber % 2 == 0:\n",
    "        print(startingNumber)\n",
    "    startingNumber += 1"
   ]
  },
  {
   "cell_type": "code",
   "execution_count": 13,
   "id": "35590734-ba43-40de-a82f-e185cefc2b26",
   "metadata": {},
   "outputs": [
    {
     "name": "stdin",
     "output_type": "stream",
     "text": [
      "Enter Starting Point Number:  10\n",
      "Enter Ending Point Number:  5\n"
     ]
    },
    {
     "name": "stdout",
     "output_type": "stream",
     "text": [
      "Enter Starting Number Less than Ending Number\n"
     ]
    }
   ],
   "source": [
    "# while loop in a range and with if condition getting all even numbers\n",
    "# Make the range dynamic (User Input), starting number dynamic (User Input)\n",
    "# Check starting number is less than ending number\n",
    "\n",
    "startingNumber = int(input(\"Enter Starting Point Number: \"))\n",
    "endingNumber = int(input(\"Enter Ending Point Number: \"))\n",
    "\n",
    "if startingNumber < endingNumber:\n",
    "    while startingNumber <= endingNumber:\n",
    "        if startingNumber % 2 == 0:\n",
    "            print(startingNumber)\n",
    "        startingNumber += 1\n",
    "else:\n",
    "    print(\"Enter Starting Number Less than Ending Number\")"
   ]
  },
  {
   "cell_type": "code",
   "execution_count": 20,
   "id": "06f7bd30-2329-448d-8638-dff2267bf1e1",
   "metadata": {},
   "outputs": [
    {
     "name": "stdin",
     "output_type": "stream",
     "text": [
      "Enter Starting Point Number:  10\n",
      "Enter Ending Point Number:  1\n"
     ]
    },
    {
     "name": "stdout",
     "output_type": "stream",
     "text": [
      "Enter Starting Number Less than Ending Number\n"
     ]
    },
    {
     "name": "stdin",
     "output_type": "stream",
     "text": [
      "Enter Starting Point Number:  10\n",
      "Enter Ending Point Number:  1\n"
     ]
    },
    {
     "name": "stdout",
     "output_type": "stream",
     "text": [
      "Enter Starting Number Less than Ending Number\n"
     ]
    },
    {
     "name": "stdin",
     "output_type": "stream",
     "text": [
      "Enter Starting Point Number:  1\n",
      "Enter Ending Point Number:  10\n"
     ]
    },
    {
     "name": "stdout",
     "output_type": "stream",
     "text": [
      "2\n",
      "4\n",
      "6\n",
      "8\n",
      "10\n"
     ]
    }
   ],
   "source": [
    "# while loop in a range and with if condition getting all even numbers\n",
    "# Make the range dynamic (User Input), starting number dynamic (User Input)\n",
    "# Check starting number is less than ending number\n",
    "# While true until the number display\n",
    "\n",
    "while True:\n",
    "    \n",
    "    startingNumber = int(input(\"Enter Starting Point Number: \"))\n",
    "    endingNumber = int(input(\"Enter Ending Point Number: \"))\n",
    "    \n",
    "    if startingNumber < endingNumber:\n",
    "        while startingNumber <= endingNumber:\n",
    "            if startingNumber % 2 == 0:\n",
    "                print(startingNumber)\n",
    "            startingNumber += 1\n",
    "        break\n",
    "    else:\n",
    "        print(\"Enter Starting Number Less than Ending Number\")\n"
   ]
  },
  {
   "cell_type": "code",
   "execution_count": 30,
   "id": "a4c28924-4bff-4c9d-9061-5a658ef8e1eb",
   "metadata": {},
   "outputs": [
    {
     "name": "stdin",
     "output_type": "stream",
     "text": [
      "Enter Starting Point Number:  1\n",
      "Enter Ending Point Number:  10\n"
     ]
    },
    {
     "name": "stdout",
     "output_type": "stream",
     "text": [
      "Number List: [2, 4, 6, 8, 10]\n",
      "Number List Length: 5\n",
      "Sum of List Numbers: 30 \n",
      "Average of List Numbers: 6.0%\n"
     ]
    }
   ],
   "source": [
    "# while loop in a range and with if condition getting all even numbers\n",
    "# Make the range dynamic (User Input), starting number dynamic (User Input)\n",
    "# Check starting number is less than ending number\n",
    "# While true until the number display\n",
    "# store the numbers in list\n",
    "\n",
    "numList = []\n",
    "sumNum = 0\n",
    "\n",
    "while True:\n",
    "    \n",
    "    startingNumber = int(input(\"Enter Starting Point Number: \"))\n",
    "    endingNumber = int(input(\"Enter Ending Point Number: \"))\n",
    "    \n",
    "    if startingNumber < endingNumber:\n",
    "        while startingNumber <= endingNumber:\n",
    "            if startingNumber % 2 == 0:\n",
    "                numList.append(startingNumber)\n",
    "                sumNum += startingNumber # sumNum = sumNum + startingNumber\n",
    "            startingNumber += 1\n",
    "            \n",
    "        print(f\"Number List: {numList}\")\n",
    "        print(f\"Number List Length: {len(numList)}\")\n",
    "        print(f\"Sum of List Numbers: {sumNum} \")\n",
    "        print(f\"Average of List Numbers: {sumNum / len(numList)}\")\n",
    "        \n",
    "        break\n",
    "    else:\n",
    "        print(\"Enter Starting Number Less than Ending Number\")\n"
   ]
  },
  {
   "cell_type": "code",
   "execution_count": 37,
   "id": "2681fb4d-40fb-4f1b-b390-aed19c4ea611",
   "metadata": {},
   "outputs": [
    {
     "name": "stdin",
     "output_type": "stream",
     "text": [
      "Enter Starting Point Number:  1\n",
      "Enter Ending Point Number:  10\n",
      "Enter 'EVEN' and 'ODD':  EVEN\n"
     ]
    },
    {
     "name": "stdout",
     "output_type": "stream",
     "text": [
      "Number List: [2, 4, 6, 8, 10]\n",
      "Number List Length: 5\n",
      "Sum of List Numbers: 30 \n",
      "Average of List Numbers: 6.0\n"
     ]
    }
   ],
   "source": [
    "# while loop in a range and with if condition getting all even numbers\n",
    "# Make the range dynamic (User Input), starting number dynamic (User Input)\n",
    "# Check starting number is less than ending number\n",
    "# While true until the number display\n",
    "# store the numbers in list\n",
    "# change the even into odd\n",
    "\n",
    "numList = []\n",
    "sumNum = 0\n",
    "\n",
    "while True:\n",
    "    \n",
    "    startingNumber = int(input(\"Enter Starting Point Number: \"))\n",
    "    endingNumber = int(input(\"Enter Ending Point Number: \"))\n",
    "    choice = input(\"Enter 'EVEN' and 'ODD': \")\n",
    "    choice = choice.lower()\n",
    "    \n",
    "    if startingNumber < endingNumber:\n",
    "        while startingNumber <= endingNumber:\n",
    "            \n",
    "            if choice == 'even':\n",
    "                if startingNumber % 2 == 0:\n",
    "                    numList.append(startingNumber)\n",
    "                    sumNum += startingNumber\n",
    "                    \n",
    "            elif choice == 'odd':\n",
    "                if startingNumber % 2 != 0:\n",
    "                    numList.append(startingNumber)\n",
    "                    sumNum += startingNumber \n",
    "                    \n",
    "            startingNumber += 1\n",
    "            \n",
    "        print(f\"Number List: {numList}\")\n",
    "        print(f\"Number List Length: {len(numList)}\")\n",
    "        print(f\"Sum of List Numbers: {sumNum} \")\n",
    "        print(f\"Average of List Numbers: {sumNum / len(numList)}\")\n",
    "        \n",
    "        break\n",
    "    else:\n",
    "        print(\"Enter Starting Number Less than Ending Number\")\n"
   ]
  },
  {
   "cell_type": "code",
   "execution_count": 40,
   "id": "42292bc2-834a-4702-a5d9-bd939f615702",
   "metadata": {},
   "outputs": [
    {
     "name": "stdin",
     "output_type": "stream",
     "text": [
      "Enter Starting Point Number:  10\n",
      "Enter Ending Point Number:  1\n",
      "Enter 'EVEN' and 'ODD':  even\n"
     ]
    },
    {
     "name": "stdout",
     "output_type": "stream",
     "text": [
      "Number List: [10, 8, 6, 4, 2]\n",
      "Number List Length: 5\n",
      "Sum of List Numbers: 30 \n",
      "Average of List Numbers: 6.0\n"
     ]
    }
   ],
   "source": [
    "# while loop in a range and with if condition getting all even numbers\n",
    "# Make the range dynamic (User Input), starting number dynamic (User Input)\n",
    "# Check starting number is less than ending number\n",
    "# While true until the number display\n",
    "# store the numbers in list\n",
    "# change the even into odd\n",
    "\n",
    "numList = []\n",
    "sumNum = 0\n",
    "\n",
    "while True:\n",
    "    \n",
    "    startingNumber = int(input(\"Enter Starting Point Number: \"))\n",
    "    endingNumber = int(input(\"Enter Ending Point Number: \"))\n",
    "    choice = input(\"Enter 'EVEN' and 'ODD': \")\n",
    "    choice = choice.lower()\n",
    "    \n",
    "    if startingNumber > endingNumber:\n",
    "        while startingNumber >= endingNumber:\n",
    "            \n",
    "            if choice == 'even':\n",
    "                if startingNumber % 2 == 0:\n",
    "                    numList.append(startingNumber)\n",
    "                    sumNum += startingNumber\n",
    "                    \n",
    "            elif choice == 'odd':\n",
    "                if startingNumber % 2 != 0:\n",
    "                    numList.append(startingNumber)\n",
    "                    sumNum += startingNumber \n",
    "                    \n",
    "            startingNumber -= 1\n",
    "            \n",
    "        print(f\"Number List: {numList}\")\n",
    "        print(f\"Number List Length: {len(numList)}\")\n",
    "        print(f\"Sum of List Numbers: {sumNum} \")\n",
    "        print(f\"Average of List Numbers: {sumNum / len(numList)}\")\n",
    "        \n",
    "        break\n",
    "    else:\n",
    "        print(\"Enter Starting Number Less than Ending Number\")\n"
   ]
  },
  {
   "cell_type": "code",
   "execution_count": null,
   "id": "c36e737f-9784-4fb5-8ffe-25899bea0aef",
   "metadata": {},
   "outputs": [],
   "source": [
    "# Guessing Game\n",
    "\n",
    "# user input \n",
    "# program ya computer = random range(1, 50) -> 30\n",
    "\n",
    "# 10, print you guess low\n",
    "# 40, print you guess high\n",
    "# 30, print you guess correct\n"
   ]
  },
  {
   "cell_type": "code",
   "execution_count": null,
   "id": "73c2fd91-816f-45ad-bafd-5fd72be9f065",
   "metadata": {},
   "outputs": [],
   "source": []
  },
  {
   "cell_type": "code",
   "execution_count": null,
   "id": "7db57ed0-116e-4c75-8d6b-04c5259aeb99",
   "metadata": {},
   "outputs": [],
   "source": []
  },
  {
   "cell_type": "code",
   "execution_count": null,
   "id": "e0530cfa-e5d5-43e2-afe7-86e5a95fa2eb",
   "metadata": {},
   "outputs": [],
   "source": []
  },
  {
   "cell_type": "code",
   "execution_count": null,
   "id": "cc98c943-dc17-45c2-9035-ac0a186c7ad6",
   "metadata": {},
   "outputs": [],
   "source": []
  }
 ],
 "metadata": {
  "kernelspec": {
   "display_name": "Python 3 (ipykernel)",
   "language": "python",
   "name": "python3"
  },
  "language_info": {
   "codemirror_mode": {
    "name": "ipython",
    "version": 3
   },
   "file_extension": ".py",
   "mimetype": "text/x-python",
   "name": "python",
   "nbconvert_exporter": "python",
   "pygments_lexer": "ipython3",
   "version": "3.13.5"
  }
 },
 "nbformat": 4,
 "nbformat_minor": 5
}
