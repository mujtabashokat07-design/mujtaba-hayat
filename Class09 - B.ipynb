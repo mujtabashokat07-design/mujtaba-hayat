{
 "cells": [
  {
   "cell_type": "markdown",
   "id": "1b509d2d-1a07-414a-a58e-74c55f251359",
   "metadata": {},
   "source": [
    "## Class Task\n",
    "### Arthmetic Operator\n",
    "\n",
    "<t> Solve the below equation: <t>\n",
    "Take the User Input of a,b and c. \n",
    "\n",
    "# x = (-b ± √(b² - 4ac)) / 2a\n"
   ]
  },
  {
   "cell_type": "code",
   "execution_count": 7,
   "id": "1f4f4f3d-ffbd-46be-9393-aed3361650a7",
   "metadata": {},
   "outputs": [
    {
     "name": "stdin",
     "output_type": "stream",
     "text": [
      "Enter the Value of a =  1\n",
      "Enter the Value of b =  2\n",
      "Enter the Value of c =  3\n"
     ]
    },
    {
     "name": "stdout",
     "output_type": "stream",
     "text": [
      "The Roots are X = -1.0+1.4j and Y = -1.00-1.41j\n"
     ]
    }
   ],
   "source": [
    "# SOLUTION \n",
    "\n",
    "a = int(input(\"Enter the Value of a = \"))\n",
    "b = int(input(\"Enter the Value of b = \"))\n",
    "c = int(input(\"Enter the Value of c = \"))\n",
    "\n",
    "x = (-b + (b**2 - 4*a*c)**0.5)/(2*a)\n",
    "y = (-b - (b**2 - 4*a*c)**0.5)/(2*a)\n",
    "\n",
    "print(f\"The Roots are X = {x:.1f} and Y = {y:.2f}\")"
   ]
  },
  {
   "cell_type": "markdown",
   "id": "f69e6a4a-a4d3-493c-a8c3-c1702e1b9120",
   "metadata": {},
   "source": [
    "## DICT - COMPUND DATA TYPE"
   ]
  },
  {
   "cell_type": "code",
   "execution_count": 8,
   "id": "9b6d56ac-b38c-47b9-a203-91357399b83d",
   "metadata": {},
   "outputs": [],
   "source": [
    "data = {\n",
    "    \"Name\":\"Mustansar HusanTarar\",\n",
    "    \"Age\":100\n",
    "}"
   ]
  },
  {
   "cell_type": "code",
   "execution_count": 10,
   "id": "4e1a68fa-712f-4126-9bf5-d97fe32c362b",
   "metadata": {},
   "outputs": [
    {
     "data": {
      "text/plain": [
       "dict"
      ]
     },
     "execution_count": 10,
     "metadata": {},
     "output_type": "execute_result"
    }
   ],
   "source": [
    "type(data)"
   ]
  },
  {
   "cell_type": "code",
   "execution_count": 11,
   "id": "d672e2f9-6e95-4961-9c42-24f363cf6764",
   "metadata": {},
   "outputs": [
    {
     "data": {
      "text/plain": [
       "2"
      ]
     },
     "execution_count": 11,
     "metadata": {},
     "output_type": "execute_result"
    }
   ],
   "source": [
    "len(data)"
   ]
  },
  {
   "cell_type": "code",
   "execution_count": 12,
   "id": "00d712fa-e8a3-4170-ba37-719a486950fd",
   "metadata": {},
   "outputs": [],
   "source": [
    "data[\"CauseOfDeath\"] = \"Study\""
   ]
  },
  {
   "cell_type": "code",
   "execution_count": 13,
   "id": "495cb050-60a9-4696-a5c4-d94dc86b5a0a",
   "metadata": {},
   "outputs": [
    {
     "data": {
      "text/plain": [
       "{'Name': 'Mustansar HusanTarar', 'Age': 100, 'CauseOfDeath': 'Study'}"
      ]
     },
     "execution_count": 13,
     "metadata": {},
     "output_type": "execute_result"
    }
   ],
   "source": [
    "data"
   ]
  },
  {
   "cell_type": "code",
   "execution_count": 14,
   "id": "57ec77a6-8ef6-474e-abbd-07345d6bdd3a",
   "metadata": {},
   "outputs": [
    {
     "data": {
      "text/plain": [
       "dict_keys(['Name', 'Age', 'CauseOfDeath'])"
      ]
     },
     "execution_count": 14,
     "metadata": {},
     "output_type": "execute_result"
    }
   ],
   "source": [
    "data.keys()"
   ]
  },
  {
   "cell_type": "code",
   "execution_count": 16,
   "id": "6ae01e04-2d3f-4b42-bcb4-cffa9269da89",
   "metadata": {},
   "outputs": [
    {
     "data": {
      "text/plain": [
       "100"
      ]
     },
     "execution_count": 16,
     "metadata": {},
     "output_type": "execute_result"
    }
   ],
   "source": [
    "data[\"Age\"]"
   ]
  },
  {
   "cell_type": "code",
   "execution_count": 17,
   "id": "3c14b766-fc9e-41d0-9305-d601a4426f83",
   "metadata": {},
   "outputs": [
    {
     "data": {
      "text/plain": [
       "dict_values(['Mustansar HusanTarar', 100, 'Study'])"
      ]
     },
     "execution_count": 17,
     "metadata": {},
     "output_type": "execute_result"
    }
   ],
   "source": [
    "data.values()"
   ]
  },
  {
   "cell_type": "code",
   "execution_count": 18,
   "id": "a4371288-3bee-465b-a752-84705d27557c",
   "metadata": {},
   "outputs": [
    {
     "data": {
      "text/plain": [
       "dict_items([('Name', 'Mustansar HusanTarar'), ('Age', 100), ('CauseOfDeath', 'Study')])"
      ]
     },
     "execution_count": 18,
     "metadata": {},
     "output_type": "execute_result"
    }
   ],
   "source": [
    "data.items()"
   ]
  },
  {
   "cell_type": "code",
   "execution_count": 21,
   "id": "6b350bd6-ec00-4091-b3f8-d62f8c1f1133",
   "metadata": {},
   "outputs": [],
   "source": [
    "data[\"NewAge\"] = 250"
   ]
  },
  {
   "cell_type": "code",
   "execution_count": 22,
   "id": "4bccc05a-4df6-4562-9682-326c6e487e94",
   "metadata": {},
   "outputs": [
    {
     "data": {
      "text/plain": [
       "{'Name': 'Mustansar HusanTarar',\n",
       " 'Age': 150,\n",
       " 'CauseOfDeath': 'Study',\n",
       " 'NewAge': 250}"
      ]
     },
     "execution_count": 22,
     "metadata": {},
     "output_type": "execute_result"
    }
   ],
   "source": [
    "data"
   ]
  },
  {
   "cell_type": "code",
   "execution_count": 23,
   "id": "e789792e-ee06-4816-92e4-2cbb1cac384d",
   "metadata": {},
   "outputs": [],
   "source": [
    "data[\"Skills\"] = [\"Cleaning\",\"Dusting\",\"Washing\",\"Mopping\",\"For each work\", 2000]"
   ]
  },
  {
   "cell_type": "code",
   "execution_count": 24,
   "id": "ac052702-b6fc-499c-b497-911a98165aa2",
   "metadata": {},
   "outputs": [
    {
     "data": {
      "text/plain": [
       "{'Name': 'Mustansar HusanTarar',\n",
       " 'Age': 150,\n",
       " 'CauseOfDeath': 'Study',\n",
       " 'NewAge': 250,\n",
       " 'Skills': ['Cleaning',\n",
       "  'Dusting',\n",
       "  'Washing',\n",
       "  'Mopping',\n",
       "  'For each work',\n",
       "  2000]}"
      ]
     },
     "execution_count": 24,
     "metadata": {},
     "output_type": "execute_result"
    }
   ],
   "source": [
    "data"
   ]
  },
  {
   "cell_type": "code",
   "execution_count": 27,
   "id": "418ecb7f-258d-4b5b-9367-3ec481e9fa0f",
   "metadata": {},
   "outputs": [
    {
     "data": {
      "text/plain": [
       "['Cleaning', 'Dusting', 'Washing', 'Mopping', 'For each work', 2000]"
      ]
     },
     "execution_count": 27,
     "metadata": {},
     "output_type": "execute_result"
    }
   ],
   "source": [
    "aa = data[\"Skills\"]\n",
    "aa"
   ]
  },
  {
   "cell_type": "code",
   "execution_count": 28,
   "id": "56d3b4f8-3706-48d2-9612-6399472342e5",
   "metadata": {},
   "outputs": [],
   "source": [
    "aa.append(\"Chit-Chat\")"
   ]
  },
  {
   "cell_type": "code",
   "execution_count": 29,
   "id": "dd0067c0-b15b-4363-842b-4e9dbfa88046",
   "metadata": {},
   "outputs": [
    {
     "data": {
      "text/plain": [
       "['Cleaning',\n",
       " 'Dusting',\n",
       " 'Washing',\n",
       " 'Mopping',\n",
       " 'For each work',\n",
       " 2000,\n",
       " 'Chit-Chat']"
      ]
     },
     "execution_count": 29,
     "metadata": {},
     "output_type": "execute_result"
    }
   ],
   "source": [
    "aa"
   ]
  },
  {
   "cell_type": "code",
   "execution_count": 30,
   "id": "6a9e93e3-ba5c-4ae9-8e04-df149817a398",
   "metadata": {},
   "outputs": [
    {
     "data": {
      "text/plain": [
       "{'Name': 'Mustansar HusanTarar',\n",
       " 'Age': 150,\n",
       " 'CauseOfDeath': 'Study',\n",
       " 'NewAge': 250,\n",
       " 'Skills': ['Cleaning',\n",
       "  'Dusting',\n",
       "  'Washing',\n",
       "  'Mopping',\n",
       "  'For each work',\n",
       "  2000,\n",
       "  'Chit-Chat']}"
      ]
     },
     "execution_count": 30,
     "metadata": {},
     "output_type": "execute_result"
    }
   ],
   "source": [
    "data"
   ]
  },
  {
   "cell_type": "code",
   "execution_count": 31,
   "id": "96323a30-342f-4745-ab10-0f27d7fffd5b",
   "metadata": {},
   "outputs": [],
   "source": [
    "data[\"DOB\"] = {\n",
    "    \"YEAR\" : 1875,\n",
    "    \"MONTH\": \"FEB\",\n",
    "    \"DATE\" : 29,\n",
    "    \"DAY\" : \"SUNDAY\"\n",
    "}"
   ]
  },
  {
   "cell_type": "code",
   "execution_count": 32,
   "id": "d9834309-ed36-49cf-aaee-fc8a69de9d6d",
   "metadata": {},
   "outputs": [
    {
     "data": {
      "text/plain": [
       "{'Name': 'Mustansar HusanTarar',\n",
       " 'Age': 150,\n",
       " 'CauseOfDeath': 'Study',\n",
       " 'NewAge': 250,\n",
       " 'Skills': ['Cleaning',\n",
       "  'Dusting',\n",
       "  'Washing',\n",
       "  'Mopping',\n",
       "  'For each work',\n",
       "  2000,\n",
       "  'Chit-Chat'],\n",
       " 'DOB': {'YEAR': 1875, 'MONTH': 'FEB', 'DATE': 29, 'DAY': 'SUNDAY'}}"
      ]
     },
     "execution_count": 32,
     "metadata": {},
     "output_type": "execute_result"
    }
   ],
   "source": [
    "data"
   ]
  },
  {
   "cell_type": "code",
   "execution_count": 33,
   "id": "c91498db-269e-43fa-81fe-d8d2b5d75f0c",
   "metadata": {},
   "outputs": [
    {
     "data": {
      "text/plain": [
       "250"
      ]
     },
     "execution_count": 33,
     "metadata": {},
     "output_type": "execute_result"
    }
   ],
   "source": [
    "data.pop(\"NewAge\")"
   ]
  },
  {
   "cell_type": "code",
   "execution_count": 35,
   "id": "34eee409-3a70-45aa-b893-54e60711305d",
   "metadata": {},
   "outputs": [
    {
     "data": {
      "text/plain": [
       "{'Name': 'Mustansar HusanTarar',\n",
       " 'Age': 150,\n",
       " 'CauseOfDeath': 'Study',\n",
       " 'Skills': ['Cleaning',\n",
       "  'Dusting',\n",
       "  'Washing',\n",
       "  'Mopping',\n",
       "  'For each work',\n",
       "  2000,\n",
       "  'Chit-Chat'],\n",
       " 'DOB': {'YEAR': 1875, 'MONTH': 'FEB', 'DATE': 29, 'DAY': 'SUNDAY'}}"
      ]
     },
     "execution_count": 35,
     "metadata": {},
     "output_type": "execute_result"
    }
   ],
   "source": [
    "data"
   ]
  },
  {
   "cell_type": "code",
   "execution_count": 37,
   "id": "3994a11b-d3f9-4c6e-8e00-906f2ba1b3cd",
   "metadata": {},
   "outputs": [
    {
     "data": {
      "text/plain": [
       "'SUNDAY'"
      ]
     },
     "execution_count": 37,
     "metadata": {},
     "output_type": "execute_result"
    }
   ],
   "source": [
    "data[\"DOB\"].pop(\"DAY\")"
   ]
  },
  {
   "cell_type": "code",
   "execution_count": 38,
   "id": "940f1d02-26b1-400c-b8c6-9217e7b913ad",
   "metadata": {},
   "outputs": [
    {
     "data": {
      "text/plain": [
       "{'Name': 'Mustansar HusanTarar',\n",
       " 'Age': 150,\n",
       " 'CauseOfDeath': 'Study',\n",
       " 'Skills': ['Cleaning',\n",
       "  'Dusting',\n",
       "  'Washing',\n",
       "  'Mopping',\n",
       "  'For each work',\n",
       "  2000,\n",
       "  'Chit-Chat'],\n",
       " 'DOB': {'YEAR': 1875, 'MONTH': 'FEB', 'DATE': 29}}"
      ]
     },
     "execution_count": 38,
     "metadata": {},
     "output_type": "execute_result"
    }
   ],
   "source": [
    "data"
   ]
  },
  {
   "cell_type": "code",
   "execution_count": 60,
   "id": "f0fa845d-fcb3-4e06-ab0f-8f57bd7a229c",
   "metadata": {},
   "outputs": [],
   "source": [
    "data[\"KuchBhe\"] = [{1:{2:{3:{4:{5:{6: [\"SHUKR HA\",\"Bass Bhe\"]}}}}}}]"
   ]
  },
  {
   "cell_type": "code",
   "execution_count": 61,
   "id": "894b9f13-8192-410b-9ba8-23905373e007",
   "metadata": {},
   "outputs": [
    {
     "data": {
      "text/plain": [
       "{'Name': 'Mustansar HusanTarar',\n",
       " 'Age': 150,\n",
       " 'CauseOfDeath': 'Study',\n",
       " 'Skills': ['Cleaning',\n",
       "  'Dusting',\n",
       "  'Washing',\n",
       "  'Mopping',\n",
       "  'For each work',\n",
       "  2000,\n",
       "  'Chit-Chat'],\n",
       " 'DOB': {'YEAR': 1875, 'MONTH': 'FEB', 'DATE': 29},\n",
       " 'KuchBhe': [{1: {2: {3: {4: {5: {6: ['SHUKR HA', 'Bass Bhe']}}}}}}]}"
      ]
     },
     "execution_count": 61,
     "metadata": {},
     "output_type": "execute_result"
    }
   ],
   "source": [
    "data"
   ]
  },
  {
   "cell_type": "code",
   "execution_count": 77,
   "id": "a1e06220-beea-4b8e-9796-5a08e29149ed",
   "metadata": {},
   "outputs": [],
   "source": [
    "data[\"KuchBhe\"] = data[\"KuchBhe\"][0][1][2][3][4][5][6][0].lower()"
   ]
  },
  {
   "cell_type": "code",
   "execution_count": 71,
   "id": "d82c4b1c-bc38-41ea-b894-f15c5daa17de",
   "metadata": {},
   "outputs": [
    {
     "data": {
      "text/plain": [
       "'shukr ha'"
      ]
     },
     "execution_count": 71,
     "metadata": {},
     "output_type": "execute_result"
    }
   ],
   "source": [
    "aaa.lower()"
   ]
  },
  {
   "cell_type": "code",
   "execution_count": 72,
   "id": "7c034b4a-9831-4c68-be17-a9a0f6963d68",
   "metadata": {},
   "outputs": [
    {
     "data": {
      "text/plain": [
       "str"
      ]
     },
     "execution_count": 72,
     "metadata": {},
     "output_type": "execute_result"
    }
   ],
   "source": [
    "type(aaa)"
   ]
  },
  {
   "cell_type": "code",
   "execution_count": 78,
   "id": "384dc16f-f727-4f6f-8846-13b6886d87d5",
   "metadata": {},
   "outputs": [
    {
     "data": {
      "text/plain": [
       "{'Name': 'Mustansar HusanTarar',\n",
       " 'Age': 150,\n",
       " 'CauseOfDeath': 'Study',\n",
       " 'Skills': ['Cleaning',\n",
       "  'Dusting',\n",
       "  'Washing',\n",
       "  'Mopping',\n",
       "  'For each work',\n",
       "  2000,\n",
       "  'Chit-Chat'],\n",
       " 'DOB': {'YEAR': 1875, 'MONTH': 'FEB', 'DATE': 29},\n",
       " 'KuchBhe': 'shukr ha'}"
      ]
     },
     "execution_count": 78,
     "metadata": {},
     "output_type": "execute_result"
    }
   ],
   "source": [
    "data"
   ]
  },
  {
   "cell_type": "code",
   "execution_count": null,
   "id": "7df8e1f7-4756-488a-938e-03837f53639e",
   "metadata": {},
   "outputs": [],
   "source": []
  },
  {
   "cell_type": "code",
   "execution_count": null,
   "id": "85717769-8bf9-442b-88e6-76347f2829af",
   "metadata": {},
   "outputs": [],
   "source": []
  },
  {
   "cell_type": "code",
   "execution_count": null,
   "id": "1730fb99-a150-423e-8769-8b1c9689876f",
   "metadata": {},
   "outputs": [],
   "source": []
  },
  {
   "cell_type": "code",
   "execution_count": null,
   "id": "9c99cc82-ed70-4483-a201-775b60e16fc1",
   "metadata": {},
   "outputs": [],
   "source": [
    "\n"
   ]
  },
  {
   "cell_type": "code",
   "execution_count": null,
   "id": "ffeddaca-1af2-4180-9f91-482b7646744d",
   "metadata": {},
   "outputs": [],
   "source": []
  },
  {
   "cell_type": "code",
   "execution_count": null,
   "id": "6bffd6ef-c038-4ace-b2ac-76dda40b8e48",
   "metadata": {},
   "outputs": [],
   "source": []
  },
  {
   "cell_type": "code",
   "execution_count": null,
   "id": "594be437-eb4c-4bdc-a627-5bd92b57ca5b",
   "metadata": {},
   "outputs": [],
   "source": []
  },
  {
   "cell_type": "code",
   "execution_count": null,
   "id": "623c3fa7-77ca-4c46-9f4b-db41d0c96799",
   "metadata": {},
   "outputs": [],
   "source": []
  },
  {
   "cell_type": "code",
   "execution_count": null,
   "id": "846ee7a5-21b9-46dc-ae21-c95bc571bf27",
   "metadata": {},
   "outputs": [],
   "source": []
  },
  {
   "cell_type": "code",
   "execution_count": null,
   "id": "9a615903-7fd1-4da6-ab78-8be677465ef3",
   "metadata": {},
   "outputs": [],
   "source": []
  },
  {
   "cell_type": "code",
   "execution_count": null,
   "id": "c226497c-db66-45ae-975a-e6c6db2c813a",
   "metadata": {},
   "outputs": [],
   "source": []
  },
  {
   "cell_type": "code",
   "execution_count": null,
   "id": "7905e9ae-4740-4ed2-8c5d-e42c844513af",
   "metadata": {},
   "outputs": [],
   "source": []
  },
  {
   "cell_type": "code",
   "execution_count": null,
   "id": "d03e051e-67a0-4a67-9979-1ae2a77cb163",
   "metadata": {},
   "outputs": [],
   "source": []
  },
  {
   "cell_type": "code",
   "execution_count": null,
   "id": "5b8b690e-b760-47a3-9985-f08719fae16c",
   "metadata": {},
   "outputs": [],
   "source": []
  },
  {
   "cell_type": "code",
   "execution_count": null,
   "id": "ee381c95-ed6e-4290-bf3a-51fe39aad403",
   "metadata": {},
   "outputs": [],
   "source": []
  },
  {
   "cell_type": "code",
   "execution_count": null,
   "id": "f5c2cf63-6e49-4ba6-874e-be8fe2fb4811",
   "metadata": {},
   "outputs": [],
   "source": []
  }
 ],
 "metadata": {
  "kernelspec": {
   "display_name": "Python 3 (ipykernel)",
   "language": "python",
   "name": "python3"
  },
  "language_info": {
   "codemirror_mode": {
    "name": "ipython",
    "version": 3
   },
   "file_extension": ".py",
   "mimetype": "text/x-python",
   "name": "python",
   "nbconvert_exporter": "python",
   "pygments_lexer": "ipython3",
   "version": "3.13.5"
  }
 },
 "nbformat": 4,
 "nbformat_minor": 5
}
