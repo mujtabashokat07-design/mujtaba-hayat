{
 "cells": [
  {
   "cell_type": "code",
   "execution_count": 1,
   "id": "232b591f-001a-4eab-b3fd-e12c34337908",
   "metadata": {},
   "outputs": [
    {
     "name": "stdout",
     "output_type": "stream",
     "text": [
      "hello world 18\n"
     ]
    }
   ],
   "source": [
    "print(\"hello world\" , 18)"
   ]
  },
  {
   "cell_type": "code",
   "execution_count": 2,
   "id": "e34bbe72-0a92-4b4b-8b0a-95b3774cf6a6",
   "metadata": {},
   "outputs": [
    {
     "name": "stdout",
     "output_type": "stream",
     "text": [
      "24\n"
     ]
    }
   ],
   "source": [
    "print(12*2)"
   ]
  },
  {
   "cell_type": "code",
   "execution_count": 3,
   "id": "123bdea9-8758-43e5-b74f-da93a73c6109",
   "metadata": {},
   "outputs": [
    {
     "name": "stdin",
     "output_type": "stream",
     "text": [
      "Enter a value 1\n"
     ]
    },
    {
     "data": {
      "text/plain": [
       "'1'"
      ]
     },
     "execution_count": 3,
     "metadata": {},
     "output_type": "execute_result"
    }
   ],
   "source": [
    "input(\"Enter a value\")"
   ]
  },
  {
   "cell_type": "code",
   "execution_count": 29,
   "id": "37e17923-3751-41c7-bd75-250fda8f0d22",
   "metadata": {},
   "outputs": [
    {
     "name": "stdin",
     "output_type": "stream",
     "text": [
      "Enter the value of a: 12\n",
      "Enter the value of b: 10\n"
     ]
    },
    {
     "name": "stdout",
     "output_type": "stream",
     "text": [
      "the value of a + b  is >: 22\n",
      "the value of a - b  is >: 2\n",
      "the value of a * b  is >: 120\n",
      "the value of a / b  is >: 1.2\n"
     ]
    }
   ],
   "source": [
    "a = int(input(\"Enter the value of a:\"))\n",
    "b = int(input(\"Enter the value of b:\"))\n",
    "print(f\"the value of a + b  is >: {a + b}\")\n",
    "print(f\"the value of a - b  is >: {a - b}\")\n",
    "print(f\"the value of a * b  is >: {a * b}\")\n",
    "print(f\"the value of a / b  is >: {a / b}\")"
   ]
  },
  {
   "cell_type": "code",
   "execution_count": 29,
   "id": "cd1c1b0a-99e0-42a6-971b-d36b95f01f2a",
   "metadata": {},
   "outputs": [
    {
     "name": "stdin",
     "output_type": "stream",
     "text": [
      "Enter the value of a: 12\n",
      "Enter the value of b: 10\n"
     ]
    },
    {
     "name": "stdout",
     "output_type": "stream",
     "text": [
      "the value of a + b  is >: 22\n",
      "the value of a - b  is >: 2\n",
      "the value of a * b  is >: 120\n",
      "the value of a / b  is >: 1.2\n"
     ]
    }
   ],
   "source": [
    "a = int(input(\"Enter the value of a:\"))\n",
    "b = int(input(\"Enter the value of b:\"))\n",
    "print(f\"the value of a + b  is >: {a + b}\")\n",
    "print(f\"the value of a - b  is >: {a - b}\")\n",
    "print(f\"the value of a * b  is >: {a * b}\")\n",
    "print(f\"the value of a / b  is >: {a / b}\")"
   ]
  },
  {
   "cell_type": "code",
   "execution_count": 30,
   "id": "f89e5582-d3fa-4caa-bfb1-c8a925efa14c",
   "metadata": {},
   "outputs": [],
   "source": [
    "a = \"1\"\n",
    "b = \"2\""
   ]
  },
  {
   "cell_type": "code",
   "execution_count": 32,
   "id": "98dc960b-e069-4363-8773-c465433d6cf3",
   "metadata": {},
   "outputs": [
    {
     "name": "stdout",
     "output_type": "stream",
     "text": [
      "12\n"
     ]
    }
   ],
   "source": [
    "print(a + b)"
   ]
  },
  {
   "cell_type": "code",
   "execution_count": 39,
   "id": "8580119d-fa0b-4334-ac65-ded596d93e5e",
   "metadata": {},
   "outputs": [
    {
     "name": "stdin",
     "output_type": "stream",
     "text": [
      "Enter the first value 2\n",
      "Enter the second value 3\n"
     ]
    },
    {
     "name": "stdout",
     "output_type": "stream",
     "text": [
      "6\n"
     ]
    }
   ],
   "source": [
    "a = int(input(\"Enter the first value\"))\n",
    "b = int(input(\"Enter the second value\"))\n",
    "print(a * b)"
   ]
  },
  {
   "cell_type": "code",
   "execution_count": 44,
   "id": "4d8f552f-d88b-4bc5-b0ce-1576f1853c1a",
   "metadata": {},
   "outputs": [
    {
     "name": "stdin",
     "output_type": "stream",
     "text": [
      "a1 + b1 1\n"
     ]
    }
   ],
   "source": [
    " calculator = int(input(\"a1 + b1\"))\n"
   ]
  },
  {
   "cell_type": "code",
   "execution_count": 37,
   "id": "93f329b2-3454-4a25-a5b2-81af39470095",
   "metadata": {},
   "outputs": [
    {
     "name": "stdout",
     "output_type": "stream",
     "text": [
      "('mujtaba',)\n"
     ]
    }
   ],
   "source": [
    "a = \"mujtaba\", \"mujtaba\", \"shahrayar\"\n",
    "print(a[-4:-2])"
   ]
  },
  {
   "cell_type": "code",
   "execution_count": 38,
   "id": "f0df6416-f6d2-4f13-8fed-f92539bcf20f",
   "metadata": {},
   "outputs": [
    {
     "name": "stdout",
     "output_type": "stream",
     "text": [
      "ar\n"
     ]
    }
   ],
   "source": [
    "nm = \"harry\"\n",
    "print(nm[-4:-2])"
   ]
  },
  {
   "cell_type": "code",
   "execution_count": 39,
   "id": "a7f7fc81-ffda-4977-85e4-64d15e7afc56",
   "metadata": {},
   "outputs": [
    {
     "name": "stdout",
     "output_type": "stream",
     "text": [
      "MUJTABA@@@@\n"
     ]
    }
   ],
   "source": [
    "a1 = \"Mujtaba@@@@\"\n",
    "print(a1.upper())"
   ]
  },
  {
   "cell_type": "code",
   "execution_count": 40,
   "id": "e9dacc94-1a91-40db-8851-f3490a2368d0",
   "metadata": {},
   "outputs": [
    {
     "name": "stdout",
     "output_type": "stream",
     "text": [
      "mujtaba@@@@\n"
     ]
    }
   ],
   "source": [
    "print(a1.lower())"
   ]
  },
  {
   "cell_type": "code",
   "execution_count": 41,
   "id": "db3958b0-a522-4701-be52-758ea6d6644d",
   "metadata": {},
   "outputs": [
    {
     "name": "stdout",
     "output_type": "stream",
     "text": [
      "Mujtaba\n"
     ]
    }
   ],
   "source": [
    "print(a1.strip(\"@\"))"
   ]
  },
  {
   "cell_type": "code",
   "execution_count": 42,
   "id": "8aba0003-7da5-44f5-b051-0b0b1d029340",
   "metadata": {},
   "outputs": [
    {
     "name": "stdout",
     "output_type": "stream",
     "text": [
      "ukasha@@@@\n"
     ]
    }
   ],
   "source": [
    "print(a1.replace(\"Mujtaba\" , \"ukasha\"))"
   ]
  },
  {
   "cell_type": "code",
   "execution_count": 43,
   "id": "1589fe71-2b4c-4527-818a-63be2e1745d1",
   "metadata": {},
   "outputs": [
    {
     "name": "stdout",
     "output_type": "stream",
     "text": [
      "['Mujtaba@@@@']\n"
     ]
    }
   ],
   "source": [
    "print(a1.split())"
   ]
  },
  {
   "cell_type": "code",
   "execution_count": 44,
   "id": "be0b0da3-faea-4bbc-a88a-d919952c869c",
   "metadata": {},
   "outputs": [
    {
     "name": "stdout",
     "output_type": "stream",
     "text": [
      "Welcome to my blog i wished you are all enjoying my blog\n"
     ]
    }
   ],
   "source": [
    "blogheading = (\"welCome To mY bLog i wiSheD You aRe aLl EnjoYING My BLOG\")\n",
    "print(blogheading.capitalize())"
   ]
  },
  {
   "cell_type": "code",
   "execution_count": 45,
   "id": "9f08601c-2767-442e-bfcb-8e380f125d42",
   "metadata": {},
   "outputs": [
    {
     "name": "stdout",
     "output_type": "stream",
     "text": [
      "welCome To mY bLog i wiSheD You aRe aLl EnjoYING My BLOG\n"
     ]
    }
   ],
   "source": [
    "blogheading = (\"welCome To mY bLog i wiSheD You aRe aLl EnjoYING My BLOG\")\n",
    "print(blogheading.center(12))"
   ]
  },
  {
   "cell_type": "code",
   "execution_count": 46,
   "id": "a2f58665-99d7-4471-b9e5-b34202a9a347",
   "metadata": {},
   "outputs": [
    {
     "name": "stdout",
     "output_type": "stream",
     "text": [
      "2\n"
     ]
    }
   ],
   "source": [
    "print(a.count(\"mujtaba\"))"
   ]
  },
  {
   "cell_type": "code",
   "execution_count": 13,
   "id": "80f6360c-2c58-45e3-adf1-5ee7a2699430",
   "metadata": {},
   "outputs": [
    {
     "name": "stdin",
     "output_type": "stream",
     "text": [
      "Enter your age 20\n"
     ]
    },
    {
     "name": "stdout",
     "output_type": "stream",
     "text": [
      "Your age is 20\n",
      "You can drive a Airoplane\n"
     ]
    }
   ],
   "source": [
    "age = int(input(\"Enter your age\"))\n",
    "print(\"Your age is\" , age)\n",
    "\n",
    "if (age <= 18):\n",
    "    print(\"You cannot drive\")\n",
    "if(age >= 18):\n",
    "        print(\"You can drive a Airoplane\")\n",
    "else:\n",
    "    print(\"you can drive\")"
   ]
  },
  {
   "cell_type": "code",
   "execution_count": 23,
   "id": "025118c5-7d88-40f1-9a06-d080f2525490",
   "metadata": {},
   "outputs": [
    {
     "name": "stdin",
     "output_type": "stream",
     "text": [
      "Enter the budget 55\n"
     ]
    },
    {
     "name": "stdout",
     "output_type": "stream",
     "text": [
      "Purchase the apple\n"
     ]
    }
   ],
   "source": [
    "apple = 50\n",
    "budget = int(input(\"Enter the budget\"))\n",
    "if (apple > budget):\n",
    "    print(\"Donot purchase the apple\")\n",
    "else:\n",
    "    print(\"Purchase the apple\")"
   ]
  },
  {
   "cell_type": "code",
   "execution_count": 43,
   "id": "c73b018f-72c3-4dd8-be5d-7db6ad6b801a",
   "metadata": {},
   "outputs": [
    {
     "name": "stdin",
     "output_type": "stream",
     "text": [
      "Enter the number 12\n"
     ]
    },
    {
     "name": "stdout",
     "output_type": "stream",
     "text": [
      "Number is positive\n",
      "you are great\n"
     ]
    }
   ],
   "source": [
    "user = int(input(\"Enter the number\"))\n",
    "if user < 0 :\n",
    "    print(\"Number is negative\")\n",
    "elif user > 0:\n",
    "    print(\"Number is positive\")\n",
    "elif user == 0:\n",
    "    print(\"Number is zero\")\n",
    "else:\n",
    "    print(\"number is special\")\n",
    "print(\"you are great\")"
   ]
  },
  {
   "cell_type": "code",
   "execution_count": 61,
   "id": "367fe8b2-c53a-4dfc-a3b7-e4634ed32e54",
   "metadata": {},
   "outputs": [
    {
     "name": "stdin",
     "output_type": "stream",
     "text": [
      "Enter the budget 0\n"
     ]
    },
    {
     "name": "stdout",
     "output_type": "stream",
     "text": [
      "Mujtaba thore kam kerwao\n",
      "bhar me dal\n"
     ]
    }
   ],
   "source": [
    "khyber = 50000\n",
    "budget = int(input(\"Enter the budget\"))\n",
    "if khyber < budget:\n",
    "    print(\"mujtaba donot buy this car\")\n",
    "elif khyber >= budget:\n",
    "    print(\"Mujtaba thore kam kerwao\")\n",
    "    if khyber <= 45000:\n",
    "        print(\"dealing and borrow it\")\n",
    "    elif khyber != budget:\n",
    "        print(\"bhar me dal\")\n",
    "    else:\n",
    "        (\"mehran hi lele\")\n",
    "else:\n",
    "    print(\"better luck next time\")\n"
   ]
  },
  {
   "cell_type": "code",
   "execution_count": 75,
   "id": "f3c0aa30-066d-4ef0-a9cc-7ea0410e36fb",
   "metadata": {},
   "outputs": [
    {
     "name": "stdin",
     "output_type": "stream",
     "text": [
      "Enter time 10\n"
     ]
    },
    {
     "name": "stdout",
     "output_type": "stream",
     "text": [
      "Good After Noon\n"
     ]
    }
   ],
   "source": [
    "time = int(input(\"Enter time\"))\n",
    "if time < 10:\n",
    "    print(\"Good Morning\")\n",
    "elif time > 10 :\n",
    "    print(\"Good Evening\")\n",
    "else :\n",
    "    print(\"Good After Noon\")"
   ]
  },
  {
   "cell_type": "code",
   "execution_count": 80,
   "id": "7fb556b1-481f-4be6-a68b-3312a62366a5",
   "metadata": {},
   "outputs": [
    {
     "data": {
      "text/plain": [
       "58"
      ]
     },
     "execution_count": 80,
     "metadata": {},
     "output_type": "execute_result"
    }
   ],
   "source": [
    "def romanToInt(s: str) -> int:\n",
    "    roman = {\n",
    "        'I': 1,\n",
    "        'V': 5,\n",
    "        'X': 10,\n",
    "        'L': 50,\n",
    "        'C': 100,\n",
    "        'D': 500,\n",
    "        'M': 1000\n",
    "    }\n",
    "\n",
    "    total = 0\n",
    "    prev_value = 0\n",
    "\n",
    "    for char in reversed(s):\n",
    "        value = roman[char]\n",
    "        if value < prev_value:\n",
    "            total -= value\n",
    "        else:\n",
    "            total += value\n",
    "        prev_value = value\n",
    "\n",
    "    return total\n",
    "\n",
    "\n",
    "romanToInt(\"LVIII\")\n"
   ]
  },
  {
   "cell_type": "code",
   "execution_count": 41,
   "id": "a1fcd021-f5ed-43ce-acd3-dcdbdafab6f4",
   "metadata": {},
   "outputs": [
    {
     "name": "stdin",
     "output_type": "stream",
     "text": [
      "Enter word mujtaba\n"
     ]
    },
    {
     "name": "stdout",
     "output_type": "stream",
     "text": [
      "m\n",
      "m\n",
      "not found\n",
      "u\n",
      "u\n",
      "not found\n",
      "j\n",
      "j\n",
      "not found\n",
      "t\n",
      "t\n",
      "not found\n",
      "a\n",
      "a\n",
      "(1)\n",
      "b\n",
      "b\n",
      "(1)\n",
      "a\n",
      "a\n",
      "(1)\n"
     ]
    }
   ],
   "source": [
    "name = str(input(\"Enter word\"))\n",
    "for i in name:\n",
    "    print(i)\n",
    "    for spel in i:\n",
    "        print(spel)\n",
    "        if \"a\" in spel:\n",
    "            print(\"(1)\")\n",
    "        elif \"b\" in spel:\n",
    "            print(\"(1)\")\n",
    "        else:\n",
    "            print(\"not found\")\n",
    "        "
   ]
  },
  {
   "cell_type": "code",
   "execution_count": 61,
   "id": "4aac3052-9957-4d6e-9846-fad43fcec6cd",
   "metadata": {},
   "outputs": [
    {
     "name": "stdout",
     "output_type": "stream",
     "text": [
      "2\n",
      "4\n",
      "6\n",
      "8\n",
      "10\n",
      "12\n",
      "14\n",
      "16\n",
      "18\n",
      "20\n"
     ]
    }
   ],
   "source": [
    "for i in range(0 , 20 , 2):\n",
    "    print(i + 2)"
   ]
  },
  {
   "cell_type": "code",
   "execution_count": 6,
   "id": "a7d36591-9acd-4e94-83c4-32a848674b99",
   "metadata": {},
   "outputs": [
    {
     "name": "stdout",
     "output_type": "stream",
     "text": [
      "2\n",
      "4\n",
      "6\n",
      "8\n",
      "10\n",
      "12\n",
      "14\n",
      "16\n",
      "18\n",
      "20\n"
     ]
    }
   ],
   "source": [
    "i = 2\n",
    "while ( i <= 20):\n",
    "    print(i)\n",
    "    i  = i + 2\n",
    "    \n",
    "\n"
   ]
  },
  {
   "cell_type": "code",
   "execution_count": 18,
   "id": "4e193482-6dd6-4a8f-b48a-af464bf28077",
   "metadata": {},
   "outputs": [
    {
     "name": "stdout",
     "output_type": "stream",
     "text": [
      "10\n",
      "8\n",
      "6\n",
      "4\n",
      "2\n",
      "my work is done\n"
     ]
    }
   ],
   "source": [
    "i = 10\n",
    "while (i > 0):\n",
    "    print(i)\n",
    "    i = i - 2\n",
    "else:\n",
    "    print(\"my work is done\")"
   ]
  },
  {
   "cell_type": "code",
   "execution_count": 22,
   "id": "113da138-d14b-4929-abd6-d61078cbf01b",
   "metadata": {},
   "outputs": [
    {
     "name": "stdin",
     "output_type": "stream",
     "text": [
      "Enter number 20\n"
     ]
    },
    {
     "name": "stdout",
     "output_type": "stream",
     "text": [
      "20\n",
      "18\n",
      "16\n",
      "14\n",
      "12\n",
      "10\n",
      "8\n",
      "6\n",
      "4\n",
      "2\n"
     ]
    }
   ],
   "source": [
    "i = int(input(\"Enter number\"))\n",
    "while (i > 0):\n",
    "    print(i)\n",
    "    i = i - 2"
   ]
  },
  {
   "cell_type": "code",
   "execution_count": 99,
   "id": "fcb72d57-4881-44ed-a5f0-1174f92cd200",
   "metadata": {},
   "outputs": [
    {
     "name": "stdin",
     "output_type": "stream",
     "text": [
      "enter stop value 12\n"
     ]
    },
    {
     "name": "stdout",
     "output_type": "stream",
     "text": [
      "5 x 1 = 5\n",
      "5 x 2 = 10\n",
      "5 x 3 = 15\n",
      "5 x 4 = 20\n",
      "5 x 5 = 25\n",
      "5 x 6 = 30\n",
      "5 x 7 = 35\n",
      "5 x 8 = 40\n",
      "5 x 9 = 45\n",
      "5 x 10 = 50\n",
      "Table is done\n"
     ]
    }
   ],
   "source": [
    "for i in range (int(input(\"enter stop value\"))):\n",
    "    if (i == 10):\n",
    "        break\n",
    "    print(\"5 x\" ,i + 1, \"=\", 5 * (i + 1 ))\n",
    "        \n",
    "print(\"Table is done\")"
   ]
  },
  {
   "cell_type": "code",
   "execution_count": 25,
   "id": "d90653a5-2d84-4a3f-8656-f14a64353902",
   "metadata": {},
   "outputs": [
    {
     "name": "stdout",
     "output_type": "stream",
     "text": [
      "5 x 1 = 5\n",
      "5 x 2 = 10\n",
      "5 x 3 = 15\n",
      "5 x 4 = 20\n",
      "5 x 5 = 25\n",
      "5 x 6 = 30\n",
      "5 x 7 = 35\n",
      "5 x 8 = 40\n",
      "5 x 9 = 45\n",
      "5 x 10 = 50\n",
      "tale is done\n"
     ]
    }
   ],
   "source": [
    "for i in range (10):\n",
    "    if (i == 10):\n",
    "        break\n",
    "    print(\"5 x\", i + 1, \"=\" , 5 * (i + 1))\n",
    "\n",
    "print(\"tale is done\")    "
   ]
  },
  {
   "cell_type": "code",
   "execution_count": 28,
   "id": "5b5cfcce-8ba7-439a-a510-b9168ae2346f",
   "metadata": {},
   "outputs": [
    {
     "name": "stdout",
     "output_type": "stream",
     "text": [
      "3 x 1 = 3\n",
      "3 x 2 = 6\n",
      "3 x 3 = 9\n",
      "3 x 4 = 12\n",
      "3 x 5 = 15\n",
      "3 x 6 = 18\n",
      "3 x 7 = 21\n",
      "3 x 8 = 24\n",
      "3 x 9 = 27\n",
      "3 x 10 = 30\n"
     ]
    }
   ],
   "source": [
    "for table in range (12):\n",
    "   if (table == 10):\n",
    "       break\n",
    "   print(\"3 x\" , table + 1 , \"=\" , 3 * (table + 1))"
   ]
  },
  {
   "cell_type": "code",
   "execution_count": 45,
   "id": "aa343da7-7435-49ed-a790-1fbd55501043",
   "metadata": {},
   "outputs": [
    {
     "name": "stdout",
     "output_type": "stream",
     "text": [
      "2 x 1 = 2\n",
      "2 x 2 = 4\n",
      "2 x 3 = 6\n",
      "2 x 4 = 8\n",
      "2 x 5 = 10\n",
      "2 x 6 = 12\n",
      "2 x 7 = 14\n",
      "2 x 8 = 16\n",
      "2 x 9 = 18\n",
      "2 x 10 = 20\n",
      "Table done\n"
     ]
    }
   ],
   "source": [
    "for table in range(12):\n",
    "    if (table == 10):\n",
    "        break\n",
    "    print(\"2 x\" , table + 1 , \"=\" , 2 * (table + 1))\n",
    "    \n",
    "print(\"Table done\")"
   ]
  },
  {
   "cell_type": "code",
   "execution_count": 35,
   "id": "f0453ad6-a1e0-4d66-a944-2d63b6a014b1",
   "metadata": {},
   "outputs": [
    {
     "name": "stdout",
     "output_type": "stream",
     "text": [
      "reverse table done\n"
     ]
    }
   ],
   "source": [
    "for table in range (-12):\n",
    "    if (table == -10):\n",
    "        break\n",
    "    print(\"2 x\" , table - 1 , \"=\" , 2 * (table -1))\n",
    "    \n",
    "print(\"reverse table done\")"
   ]
  },
  {
   "cell_type": "code",
   "execution_count": 5,
   "id": "7e6477c9-08b4-48a7-af92-37fedc961a18",
   "metadata": {},
   "outputs": [
    {
     "name": "stdout",
     "output_type": "stream",
     "text": [
      "2\n",
      "3\n",
      "4\n",
      "5\n",
      "6\n",
      "7\n",
      "8\n",
      "9\n"
     ]
    }
   ],
   "source": [
    "i = 2\n",
    "while ( i <= 20):\n",
    "    print(i)\n",
    "    i  = i + 1\n",
    "    if i == 10:\n",
    "        break\n",
    "    "
   ]
  },
  {
   "cell_type": "code",
   "execution_count": 3,
   "id": "2a728e4e-3fb9-400b-8946-57697b1884e6",
   "metadata": {},
   "outputs": [
    {
     "name": "stdout",
     "output_type": "stream",
     "text": [
      "-3\n",
      "-2\n",
      "-1\n",
      "0\n",
      "1\n",
      "2\n"
     ]
    }
   ],
   "source": [
    "c = -3\n",
    "while c < 3:\n",
    "    print(c)\n",
    "    c = c + 1\n"
   ]
  },
  {
   "cell_type": "code",
   "execution_count": 5,
   "id": "15a9dce6-ca16-401d-88c0-526dc89d0329",
   "metadata": {},
   "outputs": [
    {
     "name": "stdout",
     "output_type": "stream",
     "text": [
      "0\n",
      "1\n",
      "2\n",
      "3\n",
      "4\n",
      "5\n",
      "6\n",
      "7\n"
     ]
    }
   ],
   "source": [
    "for i in range (12):\n",
    "    print(i)\n",
    "    i = i + 1\n",
    "    if i == 8:\n",
    "        break"
   ]
  },
  {
   "cell_type": "code",
   "execution_count": 20,
   "id": "d051249b-38dd-4fa8-b54e-df38690c4fd2",
   "metadata": {},
   "outputs": [
    {
     "name": "stdout",
     "output_type": "stream",
     "text": [
      "1\n",
      "2\n",
      "3\n",
      "4\n",
      "5\n",
      "6\n",
      "7\n",
      "8\n",
      "9\n",
      "10\n",
      "11\n",
      "12\n",
      "Escpe\n",
      "14\n",
      "15\n",
      "16\n",
      "17\n",
      "18\n",
      "19\n",
      "20\n"
     ]
    }
   ],
   "source": [
    "for i in range(20):\n",
    "    if i == 12:\n",
    "        print(\"Escpe\")\n",
    "        continue\n",
    "    i = i + 1\n",
    "    print(i)"
   ]
  },
  {
   "cell_type": "code",
   "execution_count": 1,
   "id": "d83499c1-92a5-4904-9e1b-243d417b9acd",
   "metadata": {},
   "outputs": [
    {
     "name": "stdout",
     "output_type": "stream",
     "text": [
      "1\n",
      "2\n",
      "3\n",
      "4\n",
      "5\n",
      "6\n",
      "7\n",
      "8\n",
      "9\n",
      "10\n",
      "Escape\n"
     ]
    }
   ],
   "source": [
    "i = 0\n",
    "while i < 15:\n",
    "    if i == 10:\n",
    "        print(\"Escape\")\n",
    "        break\n",
    "    i = (i + 1)\n",
    "    print(i)\n",
    "    \n",
    "    \n",
    "    \n",
    "   "
   ]
  },
  {
   "cell_type": "markdown",
   "id": "e577e38d-a3a3-4a33-9274-9c671f6ce2ae",
   "metadata": {},
   "source": [
    "# Function"
   ]
  },
  {
   "cell_type": "code",
   "execution_count": 1,
   "id": "1ac4e53b-c966-4239-85d9-b2956e77b445",
   "metadata": {},
   "outputs": [],
   "source": [
    "def function():\n",
    "    print(\"Welcome to function\")"
   ]
  },
  {
   "cell_type": "code",
   "execution_count": 4,
   "id": "2bcf46c9-c4cf-4b1e-a393-ec2ca9748ca4",
   "metadata": {},
   "outputs": [
    {
     "name": "stdout",
     "output_type": "stream",
     "text": [
      "Welcome to function\n"
     ]
    }
   ],
   "source": [
    "function()"
   ]
  },
  {
   "cell_type": "code",
   "execution_count": 18,
   "id": "c577826e-296f-40d8-a55f-df1ecf0b6c2f",
   "metadata": {},
   "outputs": [],
   "source": [
    "a = 12\n",
    "b = 6\n",
    "c = 12\n",
    "d = 13\n",
    "\n",
    "mathod = (a * b)/(a + b)"
   ]
  },
  {
   "cell_type": "code",
   "execution_count": 19,
   "id": "2c4d0ad8-3864-464c-8395-715e23166e23",
   "metadata": {},
   "outputs": [
    {
     "data": {
      "text/plain": [
       "4.0"
      ]
     },
     "execution_count": 19,
     "metadata": {},
     "output_type": "execute_result"
    }
   ],
   "source": [
    "mathod"
   ]
  },
  {
   "cell_type": "code",
   "execution_count": 20,
   "id": "13129cd4-96e0-4fb6-abb5-687fc5662bb3",
   "metadata": {},
   "outputs": [],
   "source": [
    "def mathod():\n",
    "    print((a * b)/(a + b))"
   ]
  },
  {
   "cell_type": "code",
   "execution_count": 21,
   "id": "f91dce92-9f9a-496e-851c-2df7a5a07d6b",
   "metadata": {},
   "outputs": [
    {
     "name": "stdout",
     "output_type": "stream",
     "text": [
      "4.0\n"
     ]
    }
   ],
   "source": [
    "mathod()"
   ]
  },
  {
   "cell_type": "code",
   "execution_count": null,
   "id": "2dc86c86-2084-4fad-a0f8-eb197d9bd772",
   "metadata": {},
   "outputs": [],
   "source": []
  },
  {
   "cell_type": "code",
   "execution_count": 48,
   "id": "96e688e4-ee00-4533-86be-ef8e4062ac3e",
   "metadata": {},
   "outputs": [],
   "source": [
    "def add():\n",
    "    print(a+b+c+d)"
   ]
  },
  {
   "cell_type": "code",
   "execution_count": 49,
   "id": "26fbd4e4-b02e-496d-a08c-fe21594cb79e",
   "metadata": {},
   "outputs": [
    {
     "name": "stdout",
     "output_type": "stream",
     "text": [
      "43\n"
     ]
    }
   ],
   "source": [
    "add()"
   ]
  },
  {
   "cell_type": "code",
   "execution_count": 50,
   "id": "8958b937-2dfb-4cba-95ea-4d9cdd418962",
   "metadata": {},
   "outputs": [],
   "source": [
    "def divd():\n",
    "    print(a/b*c+d)"
   ]
  },
  {
   "cell_type": "code",
   "execution_count": 51,
   "id": "6f916a80-e43a-4461-9eb6-f0b70a5ab060",
   "metadata": {},
   "outputs": [
    {
     "name": "stdout",
     "output_type": "stream",
     "text": [
      "37.0\n"
     ]
    }
   ],
   "source": [
    "divd()"
   ]
  },
  {
   "cell_type": "code",
   "execution_count": 52,
   "id": "3d24e75b-6345-4aeb-822d-2ef3eda4e008",
   "metadata": {},
   "outputs": [],
   "source": [
    "def sub():\n",
    "    print(a-b-c-d)"
   ]
  },
  {
   "cell_type": "code",
   "execution_count": 53,
   "id": "ecb38c61-89f2-40f0-8df4-789cef417ffa",
   "metadata": {},
   "outputs": [
    {
     "name": "stdout",
     "output_type": "stream",
     "text": [
      "-19\n"
     ]
    }
   ],
   "source": [
    "sub()"
   ]
  },
  {
   "cell_type": "code",
   "execution_count": 55,
   "id": "62dfeee4-64ae-459e-a126-30685b49c04b",
   "metadata": {},
   "outputs": [
    {
     "name": "stdout",
     "output_type": "stream",
     "text": [
      "-19\n"
     ]
    }
   ],
   "source": [
    "sub()"
   ]
  },
  {
   "cell_type": "code",
   "execution_count": 56,
   "id": "9fe687ed-ad77-445b-85c7-a5c6f6d435ca",
   "metadata": {},
   "outputs": [
    {
     "name": "stdout",
     "output_type": "stream",
     "text": [
      "37.0\n"
     ]
    }
   ],
   "source": [
    "divd()"
   ]
  },
  {
   "cell_type": "code",
   "execution_count": 57,
   "id": "9bec6a40-d7e1-4030-946f-90c671940610",
   "metadata": {},
   "outputs": [
    {
     "name": "stdout",
     "output_type": "stream",
     "text": [
      "43\n"
     ]
    }
   ],
   "source": [
    "add()"
   ]
  },
  {
   "cell_type": "code",
   "execution_count": 72,
   "id": "ba1a26b4-eed0-4087-90ec-af8fb52bc774",
   "metadata": {},
   "outputs": [
    {
     "name": "stdin",
     "output_type": "stream",
     "text": [
      "Enter number of A 1\n",
      "Enter number of B 2\n"
     ]
    },
    {
     "name": "stdout",
     "output_type": "stream",
     "text": [
      "2\n",
      "B is Greater then A\n"
     ]
    }
   ],
   "source": [
    "a = int(input(\"Enter number of A\"))\n",
    "b = int(input(\"Enter number of B\"))\n",
    "\n",
    "def greater():\n",
    "    print(a*b)\n",
    "    if a > b:\n",
    "        print(\"A is greater then B\")\n",
    "    elif a == b:\n",
    "        print(\"A and B are equal\")\n",
    "    else:\n",
    "        print(\"B is Greater then A\")\n",
    "\n",
    "greater()"
   ]
  },
  {
   "cell_type": "code",
   "execution_count": 74,
   "id": "b4f1ed05-cc40-49dd-a2c7-89230569be0d",
   "metadata": {},
   "outputs": [
    {
     "name": "stdout",
     "output_type": "stream",
     "text": [
      "2\n",
      "B is Greater then A\n"
     ]
    }
   ],
   "source": [
    "greater()"
   ]
  },
  {
   "cell_type": "code",
   "execution_count": 80,
   "id": "09e65705-03cf-44f4-a756-8bae838eed56",
   "metadata": {},
   "outputs": [
    {
     "name": "stdout",
     "output_type": "stream",
     "text": [
      "<function better at 0x000001877395B920>\n",
      "<function better at 0x000001877395B920>\n"
     ]
    }
   ],
   "source": [
    "better()"
   ]
  },
  {
   "cell_type": "code",
   "execution_count": 4,
   "id": "effdde16-7877-4eae-9097-137e931e8d94",
   "metadata": {},
   "outputs": [
    {
     "name": "stdout",
     "output_type": "stream",
     "text": [
      "2\n",
      "3\n",
      "4\n",
      "5\n",
      "6\n",
      "7\n",
      "8\n",
      "9\n"
     ]
    }
   ],
   "source": [
    "a = 2\n",
    "while a < 10:\n",
    "    print(a)\n",
    "    a = a + 1\n",
    "    \n",
    "    "
   ]
  },
  {
   "cell_type": "code",
   "execution_count": 21,
   "id": "2c58ec3c-3961-4355-bf7a-3140aee75478",
   "metadata": {},
   "outputs": [
    {
     "name": "stdout",
     "output_type": "stream",
     "text": [
      "5 x 1 = 5\n",
      "5 x 2 = 10\n",
      "5 x 3 = 15\n",
      "5 x 4 = 20\n",
      "5 x 5 = 25\n",
      "5 x 6 = 30\n",
      "5 x 7 = 35\n",
      "5 x 8 = 40\n",
      "5 x 9 = 45\n",
      "5 x 10 = 50\n"
     ]
    }
   ],
   "source": [
    "for i in range(12):\n",
    "    print(\"5 x\" , i + 1 , \"=\" , 5 * (i + 1))\n",
    "    i = i + 1\n",
    "    if i == 10:\n",
    "        break"
   ]
  },
  {
   "cell_type": "code",
   "execution_count": 39,
   "id": "ec4f5ec3-9bd0-4176-b6c5-6291482655ad",
   "metadata": {},
   "outputs": [
    {
     "name": "stdout",
     "output_type": "stream",
     "text": [
      "hallow mujtaba\n"
     ]
    }
   ],
   "source": [
    "name()"
   ]
  },
  {
   "cell_type": "code",
   "execution_count": 55,
   "id": "1857addd-e9bc-4dc1-a1e5-fc542da1f158",
   "metadata": {},
   "outputs": [],
   "source": [
    "def a(a = 12 , b = 22):\n",
    "    print(\"your answer is =\",a + b / (22) * 12 + a)"
   ]
  },
  {
   "cell_type": "code",
   "execution_count": 57,
   "id": "c413f8f1-26b3-45c9-8ac0-edf03a87f706",
   "metadata": {},
   "outputs": [
    {
     "name": "stdout",
     "output_type": "stream",
     "text": [
      "your answer is = 36.0\n"
     ]
    }
   ],
   "source": [
    "a()"
   ]
  },
  {
   "cell_type": "code",
   "execution_count": 62,
   "id": "1c89c846-1645-4e8e-9867-d4355e0880f6",
   "metadata": {},
   "outputs": [],
   "source": [
    "def name (mname , fname = \"shokat\" , cname = \"hayat\"):\n",
    "    print(\"hallow\" , mname , fname , cname)"
   ]
  },
  {
   "cell_type": "raw",
   "id": "6ecddfd4-ae75-4108-9a74-d4d5824e338e",
   "metadata": {},
   "source": [
    "name(\"mujtaba\")"
   ]
  },
  {
   "cell_type": "code",
   "execution_count": 24,
   "id": "6d3c5b4c-5d3a-43cc-9c5a-63fbb774bfc9",
   "metadata": {},
   "outputs": [
    {
     "name": "stdin",
     "output_type": "stream",
     "text": [
      "Enter the number 5\n"
     ]
    },
    {
     "name": "stdout",
     "output_type": "stream",
     "text": [
      "too low\n"
     ]
    },
    {
     "name": "stdin",
     "output_type": "stream",
     "text": [
      "Enter the number 7\n"
     ]
    },
    {
     "name": "stdout",
     "output_type": "stream",
     "text": [
      "too high\n"
     ]
    },
    {
     "name": "stdin",
     "output_type": "stream",
     "text": [
      "Enter the number 6\n"
     ]
    },
    {
     "name": "stdout",
     "output_type": "stream",
     "text": [
      "you win the secret number is 6\n"
     ]
    }
   ],
   "source": [
    "import random\n",
    "secretnum = random.randrange(10)\n",
    "while True:\n",
    "    user = int(input(\"Enter the number\"))\n",
    "    \n",
    "    if user < secretnum:\n",
    "        print(\"too low\")\n",
    "    elif user > secretnum:\n",
    "        print(\"too high\")\n",
    "    else:\n",
    "        print(\"you win the secret number is\" , secretnum)\n",
    "        break"
   ]
  },
  {
   "cell_type": "code",
   "execution_count": null,
   "id": "58b61ac5-9325-410a-a9f6-5158d91baeb0",
   "metadata": {},
   "outputs": [],
   "source": []
  }
 ],
 "metadata": {
  "kernelspec": {
   "display_name": "Python 3 (ipykernel)",
   "language": "python",
   "name": "python3"
  },
  "language_info": {
   "codemirror_mode": {
    "name": "ipython",
    "version": 3
   },
   "file_extension": ".py",
   "mimetype": "text/x-python",
   "name": "python",
   "nbconvert_exporter": "python",
   "pygments_lexer": "ipython3",
   "version": "3.13.5"
  }
 },
 "nbformat": 4,
 "nbformat_minor": 5
}
